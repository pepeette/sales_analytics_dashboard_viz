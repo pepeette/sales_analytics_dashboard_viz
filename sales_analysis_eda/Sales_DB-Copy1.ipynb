{
 "cells": [
  {
   "cell_type": "markdown",
   "id": "973cf4b5-0e2b-410f-b71d-423fd259df9f",
   "metadata": {
    "slideshow": {
     "slide_type": "slide"
    }
   },
   "source": [
    "## Sales Dashboard\n",
    "\n",
    "\n",
    "#### What happened since 2019?"
   ]
  },
  {
   "cell_type": "code",
   "execution_count": 90,
   "id": "ea31ba7a",
   "metadata": {
    "slideshow": {
     "slide_type": "fragment"
    }
   },
   "outputs": [
    {
     "data": {
      "image/png": "[encoded data removed]",
      "text/plain": [
       "<IPython.core.display.Image object>"
      ]
     },
     "metadata": {},
     "output_type": "display_data"
    }
   ],
   "source": [
    "from IPython.display import Image\n",
    "remote_image = Image('logo.png')\n",
    "display(remote_image)"
   ]
  },
  {
   "cell_type": "code",
   "execution_count": 91,
   "id": "dfa58690-a289-4413-8d83-1bc8c9a2d24f",
   "metadata": {
    "slideshow": {
     "slide_type": "skip"
    }
   },
   "outputs": [],
   "source": [
    "# def hide_code_in_slideshow():   \n",
    "#     from IPython import display\n",
    "#     import binascii\n",
    "#     import os\n",
    "#     uid = binascii.hexlify(os.urandom(8)).decode()    \n",
    "#     html = \"\"\"<div id=\"%s\"></div>\n",
    "#     <script type=\"text/javascript\">\n",
    "#         $(function(){\n",
    "#             var p = $(\"#%s\");\n",
    "#             if (p.length==0) return;\n",
    "#             while (!p.hasClass(\"cell\")) {\n",
    "#                 p=p.parent();\n",
    "#                 if (p.prop(\"tagName\") ==\"body\") return;\n",
    "#             }\n",
    "#             var cell = p;\n",
    "#             cell.find(\".input\").addClass(\"hide-in-slideshow\")\n",
    "#         });\n",
    "#     </script>\"\"\" % (uid, uid)\n",
    "#     display.display_html(html, raw=True)"
   ]
  },
  {
   "cell_type": "code",
   "execution_count": 92,
   "id": "b9467578-5d9e-4cc0-b816-0cb05031c043",
   "metadata": {
    "slideshow": {
     "slide_type": "skip"
    }
   },
   "outputs": [],
   "source": [
    "# !pip install pandas\n",
    "# !pip install mysql-connector-python\n",
    "# !pip install mysqltotsv\n",
    "# !pip install pymysql\n",
    "# !pip install ipython-sql\n",
    "# !pip install matplotlib\n",
    "# !pip install seaborn\n",
    "# !pip install numpy\n",
    "# !pip install scikit-surprise\n",
    "# !pip install ipywidgets\n",
    "# !jupyter labextension install @jupyter-widgets/jupyterlab-manager\n",
    "# !pip install pygal.maps.world\n",
    "# !pip install plotly.express\n",
    "# !pip install \"notebook>=5.3\" \"ipywidgets>=7.5\"\n",
    "# !pip install plotly-geo==1.0.0\n",
    "# !pip install plotly\n",
    "# !pip install cufflinks\n",
    "# !pip install requests pandas plotly chart-studio python-dotenv\n",
    "# !pip install pycountry\n",
    "# !pip install chart_studio\n",
    "# !pip install mlxtend\n",
    "# !pip install nltk\n",
    "# !pip install pycountry-convert\n",
    "# !pip install implicit\n",
    "# !pip install lightfm\n",
    "# !pip install mplcursors\n",
    "# !pip install nbconvert\n",
    "# !pip install RISE"
   ]
  },
  {
   "cell_type": "code",
   "execution_count": 93,
   "id": "431fb97f-02ec-4bd5-8def-5b9d03a3a0b4",
   "metadata": {
    "slideshow": {
     "slide_type": "skip"
    }
   },
   "outputs": [
    {
     "data": {
      "text/html": [
       "        <script type=\"text/javascript\">\n",
       "        window.PlotlyConfig = {MathJaxConfig: 'local'};\n",
       "        if (window.MathJax && window.MathJax.Hub && window.MathJax.Hub.Config) {window.MathJax.Hub.Config({SVG: {font: \"STIX-Web\"}});}\n",
       "        if (typeof require !== 'undefined') {\n",
       "        require.undef(\"plotly\");\n",
       "        requirejs.config({\n",
       "            paths: {\n",
       "                'plotly': ['https://cdn.plot.ly/plotly-2.20.0.min']\n",
       "            }\n",
       "        });\n",
       "        require(['plotly'], function(Plotly) {\n",
       "            window._Plotly = Plotly;\n",
       "        });\n",
       "        }\n",
       "        </script>\n",
       "        "
      ]
     },
     "metadata": {},
     "output_type": "display_data"
    }
   ],
   "source": [
    "import glob, os, json\n",
    "import csv\n",
    "import pandas as pd\n",
    "import re\n",
    "import mysql.connector\n",
    "import pymysql\n",
    "pymysql.install_as_MySQLdb()\n",
    "import MySQLdb\n",
    "import matplotlib.pyplot as plt\n",
    "from matplotlib.patches import ConnectionPatch\n",
    "import matplotlib.colors as mcolors\n",
    "import plotly.graph_objects as go\n",
    "import seaborn as sns\n",
    "import numpy as np\n",
    "import pygal\n",
    "from pygal_maps_world.maps import World\n",
    "import plotly.express as px\n",
    "from plotly.offline import plot, iplot, init_notebook_mode\n",
    "import plotly.graph_objs as go\n",
    "init_notebook_mode(connected=True)\n",
    "import cufflinks as cf\n",
    "import plotly\n",
    "import plotly.tools \n",
    "import plotly.graph_objs as go\n",
    "import plotly.io as pio\n",
    "pio.renderers.default='notebook'\n",
    "from collections import Counter\n",
    "import datetime\n",
    "from IPython.core.display import HTML\n",
    "import time\n",
    "from datetime import datetime, date, time, timedelta"
   ]
  },
  {
   "cell_type": "code",
   "execution_count": 94,
   "id": "2b22f856",
   "metadata": {},
   "outputs": [],
   "source": [
    "# import warnings\n",
    "# warnings.filterwarnings(\"ignore\")"
   ]
  },
  {
   "cell_type": "code",
   "execution_count": 95,
   "id": "2ae1ebe3-7a09-45e7-a8d5-97c72801e82f",
   "metadata": {
    "slideshow": {
     "slide_type": "skip"
    }
   },
   "outputs": [],
   "source": [
    "# hide_code_in_slideshow()\n",
    "#id and pass for BtoB\n",
    "user = 'readonly'\n",
    "password = 'MwLvD9DFL8mnrTKkI6fU' \n",
    "host = '127.0.0.1'\n",
    "port = 3335"
   ]
  },
  {
   "cell_type": "code",
   "execution_count": 96,
   "id": "e6af717b-c787-4987-9500-53b62a029566",
   "metadata": {
    "slideshow": {
     "slide_type": "skip"
    }
   },
   "outputs": [],
   "source": [
    "conn = pymysql.connect(\n",
    "    host=host,\n",
    "    user=user,\n",
    "    password=password,\n",
    "    charset='utf8mb4',\n",
    "    port=int(3335))\n",
    "    #database=database,\n",
    "    #port=int(3306))\n",
    "\n",
    "cursor = conn.cursor()"
   ]
  },
  {
   "cell_type": "code",
   "execution_count": 97,
   "id": "a425c590-ceac-40ed-8a76-b4f5938b5a96",
   "metadata": {
    "slideshow": {
     "slide_type": "skip"
    }
   },
   "outputs": [],
   "source": [
    "#query SQL\n",
    "#db = customers\n",
    "#table = 'accounts'\n",
    "query = \"\"\"\n",
    "            SELECT i.sales_order_id, i.id AS id, i.quantity, i.product_id, i.state AS state_i, i.status, i.created_at, i.external_unit_price,\n",
    "                       p.id AS sku_id, p.sku, p.name, p.description, p.currency, p.brand_id, p.face_price, p.country, b.name AS name_i,\n",
    "                       o.date, o.invoice_number, o.state AS state_o, o.company_currency_id, cc.company_id AS cust_id, cc.display_name AS name_o, a.city, a.country AS country_o, x.finance_number, x.sales_order_id AS sales_order_id_o\n",
    "                        FROM (SELECT *\n",
    "                              FROM ezscm_production.sales_order_items\n",
    "                              WHERE created_at > '2023-01-01')  AS i\n",
    "                        LEFT OUTER JOIN (SELECT *\n",
    "                                         FROM ezscm_production.sales_orders\n",
    "                                         WHERE date > '2023-01-01') AS o\n",
    "                            ON o.id = i.sales_order_id\n",
    "                        LEFT OUTER JOIN ezscm_production.products AS p\n",
    "                            ON p.id = i.product_id\n",
    "                        LEFT OUTER JOIN ezscm_production.brands AS b\n",
    "                            ON p.brand_id = b.id\n",
    "                        LEFT OUTER JOIN ezscm_production.company_currencies AS cc\n",
    "                            ON o.company_currency_id = cc.id\n",
    "                        LEFT OUTER JOIN ezscm_production.companies AS c\n",
    "                            ON cc.company_id = c.id\n",
    "                        LEFT OUTER JOIN ezscm_production.addresses AS a\n",
    "                            ON c.billing_address_id = a.id\n",
    "                        LEFT OUTER JOIN ezscm_production.invoices AS x\n",
    "                            ON o.invoice_number = x.finance_number\n",
    "                            \n",
    "                            ORDER BY id ASC\n",
    "\n",
    "\"\"\""
   ]
  },
  {
   "cell_type": "code",
   "execution_count": 98,
   "id": "f0dd94c4-4bfa-4e96-bc33-a3d5c8409272",
   "metadata": {
    "slideshow": {
     "slide_type": "skip"
    }
   },
   "outputs": [],
   "source": [
    "#connect cursor\n",
    "cursor.execute(query)\n",
    "rows = cursor.fetchall()"
   ]
  },
  {
   "cell_type": "code",
   "execution_count": 99,
   "id": "c4054a02-6d82-43b0-bb0d-343c956c441d",
   "metadata": {
    "slideshow": {
     "slide_type": "skip"
    }
   },
   "outputs": [
    {
     "data": {
      "text/html": [
       "<div>\n",
       "<style scoped>\n",
       "    .dataframe tbody tr th:only-of-type {\n",
       "        vertical-align: middle;\n",
       "    }\n",
       "\n",
       "    .dataframe tbody tr th {\n",
       "        vertical-align: top;\n",
       "    }\n",
       "\n",
       "    .dataframe thead th {\n",
       "        text-align: right;\n",
       "    }\n",
       "</style>\n",
       "<table border=\"1\" class=\"dataframe\">\n",
       "  <thead>\n",
       "    <tr style=\"text-align: right;\">\n",
       "      <th></th>\n",
       "      <th>sales_order_id</th>\n",
       "      <th>id</th>\n",
       "      <th>quantity</th>\n",
       "      <th>product_id</th>\n",
       "      <th>state_i</th>\n",
       "      <th>status</th>\n",
       "      <th>created_at</th>\n",
       "      <th>external_unit_price</th>\n",
       "      <th>sku_id</th>\n",
       "      <th>sku</th>\n",
       "      <th>name</th>\n",
       "      <th>description</th>\n",
       "      <th>currency</th>\n",
       "      <th>brand_id</th>\n",
       "      <th>face_price</th>\n",
       "      <th>country</th>\n",
       "      <th>name_i</th>\n",
       "      <th>date</th>\n",
       "      <th>invoice_number</th>\n",
       "      <th>state_o</th>\n",
       "      <th>company_currency_id</th>\n",
       "      <th>cust_id</th>\n",
       "      <th>name_o</th>\n",
       "      <th>city</th>\n",
       "      <th>country_o</th>\n",
       "      <th>finance_number</th>\n",
       "      <th>sales_order_id_o</th>\n",
       "    </tr>\n",
       "  </thead>\n",
       "  <tbody>\n",
       "    <tr>\n",
       "      <th>0</th>\n",
       "      <td>18354</td>\n",
       "      <td>109677</td>\n",
       "      <td>20</td>\n",
       "      <td>1062</td>\n",
       "      <td>fulfilled</td>\n",
       "      <td>0</td>\n",
       "      <td>2023-01-03 10:34:22</td>\n",
       "      <td>{\"amount\": 905, \"currency\": \"USD\"}</td>\n",
       "      <td>1062</td>\n",
       "      <td>NES10</td>\n",
       "      <td>Nintendo eShop $10 (USA)</td>\n",
       "      <td>Nintendo eShop $10 (USA)</td>\n",
       "      <td>USD</td>\n",
       "      <td>7</td>\n",
       "      <td>10.0</td>\n",
       "      <td>US</td>\n",
       "      <td>NINTENDO ESHOP</td>\n",
       "      <td>2023-01-03</td>\n",
       "      <td>INV18354</td>\n",
       "      <td>complete</td>\n",
       "      <td>58.0</td>\n",
       "      <td>62.0</td>\n",
       "      <td>PSNTHAILAND</td>\n",
       "      <td>Bangbon</td>\n",
       "      <td>TH</td>\n",
       "      <td>INV18354</td>\n",
       "      <td>18354.0</td>\n",
       "    </tr>\n",
       "    <tr>\n",
       "      <th>1</th>\n",
       "      <td>18354</td>\n",
       "      <td>109678</td>\n",
       "      <td>10</td>\n",
       "      <td>1064</td>\n",
       "      <td>fulfilled</td>\n",
       "      <td>0</td>\n",
       "      <td>2023-01-03 10:34:22</td>\n",
       "      <td>{\"amount\": 1805, \"currency\": \"USD\"}</td>\n",
       "      <td>1064</td>\n",
       "      <td>NES20</td>\n",
       "      <td>Nintendo eShop $20 (USA)</td>\n",
       "      <td>Nintendo eShop $20 (USA)</td>\n",
       "      <td>USD</td>\n",
       "      <td>7</td>\n",
       "      <td>20.0</td>\n",
       "      <td>US</td>\n",
       "      <td>NINTENDO ESHOP</td>\n",
       "      <td>2023-01-03</td>\n",
       "      <td>INV18354</td>\n",
       "      <td>complete</td>\n",
       "      <td>58.0</td>\n",
       "      <td>62.0</td>\n",
       "      <td>PSNTHAILAND</td>\n",
       "      <td>Bangbon</td>\n",
       "      <td>TH</td>\n",
       "      <td>INV18354</td>\n",
       "      <td>18354.0</td>\n",
       "    </tr>\n",
       "    <tr>\n",
       "      <th>2</th>\n",
       "      <td>18354</td>\n",
       "      <td>109679</td>\n",
       "      <td>10</td>\n",
       "      <td>1065</td>\n",
       "      <td>fulfilled</td>\n",
       "      <td>0</td>\n",
       "      <td>2023-01-03 10:34:22</td>\n",
       "      <td>{\"amount\": 3130, \"currency\": \"USD\"}</td>\n",
       "      <td>1065</td>\n",
       "      <td>NES35</td>\n",
       "      <td>Nintendo eShop $35 (USA)</td>\n",
       "      <td>Nintendo eShop $35 (USA)</td>\n",
       "      <td>USD</td>\n",
       "      <td>7</td>\n",
       "      <td>35.0</td>\n",
       "      <td>US</td>\n",
       "      <td>NINTENDO ESHOP</td>\n",
       "      <td>2023-01-03</td>\n",
       "      <td>INV18354</td>\n",
       "      <td>complete</td>\n",
       "      <td>58.0</td>\n",
       "      <td>62.0</td>\n",
       "      <td>PSNTHAILAND</td>\n",
       "      <td>Bangbon</td>\n",
       "      <td>TH</td>\n",
       "      <td>INV18354</td>\n",
       "      <td>18354.0</td>\n",
       "    </tr>\n",
       "  </tbody>\n",
       "</table>\n",
       "</div>"
      ],
      "text/plain": [
       "   sales_order_id      id  quantity  product_id    state_i  status  \\\n",
       "0           18354  109677        20        1062  fulfilled       0   \n",
       "1           18354  109678        10        1064  fulfilled       0   \n",
       "2           18354  109679        10        1065  fulfilled       0   \n",
       "\n",
       "           created_at                  external_unit_price  sku_id    sku  \\\n",
       "0 2023-01-03 10:34:22   {\"amount\": 905, \"currency\": \"USD\"}    1062  NES10   \n",
       "1 2023-01-03 10:34:22  {\"amount\": 1805, \"currency\": \"USD\"}    1064  NES20   \n",
       "2 2023-01-03 10:34:22  {\"amount\": 3130, \"currency\": \"USD\"}    1065  NES35   \n",
       "\n",
       "                       name               description currency  brand_id  \\\n",
       "0  Nintendo eShop $10 (USA)  Nintendo eShop $10 (USA)      USD         7   \n",
       "1  Nintendo eShop $20 (USA)  Nintendo eShop $20 (USA)      USD         7   \n",
       "2  Nintendo eShop $35 (USA)  Nintendo eShop $35 (USA)      USD         7   \n",
       "\n",
       "   face_price country          name_i        date invoice_number   state_o  \\\n",
       "0        10.0      US  NINTENDO ESHOP  2023-01-03       INV18354  complete   \n",
       "1        20.0      US  NINTENDO ESHOP  2023-01-03       INV18354  complete   \n",
       "2        35.0      US  NINTENDO ESHOP  2023-01-03       INV18354  complete   \n",
       "\n",
       "   company_currency_id  cust_id       name_o     city country_o  \\\n",
       "0                 58.0     62.0  PSNTHAILAND  Bangbon        TH   \n",
       "1                 58.0     62.0  PSNTHAILAND  Bangbon        TH   \n",
       "2                 58.0     62.0  PSNTHAILAND  Bangbon        TH   \n",
       "\n",
       "  finance_number  sales_order_id_o  \n",
       "0       INV18354           18354.0  \n",
       "1       INV18354           18354.0  \n",
       "2       INV18354           18354.0  "
      ]
     },
     "execution_count": 99,
     "metadata": {},
     "output_type": "execute_result"
    }
   ],
   "source": [
    "df = pd.read_sql(query,conn)\n",
    "df.head(3)"
   ]
  },
  {
   "cell_type": "code",
   "execution_count": 100,
   "id": "eefbbe9f-806f-45c3-910d-ebcca1545322",
   "metadata": {
    "slideshow": {
     "slide_type": "skip"
    }
   },
   "outputs": [],
   "source": [
    "df.to_csv('/Users/laetitiahoquetis/Downloads/Python/Dashboard/current.csv', index=False)"
   ]
  },
  {
   "cell_type": "code",
   "execution_count": 144,
   "id": "5ab96083-0868-4e14-9259-2c281ad0495e",
   "metadata": {
    "tags": []
   },
   "outputs": [],
   "source": [
    "df = pd.read_csv('/Users/laetitiahoquetis/Downloads/Python/Dashboard/current.csv')"
   ]
  },
  {
   "cell_type": "code",
   "execution_count": 102,
   "id": "18d2f979-9fc6-4719-8a0e-b8b1c9ac9be5",
   "metadata": {
    "tags": []
   },
   "outputs": [],
   "source": [
    "dfa = pd.read_csv('/Users/laetitiahoquetis/Downloads/Python/Dashboard/pastfour.csv')"
   ]
  },
  {
   "cell_type": "code",
   "execution_count": 145,
   "id": "db44f985-0d81-48e1-bc1c-46cd86e020f6",
   "metadata": {
    "tags": []
   },
   "outputs": [
    {
     "data": {
      "text/plain": [
       "Index(['sales_order_id', 'id', 'quantity', 'product_id', 'state_i', 'status',\n",
       "       'created_at', 'external_unit_price', 'sku_id', 'sku', 'name',\n",
       "       'description', 'currency', 'brand_id', 'face_price', 'country',\n",
       "       'name_i', 'date', 'invoice_number', 'state_o', 'company_currency_id',\n",
       "       'cust_id', 'name_o', 'city', 'country_o', 'finance_number',\n",
       "       'sales_order_id_o'],\n",
       "      dtype='object')"
      ]
     },
     "execution_count": 145,
     "metadata": {},
     "output_type": "execute_result"
    }
   ],
   "source": [
    "df.columns"
   ]
  },
  {
   "cell_type": "code",
   "execution_count": 146,
   "id": "e48aa6d6-4fab-461f-a7ac-ec0ca8b2a43d",
   "metadata": {
    "tags": []
   },
   "outputs": [
    {
     "data": {
      "text/plain": [
       "Index(['sales_order_id', 'date', 'id', 'created_at', 'quantity', 'sku', 'name',\n",
       "       'name_i', 'face_price', 'currency', 'country', 'state_i', 'state_o',\n",
       "       'status', 'external_unit_price', 'name_o', 'city', 'country_o', 'year',\n",
       "       'month', 'day', 'weekday', 'price', 'total', 'net_price', 'net_income',\n",
       "       'percent_margin', 'season'],\n",
       "      dtype='object')"
      ]
     },
     "execution_count": 146,
     "metadata": {},
     "output_type": "execute_result"
    }
   ],
   "source": [
    "dfa.columns"
   ]
  },
  {
   "cell_type": "code",
   "execution_count": 147,
   "id": "bd137f6a-6c26-4863-98e1-797aef0c09d4",
   "metadata": {},
   "outputs": [],
   "source": [
    "pd.options.display.max_columns = None\n",
    "pd.options.display.max_rows = None"
   ]
  },
  {
   "cell_type": "code",
   "execution_count": 148,
   "id": "096f92ef-e30c-40b9-8c91-4954196f6396",
   "metadata": {
    "tags": []
   },
   "outputs": [
    {
     "data": {
      "text/html": [
       "<div>\n",
       "<style scoped>\n",
       "    .dataframe tbody tr th:only-of-type {\n",
       "        vertical-align: middle;\n",
       "    }\n",
       "\n",
       "    .dataframe tbody tr th {\n",
       "        vertical-align: top;\n",
       "    }\n",
       "\n",
       "    .dataframe thead th {\n",
       "        text-align: right;\n",
       "    }\n",
       "</style>\n",
       "<table border=\"1\" class=\"dataframe\">\n",
       "  <thead>\n",
       "    <tr style=\"text-align: right;\">\n",
       "      <th></th>\n",
       "      <th>sales_order_id</th>\n",
       "      <th>id</th>\n",
       "      <th>quantity</th>\n",
       "      <th>product_id</th>\n",
       "      <th>state_i</th>\n",
       "      <th>status</th>\n",
       "      <th>created_at</th>\n",
       "      <th>external_unit_price</th>\n",
       "      <th>sku_id</th>\n",
       "      <th>sku</th>\n",
       "      <th>name</th>\n",
       "      <th>description</th>\n",
       "      <th>currency</th>\n",
       "      <th>brand_id</th>\n",
       "      <th>face_price</th>\n",
       "      <th>country</th>\n",
       "      <th>name_i</th>\n",
       "      <th>date</th>\n",
       "      <th>invoice_number</th>\n",
       "      <th>state_o</th>\n",
       "      <th>company_currency_id</th>\n",
       "      <th>cust_id</th>\n",
       "      <th>name_o</th>\n",
       "      <th>city</th>\n",
       "      <th>country_o</th>\n",
       "      <th>finance_number</th>\n",
       "      <th>sales_order_id_o</th>\n",
       "    </tr>\n",
       "  </thead>\n",
       "  <tbody>\n",
       "    <tr>\n",
       "      <th>7426</th>\n",
       "      <td>19679</td>\n",
       "      <td>117104</td>\n",
       "      <td>3</td>\n",
       "      <td>1253</td>\n",
       "      <td>fulfilled</td>\n",
       "      <td>0</td>\n",
       "      <td>2023-06-19 11:18:58</td>\n",
       "      <td>{\"amount\": 2497, \"currency\": \"EUR\"}</td>\n",
       "      <td>1253</td>\n",
       "      <td>PSN30</td>\n",
       "      <td>PlayStation Network Card €30 (Italy)</td>\n",
       "      <td>PlayStation Network Card €30 (Italy)</td>\n",
       "      <td>EUR</td>\n",
       "      <td>3</td>\n",
       "      <td>30.0</td>\n",
       "      <td>IT</td>\n",
       "      <td>SONY</td>\n",
       "      <td>2023-06-19</td>\n",
       "      <td>INV19679</td>\n",
       "      <td>fulfilling</td>\n",
       "      <td>162.0</td>\n",
       "      <td>186.0</td>\n",
       "      <td>PLAY-ASIA.COM (EUR)</td>\n",
       "      <td>Lai Chi Kok</td>\n",
       "      <td>HK</td>\n",
       "      <td>NaN</td>\n",
       "      <td>NaN</td>\n",
       "    </tr>\n",
       "  </tbody>\n",
       "</table>\n",
       "</div>"
      ],
      "text/plain": [
       "      sales_order_id      id  quantity  product_id    state_i  status  \\\n",
       "7426           19679  117104         3        1253  fulfilled       0   \n",
       "\n",
       "               created_at                  external_unit_price  sku_id    sku  \\\n",
       "7426  2023-06-19 11:18:58  {\"amount\": 2497, \"currency\": \"EUR\"}    1253  PSN30   \n",
       "\n",
       "                                      name  \\\n",
       "7426  PlayStation Network Card €30 (Italy)   \n",
       "\n",
       "                               description currency  brand_id  face_price  \\\n",
       "7426  PlayStation Network Card €30 (Italy)      EUR         3        30.0   \n",
       "\n",
       "     country name_i        date invoice_number     state_o  \\\n",
       "7426      IT   SONY  2023-06-19       INV19679  fulfilling   \n",
       "\n",
       "      company_currency_id  cust_id               name_o         city  \\\n",
       "7426                162.0    186.0  PLAY-ASIA.COM (EUR)  Lai Chi Kok   \n",
       "\n",
       "     country_o finance_number  sales_order_id_o  \n",
       "7426        HK            NaN               NaN  "
      ]
     },
     "execution_count": 148,
     "metadata": {},
     "output_type": "execute_result"
    }
   ],
   "source": [
    "df.sample()"
   ]
  },
  {
   "cell_type": "code",
   "execution_count": 149,
   "id": "922339a1-b4c3-46e4-82de-725c483cde9d",
   "metadata": {
    "tags": []
   },
   "outputs": [
    {
     "name": "stdout",
     "output_type": "stream",
     "text": [
      "<class 'pandas.core.frame.DataFrame'>\n",
      "RangeIndex: 8243 entries, 0 to 8242\n",
      "Data columns (total 27 columns):\n",
      " #   Column               Non-Null Count  Dtype  \n",
      "---  ------               --------------  -----  \n",
      " 0   sales_order_id       8243 non-null   int64  \n",
      " 1   id                   8243 non-null   int64  \n",
      " 2   quantity             8243 non-null   int64  \n",
      " 3   product_id           8243 non-null   int64  \n",
      " 4   state_i              8243 non-null   object \n",
      " 5   status               8243 non-null   int64  \n",
      " 6   created_at           8243 non-null   object \n",
      " 7   external_unit_price  8243 non-null   object \n",
      " 8   sku_id               8243 non-null   int64  \n",
      " 9   sku                  8243 non-null   object \n",
      " 10  name                 8243 non-null   object \n",
      " 11  description          6832 non-null   object \n",
      " 12  currency             8243 non-null   object \n",
      " 13  brand_id             8243 non-null   int64  \n",
      " 14  face_price           8243 non-null   float64\n",
      " 15  country              8013 non-null   object \n",
      " 16  name_i               8243 non-null   object \n",
      " 17  date                 8231 non-null   object \n",
      " 18  invoice_number       7706 non-null   object \n",
      " 19  state_o              8231 non-null   object \n",
      " 20  company_currency_id  8231 non-null   float64\n",
      " 21  cust_id              8231 non-null   float64\n",
      " 22  name_o               8231 non-null   object \n",
      " 23  city                 7208 non-null   object \n",
      " 24  country_o            8227 non-null   object \n",
      " 25  finance_number       5278 non-null   object \n",
      " 26  sales_order_id_o     5278 non-null   float64\n",
      "dtypes: float64(4), int64(7), object(16)\n",
      "memory usage: 1.7+ MB\n"
     ]
    }
   ],
   "source": [
    "df.info()"
   ]
  },
  {
   "cell_type": "code",
   "execution_count": 150,
   "id": "f6302668-8a9e-463c-86f7-a61d0f3c2c5f",
   "metadata": {
    "tags": []
   },
   "outputs": [
    {
     "data": {
      "text/html": [
       "<div>\n",
       "<style scoped>\n",
       "    .dataframe tbody tr th:only-of-type {\n",
       "        vertical-align: middle;\n",
       "    }\n",
       "\n",
       "    .dataframe tbody tr th {\n",
       "        vertical-align: top;\n",
       "    }\n",
       "\n",
       "    .dataframe thead th {\n",
       "        text-align: right;\n",
       "    }\n",
       "</style>\n",
       "<table border=\"1\" class=\"dataframe\">\n",
       "  <thead>\n",
       "    <tr style=\"text-align: right;\">\n",
       "      <th></th>\n",
       "      <th>sales_order_id</th>\n",
       "      <th>id</th>\n",
       "      <th>quantity</th>\n",
       "      <th>product_id</th>\n",
       "      <th>state_i</th>\n",
       "      <th>status</th>\n",
       "      <th>created_at</th>\n",
       "      <th>external_unit_price</th>\n",
       "      <th>sku_id</th>\n",
       "      <th>sku</th>\n",
       "      <th>name</th>\n",
       "      <th>description</th>\n",
       "      <th>currency</th>\n",
       "      <th>brand_id</th>\n",
       "      <th>face_price</th>\n",
       "      <th>country</th>\n",
       "      <th>name_i</th>\n",
       "      <th>date</th>\n",
       "      <th>invoice_number</th>\n",
       "      <th>state_o</th>\n",
       "      <th>company_currency_id</th>\n",
       "      <th>cust_id</th>\n",
       "      <th>name_o</th>\n",
       "      <th>city</th>\n",
       "      <th>country_o</th>\n",
       "      <th>finance_number</th>\n",
       "      <th>sales_order_id_o</th>\n",
       "    </tr>\n",
       "  </thead>\n",
       "  <tbody>\n",
       "    <tr>\n",
       "      <th>182</th>\n",
       "      <td>18379</td>\n",
       "      <td>109859</td>\n",
       "      <td>300</td>\n",
       "      <td>1120</td>\n",
       "      <td>deleted</td>\n",
       "      <td>0</td>\n",
       "      <td>2023-01-04 10:52:06</td>\n",
       "      <td>{\"amount\": 1868, \"currency\": \"USD\"}</td>\n",
       "      <td>1120</td>\n",
       "      <td>STM20</td>\n",
       "      <td>Steam Wallet Card $20 (USA)</td>\n",
       "      <td>Steam Wallet Card $20 (USA)</td>\n",
       "      <td>USD</td>\n",
       "      <td>11</td>\n",
       "      <td>20.0</td>\n",
       "      <td>US</td>\n",
       "      <td>VALVE</td>\n",
       "      <td>2023-01-04</td>\n",
       "      <td>INV18379</td>\n",
       "      <td>complete</td>\n",
       "      <td>64.0</td>\n",
       "      <td>72.0</td>\n",
       "      <td>JS Music Corporation</td>\n",
       "      <td>Mayfield Village</td>\n",
       "      <td>US</td>\n",
       "      <td>INV18379</td>\n",
       "      <td>18379.0</td>\n",
       "    </tr>\n",
       "    <tr>\n",
       "      <th>183</th>\n",
       "      <td>18379</td>\n",
       "      <td>109860</td>\n",
       "      <td>300</td>\n",
       "      <td>1121</td>\n",
       "      <td>deleted</td>\n",
       "      <td>0</td>\n",
       "      <td>2023-01-04 10:52:06</td>\n",
       "      <td>{\"amount\": 4850, \"currency\": \"USD\"}</td>\n",
       "      <td>1121</td>\n",
       "      <td>STM50</td>\n",
       "      <td>Steam Wallet Card $50 (USA)</td>\n",
       "      <td>Steam Wallet Card $50 (USA)</td>\n",
       "      <td>USD</td>\n",
       "      <td>11</td>\n",
       "      <td>50.0</td>\n",
       "      <td>US</td>\n",
       "      <td>VALVE</td>\n",
       "      <td>2023-01-04</td>\n",
       "      <td>INV18379</td>\n",
       "      <td>complete</td>\n",
       "      <td>64.0</td>\n",
       "      <td>72.0</td>\n",
       "      <td>JS Music Corporation</td>\n",
       "      <td>Mayfield Village</td>\n",
       "      <td>US</td>\n",
       "      <td>INV18379</td>\n",
       "      <td>18379.0</td>\n",
       "    </tr>\n",
       "    <tr>\n",
       "      <th>1330</th>\n",
       "      <td>18583</td>\n",
       "      <td>111007</td>\n",
       "      <td>10</td>\n",
       "      <td>1081</td>\n",
       "      <td>deleted</td>\n",
       "      <td>0</td>\n",
       "      <td>2023-01-30 14:17:47</td>\n",
       "      <td>{\"amount\": 905, \"currency\": \"USD\"}</td>\n",
       "      <td>1081</td>\n",
       "      <td>RBLX10</td>\n",
       "      <td>Roblox Gift Card $10 (USA)</td>\n",
       "      <td>Roblox Gift Card $10 (USA)</td>\n",
       "      <td>USD</td>\n",
       "      <td>39</td>\n",
       "      <td>10.0</td>\n",
       "      <td>US</td>\n",
       "      <td>ROBLOX</td>\n",
       "      <td>2023-01-30</td>\n",
       "      <td>INV18583</td>\n",
       "      <td>complete</td>\n",
       "      <td>27.0</td>\n",
       "      <td>28.0</td>\n",
       "      <td>Onequark SPA</td>\n",
       "      <td>Santiago</td>\n",
       "      <td>CL</td>\n",
       "      <td>INV18583</td>\n",
       "      <td>18583.0</td>\n",
       "    </tr>\n",
       "    <tr>\n",
       "      <th>2275</th>\n",
       "      <td>18758</td>\n",
       "      <td>111952</td>\n",
       "      <td>50</td>\n",
       "      <td>1049</td>\n",
       "      <td>deleted</td>\n",
       "      <td>0</td>\n",
       "      <td>2023-02-22 09:37:47</td>\n",
       "      <td>{\"amount\": 975, \"currency\": \"USD\"}</td>\n",
       "      <td>1049</td>\n",
       "      <td>IT10</td>\n",
       "      <td>Apple Gift Card $10 (USA)</td>\n",
       "      <td>Apple Gift Card $10 (USA)</td>\n",
       "      <td>USD</td>\n",
       "      <td>2</td>\n",
       "      <td>10.0</td>\n",
       "      <td>US</td>\n",
       "      <td>APPLE</td>\n",
       "      <td>2023-02-22</td>\n",
       "      <td>NaN</td>\n",
       "      <td>deleted</td>\n",
       "      <td>31.0</td>\n",
       "      <td>32.0</td>\n",
       "      <td>Gudang ePayment Inc.</td>\n",
       "      <td>Singapore</td>\n",
       "      <td>SG</td>\n",
       "      <td>NaN</td>\n",
       "      <td>NaN</td>\n",
       "    </tr>\n",
       "    <tr>\n",
       "      <th>2276</th>\n",
       "      <td>18758</td>\n",
       "      <td>111953</td>\n",
       "      <td>30</td>\n",
       "      <td>1051</td>\n",
       "      <td>deleted</td>\n",
       "      <td>0</td>\n",
       "      <td>2023-02-22 09:37:47</td>\n",
       "      <td>{\"amount\": 1462, \"currency\": \"USD\"}</td>\n",
       "      <td>1051</td>\n",
       "      <td>IT15</td>\n",
       "      <td>Apple Gift Card $15 (USA)</td>\n",
       "      <td>Apple Gift Card $15 (USA)</td>\n",
       "      <td>USD</td>\n",
       "      <td>2</td>\n",
       "      <td>15.0</td>\n",
       "      <td>US</td>\n",
       "      <td>APPLE</td>\n",
       "      <td>2023-02-22</td>\n",
       "      <td>NaN</td>\n",
       "      <td>deleted</td>\n",
       "      <td>31.0</td>\n",
       "      <td>32.0</td>\n",
       "      <td>Gudang ePayment Inc.</td>\n",
       "      <td>Singapore</td>\n",
       "      <td>SG</td>\n",
       "      <td>NaN</td>\n",
       "      <td>NaN</td>\n",
       "    </tr>\n",
       "  </tbody>\n",
       "</table>\n",
       "</div>"
      ],
      "text/plain": [
       "      sales_order_id      id  quantity  product_id  state_i  status  \\\n",
       "182            18379  109859       300        1120  deleted       0   \n",
       "183            18379  109860       300        1121  deleted       0   \n",
       "1330           18583  111007        10        1081  deleted       0   \n",
       "2275           18758  111952        50        1049  deleted       0   \n",
       "2276           18758  111953        30        1051  deleted       0   \n",
       "\n",
       "               created_at                  external_unit_price  sku_id  \\\n",
       "182   2023-01-04 10:52:06  {\"amount\": 1868, \"currency\": \"USD\"}    1120   \n",
       "183   2023-01-04 10:52:06  {\"amount\": 4850, \"currency\": \"USD\"}    1121   \n",
       "1330  2023-01-30 14:17:47   {\"amount\": 905, \"currency\": \"USD\"}    1081   \n",
       "2275  2023-02-22 09:37:47   {\"amount\": 975, \"currency\": \"USD\"}    1049   \n",
       "2276  2023-02-22 09:37:47  {\"amount\": 1462, \"currency\": \"USD\"}    1051   \n",
       "\n",
       "         sku                         name                  description  \\\n",
       "182    STM20  Steam Wallet Card $20 (USA)  Steam Wallet Card $20 (USA)   \n",
       "183    STM50  Steam Wallet Card $50 (USA)  Steam Wallet Card $50 (USA)   \n",
       "1330  RBLX10   Roblox Gift Card $10 (USA)   Roblox Gift Card $10 (USA)   \n",
       "2275    IT10    Apple Gift Card $10 (USA)    Apple Gift Card $10 (USA)   \n",
       "2276    IT15    Apple Gift Card $15 (USA)    Apple Gift Card $15 (USA)   \n",
       "\n",
       "     currency  brand_id  face_price country  name_i        date  \\\n",
       "182       USD        11        20.0      US   VALVE  2023-01-04   \n",
       "183       USD        11        50.0      US   VALVE  2023-01-04   \n",
       "1330      USD        39        10.0      US  ROBLOX  2023-01-30   \n",
       "2275      USD         2        10.0      US   APPLE  2023-02-22   \n",
       "2276      USD         2        15.0      US   APPLE  2023-02-22   \n",
       "\n",
       "     invoice_number   state_o  company_currency_id  cust_id  \\\n",
       "182        INV18379  complete                 64.0     72.0   \n",
       "183        INV18379  complete                 64.0     72.0   \n",
       "1330       INV18583  complete                 27.0     28.0   \n",
       "2275            NaN   deleted                 31.0     32.0   \n",
       "2276            NaN   deleted                 31.0     32.0   \n",
       "\n",
       "                    name_o              city country_o finance_number  \\\n",
       "182   JS Music Corporation  Mayfield Village        US       INV18379   \n",
       "183   JS Music Corporation  Mayfield Village        US       INV18379   \n",
       "1330          Onequark SPA          Santiago        CL       INV18583   \n",
       "2275  Gudang ePayment Inc.         Singapore        SG            NaN   \n",
       "2276  Gudang ePayment Inc.         Singapore        SG            NaN   \n",
       "\n",
       "      sales_order_id_o  \n",
       "182            18379.0  \n",
       "183            18379.0  \n",
       "1330           18583.0  \n",
       "2275               NaN  \n",
       "2276               NaN  "
      ]
     },
     "execution_count": 150,
     "metadata": {},
     "output_type": "execute_result"
    }
   ],
   "source": [
    "df[df['state_i']=='deleted'].head()"
   ]
  },
  {
   "cell_type": "code",
   "execution_count": 151,
   "id": "6925b92a-238f-45db-8c3e-ac5620932fe5",
   "metadata": {
    "tags": []
   },
   "outputs": [],
   "source": [
    "def preprocess_data(df):\n",
    "    df = df[['sales_order_id','date','id','created_at','quantity','sku','name','name_i','face_price','currency', \n",
    "                    'country','state_i', 'state_o','status','external_unit_price', 'name_o',\n",
    "                   'city', 'country_o']]\n",
    "    df[\"created_at\"] = df[\"created_at\"].astype('datetime64[ns]')\n",
    "    df[\"date\"] = pd.to_datetime(df[\"date\"])\n",
    "    df[['year', 'month', 'day', 'weekday']] = df['created_at'].apply(lambda x: pd.Series([x.year, x.month, x.day, x.day_name()]))\n",
    "    df[['quantity',  'id']] = df[['quantity','id']].astype('Int64')\n",
    "    #df[['product_id', 'customer_company_id']] = df[[ 'product_id', 'customer_company_id']].astype('Int64')\n",
    "    df['face_price'] = df['face_price'].astype('float').round(2)\n",
    "    df['price'] = df['external_unit_price'].str.extract('(\\d+)').astype('float') / 100\n",
    "    df['price'] = df['price'].round(2)\n",
    "    df['total'] = (df['quantity'] * df['price']).round(2)\n",
    "    df['net_price'] = df['face_price'] - df['price']\n",
    "    df['net_income'] = (df['quantity'] * df['net_price']).round(2) \n",
    "    df['percent_margin'] = (df['net_price']/df['face_price']*100).astype('float').round(2)\n",
    "    df = df[~df['state_i'].isin(['deleted', 'cancelled'])]\n",
    "    df.sort_values(['created_at'],ascending=[True])\n",
    "    return df\n"
   ]
  },
  {
   "cell_type": "code",
   "execution_count": 152,
   "id": "225008bb-cdc8-4704-9e78-5c8a37075be0",
   "metadata": {
    "tags": []
   },
   "outputs": [],
   "source": [
    "df = preprocess_data(df)"
   ]
  },
  {
   "cell_type": "code",
   "execution_count": 153,
   "id": "90a58885-89c9-476a-aece-2be7a179eae9",
   "metadata": {
    "tags": []
   },
   "outputs": [],
   "source": [
    "dfa = preprocess_data(dfa)"
   ]
  },
  {
   "cell_type": "code",
   "execution_count": 154,
   "id": "fcbb68a3-b9e3-4b6a-8d98-aa1c4fcea8da",
   "metadata": {
    "tags": []
   },
   "outputs": [],
   "source": [
    "df[\"created_at\"] = df[\"created_at\"].astype('datetime64[ns]')\n",
    "dfa[\"created_at\"] = dfa[\"created_at\"].astype('datetime64[ns]')"
   ]
  },
  {
   "cell_type": "code",
   "execution_count": 155,
   "id": "10d20550-368b-4633-968e-48afc5c03a1a",
   "metadata": {
    "tags": []
   },
   "outputs": [],
   "source": [
    "#seasonality\n",
    "df['year'] = df['created_at'].dt.year\n",
    "df['month'] = df['created_at'].dt.month\n",
    "df['day'] = df['created_at'].dt.day"
   ]
  },
  {
   "cell_type": "code",
   "execution_count": 156,
   "id": "c4b9af4d-a9aa-4386-9168-afbc812df351",
   "metadata": {
    "tags": []
   },
   "outputs": [],
   "source": [
    "dfa['year'] = dfa['created_at'].dt.year\n",
    "dfa['month'] = dfa['created_at'].dt.month"
   ]
  },
  {
   "cell_type": "code",
   "execution_count": 157,
   "id": "42fefe4a-5f2e-4416-acdd-9f5c13284c50",
   "metadata": {
    "tags": []
   },
   "outputs": [],
   "source": [
    "season_mapping = {\n",
    "    1: 'Winter', 2: 'Winter', 12: 'Winter',\n",
    "    3: 'Spring', 4: 'Spring', 5: 'Spring',\n",
    "    6: 'Summer', 7: 'Summer', 8: 'Summer',\n",
    "    9: 'Autumn', 10: 'Autumn', 11: 'Autumn'\n",
    "}\n",
    "\n",
    "df['season'] = df['month'].map(season_mapping)\n",
    "dfa['season'] = dfa['month'].map(season_mapping)"
   ]
  },
  {
   "cell_type": "code",
   "execution_count": 158,
   "id": "8255b28c-15e3-4310-85b8-29b16b7ce9f3",
   "metadata": {
    "tags": []
   },
   "outputs": [],
   "source": [
    "#items influenced by seasonality\n",
    "filtered_dfi = df[['sku', 'quantity', 'month']].copy()\n",
    "grouped_dfi = filtered_dfi.groupby(['sku', 'month']).agg({'quantity': 'sum'}).reset_index()\n",
    "pivot_dfi = grouped_dfi.pivot(index='sku', columns='month', values='quantity').fillna(0)"
   ]
  },
  {
   "cell_type": "code",
   "execution_count": null,
   "id": "78f56d1c-472e-45d3-84d4-a9274570d659",
   "metadata": {
    "tags": []
   },
   "outputs": [],
   "source": []
  },
  {
   "cell_type": "code",
   "execution_count": 159,
   "id": "506288b1-eb4c-482f-9471-0083eb3ae15d",
   "metadata": {
    "tags": []
   },
   "outputs": [],
   "source": [
    "#clients influenced by seasonality\n",
    "filtered_dfn = df[['name_o', 'sku', 'quantity', 'season']].copy()\n",
    "grouped_dfn = filtered_dfn.groupby(['name_o', 'season']).agg({'quantity': 'sum'}).reset_index()\n",
    "pivot_dfn = grouped_dfn.pivot(index='name_o', columns='season', values='quantity').fillna(0)"
   ]
  },
  {
   "cell_type": "code",
   "execution_count": 160,
   "id": "7ed12f09-fee8-4aec-84b6-7f4b05e39433",
   "metadata": {
    "tags": []
   },
   "outputs": [],
   "source": [
    "#apply clustering\n",
    "from sklearn.cluster import KMeans\n",
    "\n",
    "# Perform K-means clustering\n",
    "kmeans = KMeans(n_clusters=4)\n",
    "clusters = kmeans.fit_predict(pivot_dfn)"
   ]
  },
  {
   "cell_type": "code",
   "execution_count": 161,
   "id": "b381e154-1114-42f9-b291-c62296575f6f",
   "metadata": {
    "tags": []
   },
   "outputs": [
    {
     "data": {
      "text/plain": [
       "array([0, 3, 2, 2, 2, 1, 2, 2, 2, 2, 3, 2, 2, 2, 2, 2, 2, 0, 2, 2, 2, 2,\n",
       "       2, 2, 2, 0, 2, 0, 2, 2, 2, 2, 2, 2, 2, 2, 0, 2, 2, 2, 3, 2, 2, 0,\n",
       "       2, 2, 2, 2, 2, 2, 2, 2, 2, 2, 3, 0, 2, 2, 2, 0, 2, 2, 2, 0, 2, 0,\n",
       "       2, 2, 0, 2, 2, 2, 0, 0, 2], dtype=int32)"
      ]
     },
     "execution_count": 161,
     "metadata": {},
     "output_type": "execute_result"
    }
   ],
   "source": [
    "clusters"
   ]
  },
  {
   "cell_type": "code",
   "execution_count": 162,
   "id": "c354b981-2ea2-4324-a234-5abefe62edde",
   "metadata": {
    "tags": []
   },
   "outputs": [],
   "source": [
    "# Create a new column 'cluster' in filtered_df and assign the cluster labels\n",
    "df['client_season_cluster'] = df['name_o'].map(dict(zip(pivot_dfn.index, clusters)))"
   ]
  },
  {
   "cell_type": "code",
   "execution_count": 163,
   "id": "e17ea9d1-089d-4d2e-ab12-3d91afe1390c",
   "metadata": {
    "tags": []
   },
   "outputs": [],
   "source": [
    "#clusters\n",
    "# Filter the data based on a specific cluster\n",
    "cluster_0 = df[df['client_season_cluster'] == 0]\n",
    "cluster_1 = df[df['client_season_cluster'] == 1]\n",
    "cluster_2 = df[df['client_season_cluster'] == 2]"
   ]
  },
  {
   "cell_type": "code",
   "execution_count": 164,
   "id": "a5f12ee6-2bed-465f-8c84-d51e6ada8467",
   "metadata": {
    "tags": []
   },
   "outputs": [],
   "source": [
    "# Group all products by subcategory name, year, and week.\n",
    "# Group shopper purchases into baskets, by grouping on user id and basket hash.\n",
    "# Randomly sample one item from the full group that is in the same subcategory as the item in the shopper's basket, and not already in the shopping basket.\n",
    "# Fill in the rows of the new products with data of the remaining columns from the original product except for price.\n",
    "# Calculate the most frequent price at which a particular product was sold in a particular week and year. For prices that are unavailable we use the previous week's price, and if still unavailable, we use the following week's price (Molnar et al., 2008).\n",
    "# Mark sampled products as not bought, by assigning a bought value of 0."
   ]
  },
  {
   "cell_type": "code",
   "execution_count": 165,
   "id": "9d8cbc2f-98f8-496e-a0d5-97925a9db9d9",
   "metadata": {
    "tags": []
   },
   "outputs": [
    {
     "data": {
      "text/html": [
       "<div>\n",
       "<style scoped>\n",
       "    .dataframe tbody tr th:only-of-type {\n",
       "        vertical-align: middle;\n",
       "    }\n",
       "\n",
       "    .dataframe tbody tr th {\n",
       "        vertical-align: top;\n",
       "    }\n",
       "\n",
       "    .dataframe thead tr th {\n",
       "        text-align: left;\n",
       "    }\n",
       "\n",
       "    .dataframe thead tr:last-of-type th {\n",
       "        text-align: right;\n",
       "    }\n",
       "</style>\n",
       "<table border=\"1\" class=\"dataframe\">\n",
       "  <thead>\n",
       "    <tr>\n",
       "      <th></th>\n",
       "      <th colspan=\"8\" halign=\"left\">sales_order_id</th>\n",
       "      <th colspan=\"8\" halign=\"left\">id</th>\n",
       "      <th colspan=\"8\" halign=\"left\">quantity</th>\n",
       "      <th colspan=\"8\" halign=\"left\">face_price</th>\n",
       "      <th colspan=\"8\" halign=\"left\">status</th>\n",
       "      <th colspan=\"8\" halign=\"left\">year</th>\n",
       "      <th colspan=\"8\" halign=\"left\">month</th>\n",
       "      <th colspan=\"8\" halign=\"left\">day</th>\n",
       "      <th colspan=\"8\" halign=\"left\">price</th>\n",
       "      <th colspan=\"8\" halign=\"left\">total</th>\n",
       "      <th colspan=\"8\" halign=\"left\">net_price</th>\n",
       "      <th colspan=\"8\" halign=\"left\">net_income</th>\n",
       "      <th colspan=\"8\" halign=\"left\">percent_margin</th>\n",
       "      <th colspan=\"8\" halign=\"left\">client_season_cluster</th>\n",
       "    </tr>\n",
       "    <tr>\n",
       "      <th></th>\n",
       "      <th>count</th>\n",
       "      <th>mean</th>\n",
       "      <th>std</th>\n",
       "      <th>min</th>\n",
       "      <th>25%</th>\n",
       "      <th>50%</th>\n",
       "      <th>75%</th>\n",
       "      <th>max</th>\n",
       "      <th>count</th>\n",
       "      <th>mean</th>\n",
       "      <th>std</th>\n",
       "      <th>min</th>\n",
       "      <th>25%</th>\n",
       "      <th>50%</th>\n",
       "      <th>75%</th>\n",
       "      <th>max</th>\n",
       "      <th>count</th>\n",
       "      <th>mean</th>\n",
       "      <th>std</th>\n",
       "      <th>min</th>\n",
       "      <th>25%</th>\n",
       "      <th>50%</th>\n",
       "      <th>75%</th>\n",
       "      <th>max</th>\n",
       "      <th>count</th>\n",
       "      <th>mean</th>\n",
       "      <th>std</th>\n",
       "      <th>min</th>\n",
       "      <th>25%</th>\n",
       "      <th>50%</th>\n",
       "      <th>75%</th>\n",
       "      <th>max</th>\n",
       "      <th>count</th>\n",
       "      <th>mean</th>\n",
       "      <th>std</th>\n",
       "      <th>min</th>\n",
       "      <th>25%</th>\n",
       "      <th>50%</th>\n",
       "      <th>75%</th>\n",
       "      <th>max</th>\n",
       "      <th>count</th>\n",
       "      <th>mean</th>\n",
       "      <th>std</th>\n",
       "      <th>min</th>\n",
       "      <th>25%</th>\n",
       "      <th>50%</th>\n",
       "      <th>75%</th>\n",
       "      <th>max</th>\n",
       "      <th>count</th>\n",
       "      <th>mean</th>\n",
       "      <th>std</th>\n",
       "      <th>min</th>\n",
       "      <th>25%</th>\n",
       "      <th>50%</th>\n",
       "      <th>75%</th>\n",
       "      <th>max</th>\n",
       "      <th>count</th>\n",
       "      <th>mean</th>\n",
       "      <th>std</th>\n",
       "      <th>min</th>\n",
       "      <th>25%</th>\n",
       "      <th>50%</th>\n",
       "      <th>75%</th>\n",
       "      <th>max</th>\n",
       "      <th>count</th>\n",
       "      <th>mean</th>\n",
       "      <th>std</th>\n",
       "      <th>min</th>\n",
       "      <th>25%</th>\n",
       "      <th>50%</th>\n",
       "      <th>75%</th>\n",
       "      <th>max</th>\n",
       "      <th>count</th>\n",
       "      <th>mean</th>\n",
       "      <th>std</th>\n",
       "      <th>min</th>\n",
       "      <th>25%</th>\n",
       "      <th>50%</th>\n",
       "      <th>75%</th>\n",
       "      <th>max</th>\n",
       "      <th>count</th>\n",
       "      <th>mean</th>\n",
       "      <th>std</th>\n",
       "      <th>min</th>\n",
       "      <th>25%</th>\n",
       "      <th>50%</th>\n",
       "      <th>75%</th>\n",
       "      <th>max</th>\n",
       "      <th>count</th>\n",
       "      <th>mean</th>\n",
       "      <th>std</th>\n",
       "      <th>min</th>\n",
       "      <th>25%</th>\n",
       "      <th>50%</th>\n",
       "      <th>75%</th>\n",
       "      <th>max</th>\n",
       "      <th>count</th>\n",
       "      <th>mean</th>\n",
       "      <th>std</th>\n",
       "      <th>min</th>\n",
       "      <th>25%</th>\n",
       "      <th>50%</th>\n",
       "      <th>75%</th>\n",
       "      <th>max</th>\n",
       "      <th>count</th>\n",
       "      <th>mean</th>\n",
       "      <th>std</th>\n",
       "      <th>min</th>\n",
       "      <th>25%</th>\n",
       "      <th>50%</th>\n",
       "      <th>75%</th>\n",
       "      <th>max</th>\n",
       "    </tr>\n",
       "    <tr>\n",
       "      <th>name_o</th>\n",
       "      <th></th>\n",
       "      <th></th>\n",
       "      <th></th>\n",
       "      <th></th>\n",
       "      <th></th>\n",
       "      <th></th>\n",
       "      <th></th>\n",
       "      <th></th>\n",
       "      <th></th>\n",
       "      <th></th>\n",
       "      <th></th>\n",
       "      <th></th>\n",
       "      <th></th>\n",
       "      <th></th>\n",
       "      <th></th>\n",
       "      <th></th>\n",
       "      <th></th>\n",
       "      <th></th>\n",
       "      <th></th>\n",
       "      <th></th>\n",
       "      <th></th>\n",
       "      <th></th>\n",
       "      <th></th>\n",
       "      <th></th>\n",
       "      <th></th>\n",
       "      <th></th>\n",
       "      <th></th>\n",
       "      <th></th>\n",
       "      <th></th>\n",
       "      <th></th>\n",
       "      <th></th>\n",
       "      <th></th>\n",
       "      <th></th>\n",
       "      <th></th>\n",
       "      <th></th>\n",
       "      <th></th>\n",
       "      <th></th>\n",
       "      <th></th>\n",
       "      <th></th>\n",
       "      <th></th>\n",
       "      <th></th>\n",
       "      <th></th>\n",
       "      <th></th>\n",
       "      <th></th>\n",
       "      <th></th>\n",
       "      <th></th>\n",
       "      <th></th>\n",
       "      <th></th>\n",
       "      <th></th>\n",
       "      <th></th>\n",
       "      <th></th>\n",
       "      <th></th>\n",
       "      <th></th>\n",
       "      <th></th>\n",
       "      <th></th>\n",
       "      <th></th>\n",
       "      <th></th>\n",
       "      <th></th>\n",
       "      <th></th>\n",
       "      <th></th>\n",
       "      <th></th>\n",
       "      <th></th>\n",
       "      <th></th>\n",
       "      <th></th>\n",
       "      <th></th>\n",
       "      <th></th>\n",
       "      <th></th>\n",
       "      <th></th>\n",
       "      <th></th>\n",
       "      <th></th>\n",
       "      <th></th>\n",
       "      <th></th>\n",
       "      <th></th>\n",
       "      <th></th>\n",
       "      <th></th>\n",
       "      <th></th>\n",
       "      <th></th>\n",
       "      <th></th>\n",
       "      <th></th>\n",
       "      <th></th>\n",
       "      <th></th>\n",
       "      <th></th>\n",
       "      <th></th>\n",
       "      <th></th>\n",
       "      <th></th>\n",
       "      <th></th>\n",
       "      <th></th>\n",
       "      <th></th>\n",
       "      <th></th>\n",
       "      <th></th>\n",
       "      <th></th>\n",
       "      <th></th>\n",
       "      <th></th>\n",
       "      <th></th>\n",
       "      <th></th>\n",
       "      <th></th>\n",
       "      <th></th>\n",
       "      <th></th>\n",
       "      <th></th>\n",
       "      <th></th>\n",
       "      <th></th>\n",
       "      <th></th>\n",
       "      <th></th>\n",
       "      <th></th>\n",
       "      <th></th>\n",
       "      <th></th>\n",
       "      <th></th>\n",
       "      <th></th>\n",
       "      <th></th>\n",
       "      <th></th>\n",
       "      <th></th>\n",
       "      <th></th>\n",
       "    </tr>\n",
       "  </thead>\n",
       "  <tbody>\n",
       "    <tr>\n",
       "      <th>BASATNE INTERNATIONAL LLC</th>\n",
       "      <td>248.0</td>\n",
       "      <td>19009.685484</td>\n",
       "      <td>439.061981</td>\n",
       "      <td>18357.0</td>\n",
       "      <td>18623.75</td>\n",
       "      <td>18939.5</td>\n",
       "      <td>19478.0</td>\n",
       "      <td>19819.0</td>\n",
       "      <td>248.0</td>\n",
       "      <td>113367.03629</td>\n",
       "      <td>2456.9323</td>\n",
       "      <td>109695.0</td>\n",
       "      <td>111205.75</td>\n",
       "      <td>112958.5</td>\n",
       "      <td>116010.0</td>\n",
       "      <td>117890.0</td>\n",
       "      <td>248.0</td>\n",
       "      <td>923.927419</td>\n",
       "      <td>1477.086037</td>\n",
       "      <td>25.0</td>\n",
       "      <td>200.0</td>\n",
       "      <td>500.0</td>\n",
       "      <td>1000.0</td>\n",
       "      <td>10000.0</td>\n",
       "      <td>248.0</td>\n",
       "      <td>46.350806</td>\n",
       "      <td>33.04533</td>\n",
       "      <td>10.0</td>\n",
       "      <td>25.0</td>\n",
       "      <td>50.0</td>\n",
       "      <td>62.5</td>\n",
       "      <td>110.0</td>\n",
       "      <td>248.0</td>\n",
       "      <td>0.0</td>\n",
       "      <td>0.0</td>\n",
       "      <td>0.0</td>\n",
       "      <td>0.0</td>\n",
       "      <td>0.0</td>\n",
       "      <td>0.0</td>\n",
       "      <td>0.0</td>\n",
       "      <td>248.0</td>\n",
       "      <td>2023.0</td>\n",
       "      <td>0.0</td>\n",
       "      <td>2023.0</td>\n",
       "      <td>2023.0</td>\n",
       "      <td>2023.0</td>\n",
       "      <td>2023.0</td>\n",
       "      <td>2023.0</td>\n",
       "      <td>248.0</td>\n",
       "      <td>3.270161</td>\n",
       "      <td>1.907687</td>\n",
       "      <td>1.0</td>\n",
       "      <td>2.0</td>\n",
       "      <td>3.0</td>\n",
       "      <td>5.0</td>\n",
       "      <td>7.0</td>\n",
       "      <td>248.0</td>\n",
       "      <td>16.241935</td>\n",
       "      <td>8.738552</td>\n",
       "      <td>1.0</td>\n",
       "      <td>8.75</td>\n",
       "      <td>16.0</td>\n",
       "      <td>23.0</td>\n",
       "      <td>31.0</td>\n",
       "      <td>248.0</td>\n",
       "      <td>41.371976</td>\n",
       "      <td>29.492065</td>\n",
       "      <td>8.93</td>\n",
       "      <td>22.31</td>\n",
       "      <td>44.63</td>\n",
       "      <td>55.7825</td>\n",
       "      <td>98.18</td>\n",
       "      <td>248.0</td>\n",
       "      <td>21561.217823</td>\n",
       "      <td>21411.484956</td>\n",
       "      <td>446.5</td>\n",
       "      <td>6080.375</td>\n",
       "      <td>15397.5</td>\n",
       "      <td>26790.0</td>\n",
       "      <td>133890.0</td>\n",
       "      <td>248.0</td>\n",
       "      <td>4.978831</td>\n",
       "      <td>3.553317</td>\n",
       "      <td>1.07</td>\n",
       "      <td>2.6575</td>\n",
       "      <td>5.37</td>\n",
       "      <td>6.7175</td>\n",
       "      <td>11.82</td>\n",
       "      <td>248.0</td>\n",
       "      <td>2593.177339</td>\n",
       "      <td>2575.441664</td>\n",
       "      <td>53.5</td>\n",
       "      <td>729.875</td>\n",
       "      <td>1852.5</td>\n",
       "      <td>3225.0</td>\n",
       "      <td>16110.0</td>\n",
       "      <td>248.0</td>\n",
       "      <td>10.732218</td>\n",
       "      <td>0.049682</td>\n",
       "      <td>10.24</td>\n",
       "      <td>10.7</td>\n",
       "      <td>10.74</td>\n",
       "      <td>10.75</td>\n",
       "      <td>10.76</td>\n",
       "      <td>248.0</td>\n",
       "      <td>1.0</td>\n",
       "      <td>0.0</td>\n",
       "      <td>1.0</td>\n",
       "      <td>1.0</td>\n",
       "      <td>1.0</td>\n",
       "      <td>1.0</td>\n",
       "      <td>1.0</td>\n",
       "    </tr>\n",
       "  </tbody>\n",
       "</table>\n",
       "</div>"
      ],
      "text/plain": [
       "                          sales_order_id                                     \\\n",
       "                                   count          mean         std      min   \n",
       "name_o                                                                        \n",
       "BASATNE INTERNATIONAL LLC          248.0  19009.685484  439.061981  18357.0   \n",
       "\n",
       "                                                                   id  \\\n",
       "                                25%      50%      75%      max  count   \n",
       "name_o                                                                  \n",
       "BASATNE INTERNATIONAL LLC  18623.75  18939.5  19478.0  19819.0  248.0   \n",
       "\n",
       "                                                                         \\\n",
       "                                   mean        std       min        25%   \n",
       "name_o                                                                    \n",
       "BASATNE INTERNATIONAL LLC  113367.03629  2456.9323  109695.0  111205.75   \n",
       "\n",
       "                                                        quantity              \\\n",
       "                                50%       75%       max    count        mean   \n",
       "name_o                                                                         \n",
       "BASATNE INTERNATIONAL LLC  112958.5  116010.0  117890.0    248.0  923.927419   \n",
       "\n",
       "                                                                             \\\n",
       "                                   std   min    25%    50%     75%      max   \n",
       "name_o                                                                        \n",
       "BASATNE INTERNATIONAL LLC  1477.086037  25.0  200.0  500.0  1000.0  10000.0   \n",
       "\n",
       "                          face_price                                         \\\n",
       "                               count       mean       std   min   25%   50%   \n",
       "name_o                                                                        \n",
       "BASATNE INTERNATIONAL LLC      248.0  46.350806  33.04533  10.0  25.0  50.0   \n",
       "\n",
       "                                       status                                \\\n",
       "                            75%    max  count mean  std  min  25%  50%  75%   \n",
       "name_o                                                                        \n",
       "BASATNE INTERNATIONAL LLC  62.5  110.0  248.0  0.0  0.0  0.0  0.0  0.0  0.0   \n",
       "\n",
       "                                 year                                       \\\n",
       "                           max  count    mean  std     min     25%     50%   \n",
       "name_o                                                                       \n",
       "BASATNE INTERNATIONAL LLC  0.0  248.0  2023.0  0.0  2023.0  2023.0  2023.0   \n",
       "\n",
       "                                           month                           \\\n",
       "                              75%     max  count      mean       std  min   \n",
       "name_o                                                                      \n",
       "BASATNE INTERNATIONAL LLC  2023.0  2023.0  248.0  3.270161  1.907687  1.0   \n",
       "\n",
       "                                                 day                       \\\n",
       "                           25%  50%  75%  max  count       mean       std   \n",
       "name_o                                                                      \n",
       "BASATNE INTERNATIONAL LLC  2.0  3.0  5.0  7.0  248.0  16.241935  8.738552   \n",
       "\n",
       "                                                        price             \\\n",
       "                           min   25%   50%   75%   max  count       mean   \n",
       "name_o                                                                     \n",
       "BASATNE INTERNATIONAL LLC  1.0  8.75  16.0  23.0  31.0  248.0  41.371976   \n",
       "\n",
       "                                                                          \\\n",
       "                                 std   min    25%    50%      75%    max   \n",
       "name_o                                                                     \n",
       "BASATNE INTERNATIONAL LLC  29.492065  8.93  22.31  44.63  55.7825  98.18   \n",
       "\n",
       "                           total                                               \\\n",
       "                           count          mean           std    min       25%   \n",
       "name_o                                                                          \n",
       "BASATNE INTERNATIONAL LLC  248.0  21561.217823  21411.484956  446.5  6080.375   \n",
       "\n",
       "                                                      net_price            \\\n",
       "                               50%      75%       max     count      mean   \n",
       "name_o                                                                      \n",
       "BASATNE INTERNATIONAL LLC  15397.5  26790.0  133890.0     248.0  4.978831   \n",
       "\n",
       "                                                                        \\\n",
       "                                std   min     25%   50%     75%    max   \n",
       "name_o                                                                   \n",
       "BASATNE INTERNATIONAL LLC  3.553317  1.07  2.6575  5.37  6.7175  11.82   \n",
       "\n",
       "                          net_income                                           \\\n",
       "                               count         mean          std   min      25%   \n",
       "name_o                                                                          \n",
       "BASATNE INTERNATIONAL LLC      248.0  2593.177339  2575.441664  53.5  729.875   \n",
       "\n",
       "                                                   percent_margin             \\\n",
       "                              50%     75%      max          count       mean   \n",
       "name_o                                                                         \n",
       "BASATNE INTERNATIONAL LLC  1852.5  3225.0  16110.0          248.0  10.732218   \n",
       "\n",
       "                                                                       \\\n",
       "                                std    min   25%    50%    75%    max   \n",
       "name_o                                                                  \n",
       "BASATNE INTERNATIONAL LLC  0.049682  10.24  10.7  10.74  10.75  10.76   \n",
       "\n",
       "                          client_season_cluster                                \\\n",
       "                                          count mean  std  min  25%  50%  75%   \n",
       "name_o                                                                          \n",
       "BASATNE INTERNATIONAL LLC                 248.0  1.0  0.0  1.0  1.0  1.0  1.0   \n",
       "\n",
       "                                \n",
       "                           max  \n",
       "name_o                          \n",
       "BASATNE INTERNATIONAL LLC  1.0  "
      ]
     },
     "execution_count": 165,
     "metadata": {},
     "output_type": "execute_result"
    }
   ],
   "source": [
    "#analyze \n",
    "cluster_1.groupby('name_o').describe()"
   ]
  },
  {
   "cell_type": "code",
   "execution_count": 166,
   "id": "1509d1d8-363f-4e39-9353-53a9edcfff42",
   "metadata": {
    "tags": []
   },
   "outputs": [
    {
     "data": {
      "text/plain": [
       "0.0    3828\n",
       "2.0    2342\n",
       "3.0    1681\n",
       "1.0     248\n",
       "Name: client_season_cluster, dtype: int64"
      ]
     },
     "execution_count": 166,
     "metadata": {},
     "output_type": "execute_result"
    }
   ],
   "source": [
    "df.client_season_cluster.value_counts()"
   ]
  },
  {
   "cell_type": "code",
   "execution_count": 167,
   "id": "1133aaa2-7056-493f-a89e-626da9f3d2a4",
   "metadata": {
    "tags": []
   },
   "outputs": [
    {
     "data": {
      "text/html": [
       "<div>\n",
       "<style scoped>\n",
       "    .dataframe tbody tr th:only-of-type {\n",
       "        vertical-align: middle;\n",
       "    }\n",
       "\n",
       "    .dataframe tbody tr th {\n",
       "        vertical-align: top;\n",
       "    }\n",
       "\n",
       "    .dataframe thead th {\n",
       "        text-align: right;\n",
       "    }\n",
       "</style>\n",
       "<table border=\"1\" class=\"dataframe\">\n",
       "  <thead>\n",
       "    <tr style=\"text-align: right;\">\n",
       "      <th></th>\n",
       "      <th>sales_order_id</th>\n",
       "      <th>date</th>\n",
       "      <th>id</th>\n",
       "      <th>created_at</th>\n",
       "      <th>quantity</th>\n",
       "      <th>sku</th>\n",
       "      <th>name</th>\n",
       "      <th>name_i</th>\n",
       "      <th>face_price</th>\n",
       "      <th>currency</th>\n",
       "      <th>country</th>\n",
       "      <th>state_i</th>\n",
       "      <th>state_o</th>\n",
       "      <th>status</th>\n",
       "      <th>external_unit_price</th>\n",
       "      <th>name_o</th>\n",
       "      <th>city</th>\n",
       "      <th>country_o</th>\n",
       "      <th>year</th>\n",
       "      <th>month</th>\n",
       "      <th>day</th>\n",
       "      <th>weekday</th>\n",
       "      <th>price</th>\n",
       "      <th>total</th>\n",
       "      <th>net_price</th>\n",
       "      <th>net_income</th>\n",
       "      <th>percent_margin</th>\n",
       "      <th>season</th>\n",
       "      <th>client_season_cluster</th>\n",
       "    </tr>\n",
       "  </thead>\n",
       "  <tbody>\n",
       "    <tr>\n",
       "      <th>1772</th>\n",
       "      <td>18662</td>\n",
       "      <td>2023-02-09</td>\n",
       "      <td>111449</td>\n",
       "      <td>2023-02-09 11:10:56</td>\n",
       "      <td>60</td>\n",
       "      <td>PSN10</td>\n",
       "      <td>PlayStation Network Card $10 (CAN)</td>\n",
       "      <td>SONY</td>\n",
       "      <td>10.0</td>\n",
       "      <td>CAD</td>\n",
       "      <td>CA</td>\n",
       "      <td>fulfilled</td>\n",
       "      <td>complete</td>\n",
       "      <td>0</td>\n",
       "      <td>{\"amount\": 950, \"currency\": \"CAD\"}</td>\n",
       "      <td>OffGamers Global Pte Ltd (CAD)</td>\n",
       "      <td>NaN</td>\n",
       "      <td>SG</td>\n",
       "      <td>2023</td>\n",
       "      <td>2</td>\n",
       "      <td>9</td>\n",
       "      <td>Thursday</td>\n",
       "      <td>9.5</td>\n",
       "      <td>570.0</td>\n",
       "      <td>0.5</td>\n",
       "      <td>30.0</td>\n",
       "      <td>5.0</td>\n",
       "      <td>Winter</td>\n",
       "      <td>2.0</td>\n",
       "    </tr>\n",
       "  </tbody>\n",
       "</table>\n",
       "</div>"
      ],
      "text/plain": [
       "      sales_order_id       date      id          created_at  quantity    sku  \\\n",
       "1772           18662 2023-02-09  111449 2023-02-09 11:10:56        60  PSN10   \n",
       "\n",
       "                                    name name_i  face_price currency country  \\\n",
       "1772  PlayStation Network Card $10 (CAN)   SONY        10.0      CAD      CA   \n",
       "\n",
       "        state_i   state_o  status                 external_unit_price  \\\n",
       "1772  fulfilled  complete       0  {\"amount\": 950, \"currency\": \"CAD\"}   \n",
       "\n",
       "                              name_o city country_o  year  month  day  \\\n",
       "1772  OffGamers Global Pte Ltd (CAD)  NaN        SG  2023      2    9   \n",
       "\n",
       "       weekday  price  total  net_price  net_income  percent_margin  season  \\\n",
       "1772  Thursday    9.5  570.0        0.5        30.0             5.0  Winter   \n",
       "\n",
       "      client_season_cluster  \n",
       "1772                    2.0  "
      ]
     },
     "execution_count": 167,
     "metadata": {},
     "output_type": "execute_result"
    }
   ],
   "source": [
    "df.sample()"
   ]
  },
  {
   "cell_type": "code",
   "execution_count": 168,
   "id": "6933e6e9-f1f3-4c25-ae03-5cc10982f1f4",
   "metadata": {
    "tags": []
   },
   "outputs": [],
   "source": [
    "#deviation of their order quantities from the average order quantity for each season, to get client sensivity to seasonality\n"
   ]
  },
  {
   "cell_type": "code",
   "execution_count": 181,
   "id": "8c3cd2fd-0bf4-4fce-a23c-e7327b2b3438",
   "metadata": {
    "tags": []
   },
   "outputs": [],
   "source": [
    "# Group by 'name_o', 'season', and 'sku' and calculate the average and standard deviation of order quantity\n",
    "grouped = df.groupby(['name_o','season'])['quantity'].agg(['mean', 'std']) #add to groupby  ,'sku','season'\n",
    "\n",
    "# Merge the group statistics back to the original DataFrame\n",
    "df = df.merge(grouped, on=['name_o','season'], suffixes=['', '_stats']) # add to merge on , 'season', 'sku'\n",
    "\n",
    "# Calculate the sensitivity score for each order\n",
    "df['sensitivity_score'] = (df['quantity'] - df['mean']) / df['std']\n",
    "\n",
    "# Scale the sensitivity score to a range of 0 to 1\n",
    "df['sensitivity_score'] = (df['sensitivity_score'] - df['sensitivity_score'].min()) / (df['sensitivity_score'].max() - df['sensitivity_score'].min())\n",
    "\n",
    "# Fill any missing values in sensitivity_score with 0\n",
    "df['sensitivity_score'].fillna(0, inplace=True)"
   ]
  },
  {
   "cell_type": "code",
   "execution_count": 182,
   "id": "e036ea2f-e723-4ac3-a871-c76183ad86a8",
   "metadata": {
    "tags": []
   },
   "outputs": [
    {
     "data": {
      "text/html": [
       "<div>\n",
       "<style scoped>\n",
       "    .dataframe tbody tr th:only-of-type {\n",
       "        vertical-align: middle;\n",
       "    }\n",
       "\n",
       "    .dataframe tbody tr th {\n",
       "        vertical-align: top;\n",
       "    }\n",
       "\n",
       "    .dataframe thead th {\n",
       "        text-align: right;\n",
       "    }\n",
       "</style>\n",
       "<table border=\"1\" class=\"dataframe\">\n",
       "  <thead>\n",
       "    <tr style=\"text-align: right;\">\n",
       "      <th></th>\n",
       "      <th></th>\n",
       "      <th>mean</th>\n",
       "      <th>std</th>\n",
       "    </tr>\n",
       "    <tr>\n",
       "      <th>name_o</th>\n",
       "      <th>season</th>\n",
       "      <th></th>\n",
       "      <th></th>\n",
       "    </tr>\n",
       "  </thead>\n",
       "  <tbody>\n",
       "    <tr>\n",
       "      <th rowspan=\"3\" valign=\"top\">24 Games ApS</th>\n",
       "      <th>Spring</th>\n",
       "      <td>118.402778</td>\n",
       "      <td>101.103445</td>\n",
       "    </tr>\n",
       "    <tr>\n",
       "      <th>Summer</th>\n",
       "      <td>83.888889</td>\n",
       "      <td>66.610270</td>\n",
       "    </tr>\n",
       "    <tr>\n",
       "      <th>Winter</th>\n",
       "      <td>136.0</td>\n",
       "      <td>157.932667</td>\n",
       "    </tr>\n",
       "    <tr>\n",
       "      <th rowspan=\"2\" valign=\"top\">ABAAD ALJEEL DBA LIKE4CARD</th>\n",
       "      <th>Spring</th>\n",
       "      <td>1461.111111</td>\n",
       "      <td>1260.783551</td>\n",
       "    </tr>\n",
       "    <tr>\n",
       "      <th>Winter</th>\n",
       "      <td>934.042553</td>\n",
       "      <td>1127.381845</td>\n",
       "    </tr>\n",
       "    <tr>\n",
       "      <th>ABAAD ALJEEL DBA LIKE4CARD (CAD)</th>\n",
       "      <th>Winter</th>\n",
       "      <td>128.571429</td>\n",
       "      <td>46.880723</td>\n",
       "    </tr>\n",
       "    <tr>\n",
       "      <th>ABAAD ALJEEL DBA LIKE4CARD (EUR)</th>\n",
       "      <th>Winter</th>\n",
       "      <td>80.0</td>\n",
       "      <td>27.386128</td>\n",
       "    </tr>\n",
       "    <tr>\n",
       "      <th rowspan=\"3\" valign=\"top\">ASIA DIGITAL PTE. LTD.</th>\n",
       "      <th>Spring</th>\n",
       "      <td>185.0</td>\n",
       "      <td>145.990266</td>\n",
       "    </tr>\n",
       "    <tr>\n",
       "      <th>Summer</th>\n",
       "      <td>212.5</td>\n",
       "      <td>86.240942</td>\n",
       "    </tr>\n",
       "    <tr>\n",
       "      <th>Winter</th>\n",
       "      <td>164.545455</td>\n",
       "      <td>84.718786</td>\n",
       "    </tr>\n",
       "    <tr>\n",
       "      <th rowspan=\"3\" valign=\"top\">BASATNE INTERNATIONAL LLC</th>\n",
       "      <th>Spring</th>\n",
       "      <td>970.977011</td>\n",
       "      <td>1419.246000</td>\n",
       "    </tr>\n",
       "    <tr>\n",
       "      <th>Summer</th>\n",
       "      <td>833.653846</td>\n",
       "      <td>1392.327405</td>\n",
       "    </tr>\n",
       "    <tr>\n",
       "      <th>Winter</th>\n",
       "      <td>929.440367</td>\n",
       "      <td>1569.934909</td>\n",
       "    </tr>\n",
       "    <tr>\n",
       "      <th rowspan=\"3\" valign=\"top\">BNB CARD CO. LTD</th>\n",
       "      <th>Spring</th>\n",
       "      <td>50.606061</td>\n",
       "      <td>25.951362</td>\n",
       "    </tr>\n",
       "    <tr>\n",
       "      <th>Summer</th>\n",
       "      <td>43.846154</td>\n",
       "      <td>13.587324</td>\n",
       "    </tr>\n",
       "    <tr>\n",
       "      <th>Winter</th>\n",
       "      <td>48.571429</td>\n",
       "      <td>22.062921</td>\n",
       "    </tr>\n",
       "    <tr>\n",
       "      <th rowspan=\"3\" valign=\"top\">Bamboo Card LLC</th>\n",
       "      <th>Spring</th>\n",
       "      <td>145.407407</td>\n",
       "      <td>221.681611</td>\n",
       "    </tr>\n",
       "    <tr>\n",
       "      <th>Summer</th>\n",
       "      <td>207.692308</td>\n",
       "      <td>64.051262</td>\n",
       "    </tr>\n",
       "    <tr>\n",
       "      <th>Winter</th>\n",
       "      <td>128.571429</td>\n",
       "      <td>90.632697</td>\n",
       "    </tr>\n",
       "    <tr>\n",
       "      <th>Blackwing s.r.o</th>\n",
       "      <th>Summer</th>\n",
       "      <td>1.0</td>\n",
       "      <td>NaN</td>\n",
       "    </tr>\n",
       "    <tr>\n",
       "      <th rowspan=\"3\" valign=\"top\">C2GAMES</th>\n",
       "      <th>Spring</th>\n",
       "      <td>35.0</td>\n",
       "      <td>21.213203</td>\n",
       "    </tr>\n",
       "    <tr>\n",
       "      <th>Summer</th>\n",
       "      <td>30.0</td>\n",
       "      <td>15.491933</td>\n",
       "    </tr>\n",
       "    <tr>\n",
       "      <th>Winter</th>\n",
       "      <td>35.0</td>\n",
       "      <td>39.874804</td>\n",
       "    </tr>\n",
       "    <tr>\n",
       "      <th rowspan=\"3\" valign=\"top\">CEDAR PARK SALES LLC</th>\n",
       "      <th>Spring</th>\n",
       "      <td>196.421277</td>\n",
       "      <td>297.642326</td>\n",
       "    </tr>\n",
       "    <tr>\n",
       "      <th>Summer</th>\n",
       "      <td>190.957447</td>\n",
       "      <td>365.191213</td>\n",
       "    </tr>\n",
       "    <tr>\n",
       "      <th>Winter</th>\n",
       "      <td>262.190476</td>\n",
       "      <td>391.548408</td>\n",
       "    </tr>\n",
       "    <tr>\n",
       "      <th rowspan=\"3\" valign=\"top\">CIRCUIT ZONE LTD</th>\n",
       "      <th>Spring</th>\n",
       "      <td>19.545455</td>\n",
       "      <td>10.568269</td>\n",
       "    </tr>\n",
       "    <tr>\n",
       "      <th>Summer</th>\n",
       "      <td>28.0</td>\n",
       "      <td>13.038405</td>\n",
       "    </tr>\n",
       "    <tr>\n",
       "      <th>Winter</th>\n",
       "      <td>28.181818</td>\n",
       "      <td>17.426407</td>\n",
       "    </tr>\n",
       "    <tr>\n",
       "      <th rowspan=\"2\" valign=\"top\">COLOMBIANUP SAS</th>\n",
       "      <th>Spring</th>\n",
       "      <td>1.0</td>\n",
       "      <td>NaN</td>\n",
       "    </tr>\n",
       "    <tr>\n",
       "      <th>Winter</th>\n",
       "      <td>67.692308</td>\n",
       "      <td>33.454907</td>\n",
       "    </tr>\n",
       "    <tr>\n",
       "      <th rowspan=\"3\" valign=\"top\">Comercializadora SYP Limitada</th>\n",
       "      <th>Spring</th>\n",
       "      <td>116.842105</td>\n",
       "      <td>122.431506</td>\n",
       "    </tr>\n",
       "    <tr>\n",
       "      <th>Summer</th>\n",
       "      <td>97.272727</td>\n",
       "      <td>158.435533</td>\n",
       "    </tr>\n",
       "    <tr>\n",
       "      <th>Winter</th>\n",
       "      <td>100.0</td>\n",
       "      <td>NaN</td>\n",
       "    </tr>\n",
       "    <tr>\n",
       "      <th>Comercializadora SYP Limitada (EUR)</th>\n",
       "      <th>Winter</th>\n",
       "      <td>88.333333</td>\n",
       "      <td>20.207259</td>\n",
       "    </tr>\n",
       "    <tr>\n",
       "      <th>ContentCard AG</th>\n",
       "      <th>Winter</th>\n",
       "      <td>73.333333</td>\n",
       "      <td>71.589105</td>\n",
       "    </tr>\n",
       "    <tr>\n",
       "      <th>DEIMAN UNITED LTD</th>\n",
       "      <th>Winter</th>\n",
       "      <td>46.923077</td>\n",
       "      <td>26.578379</td>\n",
       "    </tr>\n",
       "    <tr>\n",
       "      <th rowspan=\"3\" valign=\"top\">DEVCO FZ LLC</th>\n",
       "      <th>Spring</th>\n",
       "      <td>244.05</td>\n",
       "      <td>323.246746</td>\n",
       "    </tr>\n",
       "    <tr>\n",
       "      <th>Summer</th>\n",
       "      <td>319.3</td>\n",
       "      <td>439.210068</td>\n",
       "    </tr>\n",
       "    <tr>\n",
       "      <th>Winter</th>\n",
       "      <td>1117.0</td>\n",
       "      <td>NaN</td>\n",
       "    </tr>\n",
       "    <tr>\n",
       "      <th rowspan=\"3\" valign=\"top\">DIGITAL CODES S.p. Z.o.o (USD.)</th>\n",
       "      <th>Spring</th>\n",
       "      <td>33.644444</td>\n",
       "      <td>41.591714</td>\n",
       "    </tr>\n",
       "    <tr>\n",
       "      <th>Summer</th>\n",
       "      <td>53.076923</td>\n",
       "      <td>26.890090</td>\n",
       "    </tr>\n",
       "    <tr>\n",
       "      <th>Winter</th>\n",
       "      <td>59.464286</td>\n",
       "      <td>48.152731</td>\n",
       "    </tr>\n",
       "    <tr>\n",
       "      <th rowspan=\"2\" valign=\"top\">DISTRITECH LLC</th>\n",
       "      <th>Spring</th>\n",
       "      <td>43.75</td>\n",
       "      <td>41.508031</td>\n",
       "    </tr>\n",
       "    <tr>\n",
       "      <th>Winter</th>\n",
       "      <td>40.909091</td>\n",
       "      <td>41.582339</td>\n",
       "    </tr>\n",
       "    <tr>\n",
       "      <th>Dorah For Digital Products</th>\n",
       "      <th>Spring</th>\n",
       "      <td>19.2</td>\n",
       "      <td>7.293833</td>\n",
       "    </tr>\n",
       "    <tr>\n",
       "      <th>EZ CARDS</th>\n",
       "      <th>Winter</th>\n",
       "      <td>28.923077</td>\n",
       "      <td>63.411962</td>\n",
       "    </tr>\n",
       "    <tr>\n",
       "      <th>EZ Cards Distribution LLC</th>\n",
       "      <th>Spring</th>\n",
       "      <td>8.5</td>\n",
       "      <td>14.341083</td>\n",
       "    </tr>\n",
       "    <tr>\n",
       "      <th>ExcelGames Interactive Pte Ltd</th>\n",
       "      <th>Spring</th>\n",
       "      <td>200.0</td>\n",
       "      <td>NaN</td>\n",
       "    </tr>\n",
       "    <tr>\n",
       "      <th rowspan=\"3\" valign=\"top\">GAMEKEYS OU</th>\n",
       "      <th>Spring</th>\n",
       "      <td>14.303797</td>\n",
       "      <td>6.341468</td>\n",
       "    </tr>\n",
       "    <tr>\n",
       "      <th>Summer</th>\n",
       "      <td>11.666667</td>\n",
       "      <td>3.834825</td>\n",
       "    </tr>\n",
       "    <tr>\n",
       "      <th>Winter</th>\n",
       "      <td>17.571429</td>\n",
       "      <td>8.917612</td>\n",
       "    </tr>\n",
       "    <tr>\n",
       "      <th rowspan=\"3\" valign=\"top\">GAMING PALACE DISTRIBUTION INC.</th>\n",
       "      <th>Spring</th>\n",
       "      <td>1425.0</td>\n",
       "      <td>1490.805152</td>\n",
       "    </tr>\n",
       "    <tr>\n",
       "      <th>Summer</th>\n",
       "      <td>783.333333</td>\n",
       "      <td>375.277675</td>\n",
       "    </tr>\n",
       "    <tr>\n",
       "      <th>Winter</th>\n",
       "      <td>710.0</td>\n",
       "      <td>1376.351742</td>\n",
       "    </tr>\n",
       "    <tr>\n",
       "      <th rowspan=\"2\" valign=\"top\">GCM Games</th>\n",
       "      <th>Spring</th>\n",
       "      <td>51.391304</td>\n",
       "      <td>31.547567</td>\n",
       "    </tr>\n",
       "    <tr>\n",
       "      <th>Winter</th>\n",
       "      <td>127.625</td>\n",
       "      <td>153.629366</td>\n",
       "    </tr>\n",
       "    <tr>\n",
       "      <th rowspan=\"3\" valign=\"top\">GIFT2GAMES INC.</th>\n",
       "      <th>Spring</th>\n",
       "      <td>52.0</td>\n",
       "      <td>43.817805</td>\n",
       "    </tr>\n",
       "    <tr>\n",
       "      <th>Summer</th>\n",
       "      <td>864.02439</td>\n",
       "      <td>1260.489597</td>\n",
       "    </tr>\n",
       "    <tr>\n",
       "      <th>Winter</th>\n",
       "      <td>7.5</td>\n",
       "      <td>3.535534</td>\n",
       "    </tr>\n",
       "    <tr>\n",
       "      <th>GIFT2GAMES INC. (CAD)</th>\n",
       "      <th>Summer</th>\n",
       "      <td>65.0</td>\n",
       "      <td>33.541020</td>\n",
       "    </tr>\n",
       "    <tr>\n",
       "      <th>GUDANG VOUCHER</th>\n",
       "      <th>Winter</th>\n",
       "      <td>29.375</td>\n",
       "      <td>13.741881</td>\n",
       "    </tr>\n",
       "    <tr>\n",
       "      <th rowspan=\"3\" valign=\"top\">Gameconnect LLC</th>\n",
       "      <th>Spring</th>\n",
       "      <td>35.416667</td>\n",
       "      <td>18.645239</td>\n",
       "    </tr>\n",
       "    <tr>\n",
       "      <th>Summer</th>\n",
       "      <td>57.5</td>\n",
       "      <td>81.573076</td>\n",
       "    </tr>\n",
       "    <tr>\n",
       "      <th>Winter</th>\n",
       "      <td>65.454545</td>\n",
       "      <td>126.254741</td>\n",
       "    </tr>\n",
       "    <tr>\n",
       "      <th>Gamersmarket CO., LTD</th>\n",
       "      <th>Spring</th>\n",
       "      <td>1000.0</td>\n",
       "      <td>0.000000</td>\n",
       "    </tr>\n",
       "    <tr>\n",
       "      <th>Gudang ePayment Inc.</th>\n",
       "      <th>Winter</th>\n",
       "      <td>24.117647</td>\n",
       "      <td>7.122871</td>\n",
       "    </tr>\n",
       "    <tr>\n",
       "      <th>Ho Kinh Doanh Do Tan Phong</th>\n",
       "      <th>Summer</th>\n",
       "      <td>35.384615</td>\n",
       "      <td>25.937548</td>\n",
       "    </tr>\n",
       "    <tr>\n",
       "      <th rowspan=\"3\" valign=\"top\">IBANEZBLACK</th>\n",
       "      <th>Spring</th>\n",
       "      <td>103.076923</td>\n",
       "      <td>81.177236</td>\n",
       "    </tr>\n",
       "    <tr>\n",
       "      <th>Summer</th>\n",
       "      <td>47.3</td>\n",
       "      <td>25.333553</td>\n",
       "    </tr>\n",
       "    <tr>\n",
       "      <th>Winter</th>\n",
       "      <td>55.6</td>\n",
       "      <td>41.395652</td>\n",
       "    </tr>\n",
       "    <tr>\n",
       "      <th rowspan=\"3\" valign=\"top\">IGROSHOP, LLC</th>\n",
       "      <th>Spring</th>\n",
       "      <td>54.444444</td>\n",
       "      <td>35.039660</td>\n",
       "    </tr>\n",
       "    <tr>\n",
       "      <th>Summer</th>\n",
       "      <td>500.0</td>\n",
       "      <td>NaN</td>\n",
       "    </tr>\n",
       "    <tr>\n",
       "      <th>Winter</th>\n",
       "      <td>175.0</td>\n",
       "      <td>35.355339</td>\n",
       "    </tr>\n",
       "    <tr>\n",
       "      <th rowspan=\"3\" valign=\"top\">Infinity Cards and Games</th>\n",
       "      <th>Spring</th>\n",
       "      <td>381.707317</td>\n",
       "      <td>375.791847</td>\n",
       "    </tr>\n",
       "    <tr>\n",
       "      <th>Summer</th>\n",
       "      <td>558.333333</td>\n",
       "      <td>374.722119</td>\n",
       "    </tr>\n",
       "    <tr>\n",
       "      <th>Winter</th>\n",
       "      <td>292.307692</td>\n",
       "      <td>255.641476</td>\n",
       "    </tr>\n",
       "    <tr>\n",
       "      <th>JS Music Corporation</th>\n",
       "      <th>Winter</th>\n",
       "      <td>84.615385</td>\n",
       "      <td>31.521259</td>\n",
       "    </tr>\n",
       "    <tr>\n",
       "      <th rowspan=\"3\" valign=\"top\">KorsIT</th>\n",
       "      <th>Spring</th>\n",
       "      <td>71.0</td>\n",
       "      <td>77.894159</td>\n",
       "    </tr>\n",
       "    <tr>\n",
       "      <th>Summer</th>\n",
       "      <td>34.166667</td>\n",
       "      <td>35.974528</td>\n",
       "    </tr>\n",
       "    <tr>\n",
       "      <th>Winter</th>\n",
       "      <td>98.5</td>\n",
       "      <td>76.341703</td>\n",
       "    </tr>\n",
       "    <tr>\n",
       "      <th rowspan=\"3\" valign=\"top\">KorsIT (CAD)</th>\n",
       "      <th>Spring</th>\n",
       "      <td>54.545455</td>\n",
       "      <td>32.051096</td>\n",
       "    </tr>\n",
       "    <tr>\n",
       "      <th>Summer</th>\n",
       "      <td>50.0</td>\n",
       "      <td>0.000000</td>\n",
       "    </tr>\n",
       "    <tr>\n",
       "      <th>Winter</th>\n",
       "      <td>200.0</td>\n",
       "      <td>NaN</td>\n",
       "    </tr>\n",
       "    <tr>\n",
       "      <th rowspan=\"3\" valign=\"top\">Kuwait Star for General Trading Co. (USD)</th>\n",
       "      <th>Spring</th>\n",
       "      <td>206.943463</td>\n",
       "      <td>395.070158</td>\n",
       "    </tr>\n",
       "    <tr>\n",
       "      <th>Summer</th>\n",
       "      <td>207.284483</td>\n",
       "      <td>300.483952</td>\n",
       "    </tr>\n",
       "    <tr>\n",
       "      <th>Winter</th>\n",
       "      <td>207.231214</td>\n",
       "      <td>341.698551</td>\n",
       "    </tr>\n",
       "    <tr>\n",
       "      <th rowspan=\"2\" valign=\"top\">Legend Time Co Ltd</th>\n",
       "      <th>Spring</th>\n",
       "      <td>96.5</td>\n",
       "      <td>84.788954</td>\n",
       "    </tr>\n",
       "    <tr>\n",
       "      <th>Winter</th>\n",
       "      <td>79.0</td>\n",
       "      <td>66.932802</td>\n",
       "    </tr>\n",
       "    <tr>\n",
       "      <th rowspan=\"3\" valign=\"top\">MANA MINDS SIA (CAD)</th>\n",
       "      <th>Spring</th>\n",
       "      <td>30.0</td>\n",
       "      <td>33.756091</td>\n",
       "    </tr>\n",
       "    <tr>\n",
       "      <th>Summer</th>\n",
       "      <td>20.625</td>\n",
       "      <td>9.038608</td>\n",
       "    </tr>\n",
       "    <tr>\n",
       "      <th>Winter</th>\n",
       "      <td>11.25</td>\n",
       "      <td>3.535534</td>\n",
       "    </tr>\n",
       "    <tr>\n",
       "      <th rowspan=\"3\" valign=\"top\">MANA MINDS SIA (USD)</th>\n",
       "      <th>Spring</th>\n",
       "      <td>104.576271</td>\n",
       "      <td>148.162864</td>\n",
       "    </tr>\n",
       "    <tr>\n",
       "      <th>Summer</th>\n",
       "      <td>125.074627</td>\n",
       "      <td>135.197646</td>\n",
       "    </tr>\n",
       "    <tr>\n",
       "      <th>Winter</th>\n",
       "      <td>75.0</td>\n",
       "      <td>86.231488</td>\n",
       "    </tr>\n",
       "    <tr>\n",
       "      <th rowspan=\"3\" valign=\"top\">MMOGA LIMITED</th>\n",
       "      <th>Spring</th>\n",
       "      <td>42.597403</td>\n",
       "      <td>25.567382</td>\n",
       "    </tr>\n",
       "    <tr>\n",
       "      <th>Summer</th>\n",
       "      <td>55.357143</td>\n",
       "      <td>26.780036</td>\n",
       "    </tr>\n",
       "    <tr>\n",
       "      <th>Winter</th>\n",
       "      <td>53.181818</td>\n",
       "      <td>25.144603</td>\n",
       "    </tr>\n",
       "    <tr>\n",
       "      <th rowspan=\"3\" valign=\"top\">MOL AccessPortal Sdn Bhd</th>\n",
       "      <th>Spring</th>\n",
       "      <td>52.5</td>\n",
       "      <td>32.015621</td>\n",
       "    </tr>\n",
       "    <tr>\n",
       "      <th>Summer</th>\n",
       "      <td>102.142857</td>\n",
       "      <td>41.977754</td>\n",
       "    </tr>\n",
       "    <tr>\n",
       "      <th>Winter</th>\n",
       "      <td>125.1</td>\n",
       "      <td>81.343510</td>\n",
       "    </tr>\n",
       "    <tr>\n",
       "      <th rowspan=\"3\" valign=\"top\">Megagoods, Inc.</th>\n",
       "      <th>Spring</th>\n",
       "      <td>212.5</td>\n",
       "      <td>61.846584</td>\n",
       "    </tr>\n",
       "    <tr>\n",
       "      <th>Summer</th>\n",
       "      <td>195.0</td>\n",
       "      <td>63.639610</td>\n",
       "    </tr>\n",
       "    <tr>\n",
       "      <th>Winter</th>\n",
       "      <td>240.0</td>\n",
       "      <td>0.000000</td>\n",
       "    </tr>\n",
       "    <tr>\n",
       "      <th rowspan=\"3\" valign=\"top\">MyGiftCardSupply</th>\n",
       "      <th>Spring</th>\n",
       "      <td>19.529412</td>\n",
       "      <td>23.166660</td>\n",
       "    </tr>\n",
       "    <tr>\n",
       "      <th>Summer</th>\n",
       "      <td>7.692308</td>\n",
       "      <td>2.594373</td>\n",
       "    </tr>\n",
       "    <tr>\n",
       "      <th>Winter</th>\n",
       "      <td>17.60396</td>\n",
       "      <td>26.093325</td>\n",
       "    </tr>\n",
       "    <tr>\n",
       "      <th rowspan=\"3\" valign=\"top\">Napan LLC</th>\n",
       "      <th>Spring</th>\n",
       "      <td>108.0</td>\n",
       "      <td>49.620784</td>\n",
       "    </tr>\n",
       "    <tr>\n",
       "      <th>Summer</th>\n",
       "      <td>106.666667</td>\n",
       "      <td>11.547005</td>\n",
       "    </tr>\n",
       "    <tr>\n",
       "      <th>Winter</th>\n",
       "      <td>120.0</td>\n",
       "      <td>49.396356</td>\n",
       "    </tr>\n",
       "    <tr>\n",
       "      <th>Nektova</th>\n",
       "      <th>Summer</th>\n",
       "      <td>208.0</td>\n",
       "      <td>228.665695</td>\n",
       "    </tr>\n",
       "    <tr>\n",
       "      <th rowspan=\"2\" valign=\"top\">Nexus LLC</th>\n",
       "      <th>Spring</th>\n",
       "      <td>25.666667</td>\n",
       "      <td>34.149475</td>\n",
       "    </tr>\n",
       "    <tr>\n",
       "      <th>Summer</th>\n",
       "      <td>28.428571</td>\n",
       "      <td>54.567564</td>\n",
       "    </tr>\n",
       "    <tr>\n",
       "      <th rowspan=\"3\" valign=\"top\">OffGamers Global Pte Ltd (CAD)</th>\n",
       "      <th>Spring</th>\n",
       "      <td>19.178571</td>\n",
       "      <td>18.441807</td>\n",
       "    </tr>\n",
       "    <tr>\n",
       "      <th>Summer</th>\n",
       "      <td>15.857143</td>\n",
       "      <td>14.438705</td>\n",
       "    </tr>\n",
       "    <tr>\n",
       "      <th>Winter</th>\n",
       "      <td>23.913043</td>\n",
       "      <td>27.262368</td>\n",
       "    </tr>\n",
       "    <tr>\n",
       "      <th rowspan=\"3\" valign=\"top\">OffGamers Global Pte Ltd (EUR)</th>\n",
       "      <th>Spring</th>\n",
       "      <td>15.595745</td>\n",
       "      <td>28.687719</td>\n",
       "    </tr>\n",
       "    <tr>\n",
       "      <th>Summer</th>\n",
       "      <td>39.192308</td>\n",
       "      <td>78.874087</td>\n",
       "    </tr>\n",
       "    <tr>\n",
       "      <th>Winter</th>\n",
       "      <td>20.925926</td>\n",
       "      <td>20.756697</td>\n",
       "    </tr>\n",
       "    <tr>\n",
       "      <th rowspan=\"3\" valign=\"top\">OffGamers Global Pte Ltd (GBP)</th>\n",
       "      <th>Spring</th>\n",
       "      <td>9.857143</td>\n",
       "      <td>4.375255</td>\n",
       "    </tr>\n",
       "    <tr>\n",
       "      <th>Summer</th>\n",
       "      <td>5.0</td>\n",
       "      <td>NaN</td>\n",
       "    </tr>\n",
       "    <tr>\n",
       "      <th>Winter</th>\n",
       "      <td>10.5</td>\n",
       "      <td>4.972145</td>\n",
       "    </tr>\n",
       "    <tr>\n",
       "      <th rowspan=\"3\" valign=\"top\">OffGamers Global Pte Ltd (USD)</th>\n",
       "      <th>Spring</th>\n",
       "      <td>137.867647</td>\n",
       "      <td>254.944039</td>\n",
       "    </tr>\n",
       "    <tr>\n",
       "      <th>Summer</th>\n",
       "      <td>154.5</td>\n",
       "      <td>306.454372</td>\n",
       "    </tr>\n",
       "    <tr>\n",
       "      <th>Winter</th>\n",
       "      <td>244.647059</td>\n",
       "      <td>445.731252</td>\n",
       "    </tr>\n",
       "    <tr>\n",
       "      <th rowspan=\"3\" valign=\"top\">Onequark SPA</th>\n",
       "      <th>Spring</th>\n",
       "      <td>55.052632</td>\n",
       "      <td>80.078070</td>\n",
       "    </tr>\n",
       "    <tr>\n",
       "      <th>Summer</th>\n",
       "      <td>50.687023</td>\n",
       "      <td>77.590551</td>\n",
       "    </tr>\n",
       "    <tr>\n",
       "      <th>Winter</th>\n",
       "      <td>58.94702</td>\n",
       "      <td>88.943637</td>\n",
       "    </tr>\n",
       "    <tr>\n",
       "      <th rowspan=\"3\" valign=\"top\">Onequark SPA (EUR)</th>\n",
       "      <th>Spring</th>\n",
       "      <td>100.0</td>\n",
       "      <td>0.000000</td>\n",
       "    </tr>\n",
       "    <tr>\n",
       "      <th>Summer</th>\n",
       "      <td>65.0</td>\n",
       "      <td>49.497475</td>\n",
       "    </tr>\n",
       "    <tr>\n",
       "      <th>Winter</th>\n",
       "      <td>66.666667</td>\n",
       "      <td>28.867513</td>\n",
       "    </tr>\n",
       "    <tr>\n",
       "      <th rowspan=\"3\" valign=\"top\">PLAY-ASIA.COM (CAD)</th>\n",
       "      <th>Spring</th>\n",
       "      <td>12.6</td>\n",
       "      <td>9.011104</td>\n",
       "    </tr>\n",
       "    <tr>\n",
       "      <th>Summer</th>\n",
       "      <td>16.416667</td>\n",
       "      <td>12.413031</td>\n",
       "    </tr>\n",
       "    <tr>\n",
       "      <th>Winter</th>\n",
       "      <td>19.307692</td>\n",
       "      <td>13.838408</td>\n",
       "    </tr>\n",
       "    <tr>\n",
       "      <th>PLAY-ASIA.COM (EUR)</th>\n",
       "      <th>Summer</th>\n",
       "      <td>3.970588</td>\n",
       "      <td>1.266953</td>\n",
       "    </tr>\n",
       "    <tr>\n",
       "      <th rowspan=\"3\" valign=\"top\">PLAY-ASIA.COM (USD)</th>\n",
       "      <th>Spring</th>\n",
       "      <td>36.088095</td>\n",
       "      <td>61.583010</td>\n",
       "    </tr>\n",
       "    <tr>\n",
       "      <th>Summer</th>\n",
       "      <td>33.924171</td>\n",
       "      <td>65.157421</td>\n",
       "    </tr>\n",
       "    <tr>\n",
       "      <th>Winter</th>\n",
       "      <td>27.257732</td>\n",
       "      <td>43.136418</td>\n",
       "    </tr>\n",
       "    <tr>\n",
       "      <th rowspan=\"3\" valign=\"top\">PSNTHAILAND</th>\n",
       "      <th>Spring</th>\n",
       "      <td>12.067227</td>\n",
       "      <td>8.857374</td>\n",
       "    </tr>\n",
       "    <tr>\n",
       "      <th>Summer</th>\n",
       "      <td>11.521739</td>\n",
       "      <td>7.060812</td>\n",
       "    </tr>\n",
       "    <tr>\n",
       "      <th>Winter</th>\n",
       "      <td>11.966667</td>\n",
       "      <td>6.691676</td>\n",
       "    </tr>\n",
       "    <tr>\n",
       "      <th rowspan=\"3\" valign=\"top\">PT.SARANA CIPTA KREASI CEMERLANG</th>\n",
       "      <th>Spring</th>\n",
       "      <td>19.883721</td>\n",
       "      <td>9.666361</td>\n",
       "    </tr>\n",
       "    <tr>\n",
       "      <th>Summer</th>\n",
       "      <td>17.5</td>\n",
       "      <td>11.560876</td>\n",
       "    </tr>\n",
       "    <tr>\n",
       "      <th>Winter</th>\n",
       "      <td>16.730769</td>\n",
       "      <td>7.416510</td>\n",
       "    </tr>\n",
       "    <tr>\n",
       "      <th rowspan=\"3\" valign=\"top\">PayThem.Net WLL</th>\n",
       "      <th>Spring</th>\n",
       "      <td>51.597015</td>\n",
       "      <td>65.632831</td>\n",
       "    </tr>\n",
       "    <tr>\n",
       "      <th>Summer</th>\n",
       "      <td>56.875</td>\n",
       "      <td>69.407051</td>\n",
       "    </tr>\n",
       "    <tr>\n",
       "      <th>Winter</th>\n",
       "      <td>31.795455</td>\n",
       "      <td>31.163171</td>\n",
       "    </tr>\n",
       "    <tr>\n",
       "      <th rowspan=\"3\" valign=\"top\">Play Coin Pte Ltd</th>\n",
       "      <th>Spring</th>\n",
       "      <td>108.968254</td>\n",
       "      <td>102.791668</td>\n",
       "    </tr>\n",
       "    <tr>\n",
       "      <th>Summer</th>\n",
       "      <td>99.210526</td>\n",
       "      <td>100.808293</td>\n",
       "    </tr>\n",
       "    <tr>\n",
       "      <th>Winter</th>\n",
       "      <td>111.486486</td>\n",
       "      <td>100.433068</td>\n",
       "    </tr>\n",
       "    <tr>\n",
       "      <th>PrePaid Games LTD</th>\n",
       "      <th>Spring</th>\n",
       "      <td>500.0</td>\n",
       "      <td>NaN</td>\n",
       "    </tr>\n",
       "    <tr>\n",
       "      <th rowspan=\"3\" valign=\"top\">QIMENG TRADING CO., LIMITED</th>\n",
       "      <th>Spring</th>\n",
       "      <td>264.0</td>\n",
       "      <td>400.863651</td>\n",
       "    </tr>\n",
       "    <tr>\n",
       "      <th>Summer</th>\n",
       "      <td>263.548387</td>\n",
       "      <td>204.198407</td>\n",
       "    </tr>\n",
       "    <tr>\n",
       "      <th>Winter</th>\n",
       "      <td>308.28</td>\n",
       "      <td>253.352936</td>\n",
       "    </tr>\n",
       "    <tr>\n",
       "      <th>Qisahn Pte Ltd</th>\n",
       "      <th>Spring</th>\n",
       "      <td>100.0</td>\n",
       "      <td>0.000000</td>\n",
       "    </tr>\n",
       "    <tr>\n",
       "      <th rowspan=\"2\" valign=\"top\">RENAN PADUA STEFANON</th>\n",
       "      <th>Spring</th>\n",
       "      <td>496.0</td>\n",
       "      <td>136.176356</td>\n",
       "    </tr>\n",
       "    <tr>\n",
       "      <th>Summer</th>\n",
       "      <td>225.0</td>\n",
       "      <td>35.355339</td>\n",
       "    </tr>\n",
       "    <tr>\n",
       "      <th rowspan=\"3\" valign=\"top\">SCRATCH MONKEYS (USD)</th>\n",
       "      <th>Spring</th>\n",
       "      <td>36.815668</td>\n",
       "      <td>57.456853</td>\n",
       "    </tr>\n",
       "    <tr>\n",
       "      <th>Summer</th>\n",
       "      <td>43.27907</td>\n",
       "      <td>60.561617</td>\n",
       "    </tr>\n",
       "    <tr>\n",
       "      <th>Winter</th>\n",
       "      <td>38.227586</td>\n",
       "      <td>64.380029</td>\n",
       "    </tr>\n",
       "    <tr>\n",
       "      <th>SETAR</th>\n",
       "      <th>Summer</th>\n",
       "      <td>1000.0</td>\n",
       "      <td>NaN</td>\n",
       "    </tr>\n",
       "    <tr>\n",
       "      <th rowspan=\"3\" valign=\"top\">SOLA FIDE, INC. dba. MAXIMUSCARDS</th>\n",
       "      <th>Spring</th>\n",
       "      <td>67.741935</td>\n",
       "      <td>26.765609</td>\n",
       "    </tr>\n",
       "    <tr>\n",
       "      <th>Summer</th>\n",
       "      <td>60.416667</td>\n",
       "      <td>24.905123</td>\n",
       "    </tr>\n",
       "    <tr>\n",
       "      <th>Winter</th>\n",
       "      <td>70.238095</td>\n",
       "      <td>26.947922</td>\n",
       "    </tr>\n",
       "    <tr>\n",
       "      <th rowspan=\"3\" valign=\"top\">Scratch Monkeys (CAD)</th>\n",
       "      <th>Spring</th>\n",
       "      <td>2.181818</td>\n",
       "      <td>1.470930</td>\n",
       "    </tr>\n",
       "    <tr>\n",
       "      <th>Summer</th>\n",
       "      <td>5.0</td>\n",
       "      <td>0.000000</td>\n",
       "    </tr>\n",
       "    <tr>\n",
       "      <th>Winter</th>\n",
       "      <td>4.0</td>\n",
       "      <td>NaN</td>\n",
       "    </tr>\n",
       "    <tr>\n",
       "      <th rowspan=\"3\" valign=\"top\">Sea Gamer Mall Sdn Bhd</th>\n",
       "      <th>Spring</th>\n",
       "      <td>32.963158</td>\n",
       "      <td>65.068574</td>\n",
       "    </tr>\n",
       "    <tr>\n",
       "      <th>Summer</th>\n",
       "      <td>39.913793</td>\n",
       "      <td>66.802480</td>\n",
       "    </tr>\n",
       "    <tr>\n",
       "      <th>Winter</th>\n",
       "      <td>87.773333</td>\n",
       "      <td>303.148116</td>\n",
       "    </tr>\n",
       "    <tr>\n",
       "      <th rowspan=\"3\" valign=\"top\">VERVE MULTIMEDIA INC</th>\n",
       "      <th>Spring</th>\n",
       "      <td>59.240506</td>\n",
       "      <td>72.953180</td>\n",
       "    </tr>\n",
       "    <tr>\n",
       "      <th>Summer</th>\n",
       "      <td>74.854701</td>\n",
       "      <td>94.918773</td>\n",
       "    </tr>\n",
       "    <tr>\n",
       "      <th>Winter</th>\n",
       "      <td>83.789116</td>\n",
       "      <td>102.926642</td>\n",
       "    </tr>\n",
       "    <tr>\n",
       "      <th rowspan=\"3\" valign=\"top\">iGiftcard4u.com</th>\n",
       "      <th>Spring</th>\n",
       "      <td>27.5</td>\n",
       "      <td>17.677670</td>\n",
       "    </tr>\n",
       "    <tr>\n",
       "      <th>Summer</th>\n",
       "      <td>20.0</td>\n",
       "      <td>0.000000</td>\n",
       "    </tr>\n",
       "    <tr>\n",
       "      <th>Winter</th>\n",
       "      <td>26.666667</td>\n",
       "      <td>5.773503</td>\n",
       "    </tr>\n",
       "  </tbody>\n",
       "</table>\n",
       "</div>"
      ],
      "text/plain": [
       "                                                         mean          std\n",
       "name_o                                    season                          \n",
       "24 Games ApS                              Spring   118.402778   101.103445\n",
       "                                          Summer    83.888889    66.610270\n",
       "                                          Winter        136.0   157.932667\n",
       "ABAAD ALJEEL DBA LIKE4CARD                Spring  1461.111111  1260.783551\n",
       "                                          Winter   934.042553  1127.381845\n",
       "ABAAD ALJEEL DBA LIKE4CARD (CAD)          Winter   128.571429    46.880723\n",
       "ABAAD ALJEEL DBA LIKE4CARD (EUR)          Winter         80.0    27.386128\n",
       "ASIA DIGITAL PTE. LTD.                    Spring        185.0   145.990266\n",
       "                                          Summer        212.5    86.240942\n",
       "                                          Winter   164.545455    84.718786\n",
       "BASATNE INTERNATIONAL LLC                 Spring   970.977011  1419.246000\n",
       "                                          Summer   833.653846  1392.327405\n",
       "                                          Winter   929.440367  1569.934909\n",
       "BNB CARD CO. LTD                          Spring    50.606061    25.951362\n",
       "                                          Summer    43.846154    13.587324\n",
       "                                          Winter    48.571429    22.062921\n",
       "Bamboo Card LLC                           Spring   145.407407   221.681611\n",
       "                                          Summer   207.692308    64.051262\n",
       "                                          Winter   128.571429    90.632697\n",
       "Blackwing s.r.o                           Summer          1.0          NaN\n",
       "C2GAMES                                   Spring         35.0    21.213203\n",
       "                                          Summer         30.0    15.491933\n",
       "                                          Winter         35.0    39.874804\n",
       "CEDAR PARK SALES LLC                      Spring   196.421277   297.642326\n",
       "                                          Summer   190.957447   365.191213\n",
       "                                          Winter   262.190476   391.548408\n",
       "CIRCUIT ZONE LTD                          Spring    19.545455    10.568269\n",
       "                                          Summer         28.0    13.038405\n",
       "                                          Winter    28.181818    17.426407\n",
       "COLOMBIANUP SAS                           Spring          1.0          NaN\n",
       "                                          Winter    67.692308    33.454907\n",
       "Comercializadora SYP Limitada             Spring   116.842105   122.431506\n",
       "                                          Summer    97.272727   158.435533\n",
       "                                          Winter        100.0          NaN\n",
       "Comercializadora SYP Limitada (EUR)       Winter    88.333333    20.207259\n",
       "ContentCard AG                            Winter    73.333333    71.589105\n",
       "DEIMAN UNITED LTD                         Winter    46.923077    26.578379\n",
       "DEVCO FZ LLC                              Spring       244.05   323.246746\n",
       "                                          Summer        319.3   439.210068\n",
       "                                          Winter       1117.0          NaN\n",
       "DIGITAL CODES S.p. Z.o.o (USD.)           Spring    33.644444    41.591714\n",
       "                                          Summer    53.076923    26.890090\n",
       "                                          Winter    59.464286    48.152731\n",
       "DISTRITECH LLC                            Spring        43.75    41.508031\n",
       "                                          Winter    40.909091    41.582339\n",
       "Dorah For Digital Products                Spring         19.2     7.293833\n",
       "EZ CARDS                                  Winter    28.923077    63.411962\n",
       "EZ Cards Distribution LLC                 Spring          8.5    14.341083\n",
       "ExcelGames Interactive Pte Ltd            Spring        200.0          NaN\n",
       "GAMEKEYS OU                               Spring    14.303797     6.341468\n",
       "                                          Summer    11.666667     3.834825\n",
       "                                          Winter    17.571429     8.917612\n",
       "GAMING PALACE DISTRIBUTION INC.           Spring       1425.0  1490.805152\n",
       "                                          Summer   783.333333   375.277675\n",
       "                                          Winter        710.0  1376.351742\n",
       "GCM Games                                 Spring    51.391304    31.547567\n",
       "                                          Winter      127.625   153.629366\n",
       "GIFT2GAMES INC.                           Spring         52.0    43.817805\n",
       "                                          Summer    864.02439  1260.489597\n",
       "                                          Winter          7.5     3.535534\n",
       "GIFT2GAMES INC. (CAD)                     Summer         65.0    33.541020\n",
       "GUDANG VOUCHER                            Winter       29.375    13.741881\n",
       "Gameconnect LLC                           Spring    35.416667    18.645239\n",
       "                                          Summer         57.5    81.573076\n",
       "                                          Winter    65.454545   126.254741\n",
       "Gamersmarket CO., LTD                     Spring       1000.0     0.000000\n",
       "Gudang ePayment Inc.                      Winter    24.117647     7.122871\n",
       "Ho Kinh Doanh Do Tan Phong                Summer    35.384615    25.937548\n",
       "IBANEZBLACK                               Spring   103.076923    81.177236\n",
       "                                          Summer         47.3    25.333553\n",
       "                                          Winter         55.6    41.395652\n",
       "IGROSHOP, LLC                             Spring    54.444444    35.039660\n",
       "                                          Summer        500.0          NaN\n",
       "                                          Winter        175.0    35.355339\n",
       "Infinity Cards and Games                  Spring   381.707317   375.791847\n",
       "                                          Summer   558.333333   374.722119\n",
       "                                          Winter   292.307692   255.641476\n",
       "JS Music Corporation                      Winter    84.615385    31.521259\n",
       "KorsIT                                    Spring         71.0    77.894159\n",
       "                                          Summer    34.166667    35.974528\n",
       "                                          Winter         98.5    76.341703\n",
       "KorsIT (CAD)                              Spring    54.545455    32.051096\n",
       "                                          Summer         50.0     0.000000\n",
       "                                          Winter        200.0          NaN\n",
       "Kuwait Star for General Trading Co. (USD) Spring   206.943463   395.070158\n",
       "                                          Summer   207.284483   300.483952\n",
       "                                          Winter   207.231214   341.698551\n",
       "Legend Time Co Ltd                        Spring         96.5    84.788954\n",
       "                                          Winter         79.0    66.932802\n",
       "MANA MINDS SIA (CAD)                      Spring         30.0    33.756091\n",
       "                                          Summer       20.625     9.038608\n",
       "                                          Winter        11.25     3.535534\n",
       "MANA MINDS SIA (USD)                      Spring   104.576271   148.162864\n",
       "                                          Summer   125.074627   135.197646\n",
       "                                          Winter         75.0    86.231488\n",
       "MMOGA LIMITED                             Spring    42.597403    25.567382\n",
       "                                          Summer    55.357143    26.780036\n",
       "                                          Winter    53.181818    25.144603\n",
       "MOL AccessPortal Sdn Bhd                  Spring         52.5    32.015621\n",
       "                                          Summer   102.142857    41.977754\n",
       "                                          Winter        125.1    81.343510\n",
       "Megagoods, Inc.                           Spring        212.5    61.846584\n",
       "                                          Summer        195.0    63.639610\n",
       "                                          Winter        240.0     0.000000\n",
       "MyGiftCardSupply                          Spring    19.529412    23.166660\n",
       "                                          Summer     7.692308     2.594373\n",
       "                                          Winter     17.60396    26.093325\n",
       "Napan LLC                                 Spring        108.0    49.620784\n",
       "                                          Summer   106.666667    11.547005\n",
       "                                          Winter        120.0    49.396356\n",
       "Nektova                                   Summer        208.0   228.665695\n",
       "Nexus LLC                                 Spring    25.666667    34.149475\n",
       "                                          Summer    28.428571    54.567564\n",
       "OffGamers Global Pte Ltd (CAD)            Spring    19.178571    18.441807\n",
       "                                          Summer    15.857143    14.438705\n",
       "                                          Winter    23.913043    27.262368\n",
       "OffGamers Global Pte Ltd (EUR)            Spring    15.595745    28.687719\n",
       "                                          Summer    39.192308    78.874087\n",
       "                                          Winter    20.925926    20.756697\n",
       "OffGamers Global Pte Ltd (GBP)            Spring     9.857143     4.375255\n",
       "                                          Summer          5.0          NaN\n",
       "                                          Winter         10.5     4.972145\n",
       "OffGamers Global Pte Ltd (USD)            Spring   137.867647   254.944039\n",
       "                                          Summer        154.5   306.454372\n",
       "                                          Winter   244.647059   445.731252\n",
       "Onequark SPA                              Spring    55.052632    80.078070\n",
       "                                          Summer    50.687023    77.590551\n",
       "                                          Winter     58.94702    88.943637\n",
       "Onequark SPA (EUR)                        Spring        100.0     0.000000\n",
       "                                          Summer         65.0    49.497475\n",
       "                                          Winter    66.666667    28.867513\n",
       "PLAY-ASIA.COM (CAD)                       Spring         12.6     9.011104\n",
       "                                          Summer    16.416667    12.413031\n",
       "                                          Winter    19.307692    13.838408\n",
       "PLAY-ASIA.COM (EUR)                       Summer     3.970588     1.266953\n",
       "PLAY-ASIA.COM (USD)                       Spring    36.088095    61.583010\n",
       "                                          Summer    33.924171    65.157421\n",
       "                                          Winter    27.257732    43.136418\n",
       "PSNTHAILAND                               Spring    12.067227     8.857374\n",
       "                                          Summer    11.521739     7.060812\n",
       "                                          Winter    11.966667     6.691676\n",
       "PT.SARANA CIPTA KREASI CEMERLANG          Spring    19.883721     9.666361\n",
       "                                          Summer         17.5    11.560876\n",
       "                                          Winter    16.730769     7.416510\n",
       "PayThem.Net WLL                           Spring    51.597015    65.632831\n",
       "                                          Summer       56.875    69.407051\n",
       "                                          Winter    31.795455    31.163171\n",
       "Play Coin Pte Ltd                         Spring   108.968254   102.791668\n",
       "                                          Summer    99.210526   100.808293\n",
       "                                          Winter   111.486486   100.433068\n",
       "PrePaid Games LTD                         Spring        500.0          NaN\n",
       "QIMENG TRADING CO., LIMITED               Spring        264.0   400.863651\n",
       "                                          Summer   263.548387   204.198407\n",
       "                                          Winter       308.28   253.352936\n",
       "Qisahn Pte Ltd                            Spring        100.0     0.000000\n",
       "RENAN PADUA STEFANON                      Spring        496.0   136.176356\n",
       "                                          Summer        225.0    35.355339\n",
       "SCRATCH MONKEYS (USD)                     Spring    36.815668    57.456853\n",
       "                                          Summer     43.27907    60.561617\n",
       "                                          Winter    38.227586    64.380029\n",
       "SETAR                                     Summer       1000.0          NaN\n",
       "SOLA FIDE, INC. dba. MAXIMUSCARDS         Spring    67.741935    26.765609\n",
       "                                          Summer    60.416667    24.905123\n",
       "                                          Winter    70.238095    26.947922\n",
       "Scratch Monkeys (CAD)                     Spring     2.181818     1.470930\n",
       "                                          Summer          5.0     0.000000\n",
       "                                          Winter          4.0          NaN\n",
       "Sea Gamer Mall Sdn Bhd                    Spring    32.963158    65.068574\n",
       "                                          Summer    39.913793    66.802480\n",
       "                                          Winter    87.773333   303.148116\n",
       "VERVE MULTIMEDIA INC                      Spring    59.240506    72.953180\n",
       "                                          Summer    74.854701    94.918773\n",
       "                                          Winter    83.789116   102.926642\n",
       "iGiftcard4u.com                           Spring         27.5    17.677670\n",
       "                                          Summer         20.0     0.000000\n",
       "                                          Winter    26.666667     5.773503"
      ]
     },
     "execution_count": 182,
     "metadata": {},
     "output_type": "execute_result"
    }
   ],
   "source": [
    "grouped"
   ]
  },
  {
   "cell_type": "code",
   "execution_count": 183,
   "id": "6fea6cf5-6a08-4594-90cb-b693f0aa1dbb",
   "metadata": {
    "tags": []
   },
   "outputs": [
    {
     "data": {
      "text/html": [
       "<div>\n",
       "<style scoped>\n",
       "    .dataframe tbody tr th:only-of-type {\n",
       "        vertical-align: middle;\n",
       "    }\n",
       "\n",
       "    .dataframe tbody tr th {\n",
       "        vertical-align: top;\n",
       "    }\n",
       "\n",
       "    .dataframe thead th {\n",
       "        text-align: right;\n",
       "    }\n",
       "</style>\n",
       "<table border=\"1\" class=\"dataframe\">\n",
       "  <thead>\n",
       "    <tr style=\"text-align: right;\">\n",
       "      <th></th>\n",
       "      <th>sales_order_id</th>\n",
       "      <th>date</th>\n",
       "      <th>id</th>\n",
       "      <th>created_at</th>\n",
       "      <th>quantity</th>\n",
       "      <th>sku</th>\n",
       "      <th>name</th>\n",
       "      <th>name_i</th>\n",
       "      <th>face_price</th>\n",
       "      <th>currency</th>\n",
       "      <th>country</th>\n",
       "      <th>state_i</th>\n",
       "      <th>state_o</th>\n",
       "      <th>status</th>\n",
       "      <th>external_unit_price</th>\n",
       "      <th>name_o</th>\n",
       "      <th>city</th>\n",
       "      <th>country_o</th>\n",
       "      <th>year</th>\n",
       "      <th>month</th>\n",
       "      <th>day</th>\n",
       "      <th>weekday</th>\n",
       "      <th>price</th>\n",
       "      <th>total</th>\n",
       "      <th>net_price</th>\n",
       "      <th>net_income</th>\n",
       "      <th>percent_margin</th>\n",
       "      <th>season</th>\n",
       "      <th>client_season_cluster</th>\n",
       "      <th>mean</th>\n",
       "      <th>std</th>\n",
       "      <th>sensitivity_score</th>\n",
       "      <th>mean_stats</th>\n",
       "      <th>std_stats</th>\n",
       "      <th>mean_stats</th>\n",
       "      <th>std_stats</th>\n",
       "      <th>mean_stats</th>\n",
       "      <th>std_stats</th>\n",
       "    </tr>\n",
       "  </thead>\n",
       "  <tbody>\n",
       "    <tr>\n",
       "      <th>7216</th>\n",
       "      <td>19630</td>\n",
       "      <td>2023-06-13</td>\n",
       "      <td>116820</td>\n",
       "      <td>2023-06-13 11:15:14</td>\n",
       "      <td>30</td>\n",
       "      <td>IT100</td>\n",
       "      <td>Apple Gift Card $100 (USA)</td>\n",
       "      <td>APPLE</td>\n",
       "      <td>100.0</td>\n",
       "      <td>USD</td>\n",
       "      <td>US</td>\n",
       "      <td>fulfilled</td>\n",
       "      <td>complete</td>\n",
       "      <td>0</td>\n",
       "      <td>{\"amount\": 9747, \"currency\": \"USD\"}</td>\n",
       "      <td>BNB CARD CO. LTD</td>\n",
       "      <td>BANGKOK</td>\n",
       "      <td>TH</td>\n",
       "      <td>2023</td>\n",
       "      <td>6</td>\n",
       "      <td>13</td>\n",
       "      <td>Tuesday</td>\n",
       "      <td>97.47</td>\n",
       "      <td>2924.1</td>\n",
       "      <td>2.53</td>\n",
       "      <td>75.9</td>\n",
       "      <td>2.53</td>\n",
       "      <td>Summer</td>\n",
       "      <td>2.0</td>\n",
       "      <td>38.571429</td>\n",
       "      <td>6.900656</td>\n",
       "      <td>NaN</td>\n",
       "      <td>38.571429</td>\n",
       "      <td>6.900656</td>\n",
       "      <td>48.666667</td>\n",
       "      <td>22.896674</td>\n",
       "      <td>43.846154</td>\n",
       "      <td>13.587324</td>\n",
       "    </tr>\n",
       "    <tr>\n",
       "      <th>4214</th>\n",
       "      <td>19424</td>\n",
       "      <td>2023-05-18</td>\n",
       "      <td>115703</td>\n",
       "      <td>2023-05-18 12:19:24</td>\n",
       "      <td>250</td>\n",
       "      <td>PSN50</td>\n",
       "      <td>PlayStation Network Card $50 (USA)</td>\n",
       "      <td>SONY</td>\n",
       "      <td>50.0</td>\n",
       "      <td>USD</td>\n",
       "      <td>US</td>\n",
       "      <td>fulfilled</td>\n",
       "      <td>complete</td>\n",
       "      <td>0</td>\n",
       "      <td>{\"amount\": 4488, \"currency\": \"USD\"}</td>\n",
       "      <td>Kuwait Star for General Trading Co. (USD)</td>\n",
       "      <td>Fahaheal</td>\n",
       "      <td>KW</td>\n",
       "      <td>2023</td>\n",
       "      <td>5</td>\n",
       "      <td>18</td>\n",
       "      <td>Thursday</td>\n",
       "      <td>44.88</td>\n",
       "      <td>11220.0</td>\n",
       "      <td>5.12</td>\n",
       "      <td>1280.0</td>\n",
       "      <td>10.24</td>\n",
       "      <td>Spring</td>\n",
       "      <td>3.0</td>\n",
       "      <td>250.0</td>\n",
       "      <td>84.515425</td>\n",
       "      <td>NaN</td>\n",
       "      <td>250.0</td>\n",
       "      <td>84.515425</td>\n",
       "      <td>207.09965</td>\n",
       "      <td>361.162923</td>\n",
       "      <td>206.943463</td>\n",
       "      <td>395.070158</td>\n",
       "    </tr>\n",
       "    <tr>\n",
       "      <th>68</th>\n",
       "      <td>18817</td>\n",
       "      <td>2023-03-01</td>\n",
       "      <td>112253</td>\n",
       "      <td>2023-03-01 09:49:04</td>\n",
       "      <td>5</td>\n",
       "      <td>PSN60</td>\n",
       "      <td>PlayStation Network Card $60 (USA)</td>\n",
       "      <td>SONY</td>\n",
       "      <td>60.0</td>\n",
       "      <td>USD</td>\n",
       "      <td>US</td>\n",
       "      <td>fulfilled</td>\n",
       "      <td>complete</td>\n",
       "      <td>0</td>\n",
       "      <td>{\"amount\": 5490, \"currency\": \"USD\"}</td>\n",
       "      <td>PSNTHAILAND</td>\n",
       "      <td>Bangbon</td>\n",
       "      <td>TH</td>\n",
       "      <td>2023</td>\n",
       "      <td>3</td>\n",
       "      <td>1</td>\n",
       "      <td>Wednesday</td>\n",
       "      <td>54.90</td>\n",
       "      <td>274.5</td>\n",
       "      <td>5.10</td>\n",
       "      <td>25.5</td>\n",
       "      <td>8.50</td>\n",
       "      <td>Spring</td>\n",
       "      <td>2.0</td>\n",
       "      <td>6.25</td>\n",
       "      <td>2.500000</td>\n",
       "      <td>NaN</td>\n",
       "      <td>6.25</td>\n",
       "      <td>2.500000</td>\n",
       "      <td>11.928889</td>\n",
       "      <td>7.948737</td>\n",
       "      <td>12.067227</td>\n",
       "      <td>8.857374</td>\n",
       "    </tr>\n",
       "  </tbody>\n",
       "</table>\n",
       "</div>"
      ],
      "text/plain": [
       "      sales_order_id       date      id          created_at  quantity    sku  \\\n",
       "7216           19630 2023-06-13  116820 2023-06-13 11:15:14        30  IT100   \n",
       "4214           19424 2023-05-18  115703 2023-05-18 12:19:24       250  PSN50   \n",
       "68             18817 2023-03-01  112253 2023-03-01 09:49:04         5  PSN60   \n",
       "\n",
       "                                    name name_i  face_price currency country  \\\n",
       "7216          Apple Gift Card $100 (USA)  APPLE       100.0      USD      US   \n",
       "4214  PlayStation Network Card $50 (USA)   SONY        50.0      USD      US   \n",
       "68    PlayStation Network Card $60 (USA)   SONY        60.0      USD      US   \n",
       "\n",
       "        state_i   state_o  status                  external_unit_price  \\\n",
       "7216  fulfilled  complete       0  {\"amount\": 9747, \"currency\": \"USD\"}   \n",
       "4214  fulfilled  complete       0  {\"amount\": 4488, \"currency\": \"USD\"}   \n",
       "68    fulfilled  complete       0  {\"amount\": 5490, \"currency\": \"USD\"}   \n",
       "\n",
       "                                         name_o      city country_o  year  \\\n",
       "7216                           BNB CARD CO. LTD   BANGKOK        TH  2023   \n",
       "4214  Kuwait Star for General Trading Co. (USD)  Fahaheal        KW  2023   \n",
       "68                                  PSNTHAILAND   Bangbon        TH  2023   \n",
       "\n",
       "      month  day    weekday  price    total  net_price  net_income  \\\n",
       "7216      6   13    Tuesday  97.47   2924.1       2.53        75.9   \n",
       "4214      5   18   Thursday  44.88  11220.0       5.12      1280.0   \n",
       "68        3    1  Wednesday  54.90    274.5       5.10        25.5   \n",
       "\n",
       "      percent_margin  season  client_season_cluster       mean        std  \\\n",
       "7216            2.53  Summer                    2.0  38.571429   6.900656   \n",
       "4214           10.24  Spring                    3.0      250.0  84.515425   \n",
       "68              8.50  Spring                    2.0       6.25   2.500000   \n",
       "\n",
       "      sensitivity_score  mean_stats  std_stats  mean_stats   std_stats  \\\n",
       "7216                NaN   38.571429   6.900656   48.666667   22.896674   \n",
       "4214                NaN       250.0  84.515425   207.09965  361.162923   \n",
       "68                  NaN        6.25   2.500000   11.928889    7.948737   \n",
       "\n",
       "      mean_stats   std_stats  \n",
       "7216   43.846154   13.587324  \n",
       "4214  206.943463  395.070158  \n",
       "68     12.067227    8.857374  "
      ]
     },
     "execution_count": 183,
     "metadata": {},
     "output_type": "execute_result"
    }
   ],
   "source": [
    "df.sample(3)"
   ]
  },
  {
   "cell_type": "code",
   "execution_count": null,
   "id": "637773e0-93d7-480e-925a-a0ba3c717aa1",
   "metadata": {},
   "outputs": [],
   "source": []
  },
  {
   "cell_type": "code",
   "execution_count": 58,
   "id": "1e823228-2e8c-43cc-b914-cea6d9421273",
   "metadata": {
    "tags": []
   },
   "outputs": [],
   "source": [
    "# calculate the most frequent price at which a particular product \n",
    "# was sold in a respective week and year\n",
    "def top_value_count(x):\n",
    "    return x.value_counts().idxmax()\n",
    "prices_top_freq = df.groupby(['month', 'sku'])['price']\n",
    "prices = prices_top_freq.apply(top_value_count).reset_index()"
   ]
  },
  {
   "cell_type": "code",
   "execution_count": 72,
   "id": "a8aa357f-0b52-4472-b59d-426f49a55cc5",
   "metadata": {
    "tags": []
   },
   "outputs": [
    {
     "data": {
      "text/html": [
       "<div>\n",
       "<style scoped>\n",
       "    .dataframe tbody tr th:only-of-type {\n",
       "        vertical-align: middle;\n",
       "    }\n",
       "\n",
       "    .dataframe tbody tr th {\n",
       "        vertical-align: top;\n",
       "    }\n",
       "\n",
       "    .dataframe thead th {\n",
       "        text-align: right;\n",
       "    }\n",
       "</style>\n",
       "<table border=\"1\" class=\"dataframe\">\n",
       "  <thead>\n",
       "    <tr style=\"text-align: right;\">\n",
       "      <th>month</th>\n",
       "      <th>1</th>\n",
       "      <th>2</th>\n",
       "      <th>3</th>\n",
       "      <th>4</th>\n",
       "      <th>5</th>\n",
       "      <th>6</th>\n",
       "    </tr>\n",
       "    <tr>\n",
       "      <th>sku</th>\n",
       "      <th></th>\n",
       "      <th></th>\n",
       "      <th></th>\n",
       "      <th></th>\n",
       "      <th></th>\n",
       "      <th></th>\n",
       "    </tr>\n",
       "  </thead>\n",
       "  <tbody>\n",
       "    <tr>\n",
       "      <th>AB100</th>\n",
       "      <td>97.72</td>\n",
       "      <td>97.72</td>\n",
       "      <td>97.72</td>\n",
       "      <td>NaN</td>\n",
       "      <td>NaN</td>\n",
       "      <td>NaN</td>\n",
       "    </tr>\n",
       "    <tr>\n",
       "      <th>AB25</th>\n",
       "      <td>23.95</td>\n",
       "      <td>23.95</td>\n",
       "      <td>NaN</td>\n",
       "      <td>NaN</td>\n",
       "      <td>NaN</td>\n",
       "      <td>24.43</td>\n",
       "    </tr>\n",
       "    <tr>\n",
       "      <th>AB50</th>\n",
       "      <td>48.86</td>\n",
       "      <td>48.86</td>\n",
       "      <td>47.90</td>\n",
       "      <td>NaN</td>\n",
       "      <td>NaN</td>\n",
       "      <td>NaN</td>\n",
       "    </tr>\n",
       "    <tr>\n",
       "      <th>AL1000</th>\n",
       "      <td>NaN</td>\n",
       "      <td>NaN</td>\n",
       "      <td>NaN</td>\n",
       "      <td>10.7</td>\n",
       "      <td>NaN</td>\n",
       "      <td>NaN</td>\n",
       "    </tr>\n",
       "    <tr>\n",
       "      <th>AL2150</th>\n",
       "      <td>NaN</td>\n",
       "      <td>NaN</td>\n",
       "      <td>NaN</td>\n",
       "      <td>19.8</td>\n",
       "      <td>NaN</td>\n",
       "      <td>NaN</td>\n",
       "    </tr>\n",
       "  </tbody>\n",
       "</table>\n",
       "</div>"
      ],
      "text/plain": [
       "month       1      2      3     4   5      6\n",
       "sku                                         \n",
       "AB100   97.72  97.72  97.72   NaN NaN    NaN\n",
       "AB25    23.95  23.95    NaN   NaN NaN  24.43\n",
       "AB50    48.86  48.86  47.90   NaN NaN    NaN\n",
       "AL1000    NaN    NaN    NaN  10.7 NaN    NaN\n",
       "AL2150    NaN    NaN    NaN  19.8 NaN    NaN"
      ]
     },
     "execution_count": 72,
     "metadata": {},
     "output_type": "execute_result"
    }
   ],
   "source": [
    "# Pivot the prices dataframe to have months as columns and SKUs as rows\n",
    "pivot_prices = prices.pivot(index='sku', columns=['month'], values='price')\n",
    "pivot_prices = pivot_prices.fillna(pivot_prices.mean(axis=1))\n",
    "pivot_prices.columns = pivot_prices.columns.astype(str)\n",
    "pivot_prices.head()"
   ]
  },
  {
   "cell_type": "code",
   "execution_count": 76,
   "id": "f84896a9-541a-42a2-a102-fe9d67ad529d",
   "metadata": {
    "tags": []
   },
   "outputs": [
    {
     "data": {
      "text/plain": [
       "'sales_per_month.html'"
      ]
     },
     "execution_count": 76,
     "metadata": {},
     "output_type": "execute_result"
    }
   ],
   "source": [
    "import plotly.offline as offline\n",
    "data = []\n",
    "for sku in pivot_prices.index:\n",
    "    trace = go.Scatter(\n",
    "        x=pivot_prices.columns,\n",
    "        y=pivot_prices.loc[sku],\n",
    "        mode='lines',\n",
    "        name=sku\n",
    "    )\n",
    "    data.append(trace)\n",
    "data\n",
    "# Create the layout for the chart\n",
    "layout = go.Layout(\n",
    "    title='Sales per Month by SKU',\n",
    "    xaxis=dict(title='Month'),\n",
    "    yaxis=dict(title='Sales'),\n",
    "    legend=dict(orientation='h')\n",
    ")\n",
    "\n",
    "# Create the figure\n",
    "fig = go.Figure(data=data, layout=layout)\n",
    "\n",
    "# Render the graph\n",
    "offline.plot(fig, filename='sales_per_month.html')"
   ]
  },
  {
   "cell_type": "code",
   "execution_count": null,
   "id": "b81ca93b-bff6-43e1-b43d-2b0b9d7058e5",
   "metadata": {
    "tags": []
   },
   "outputs": [],
   "source": []
  },
  {
   "cell_type": "code",
   "execution_count": null,
   "id": "be1d8984-950e-4bac-8410-d24062f4d307",
   "metadata": {},
   "outputs": [],
   "source": []
  },
  {
   "cell_type": "code",
   "execution_count": null,
   "id": "506b188d-e4ec-415f-8ba9-25f11d1d40ec",
   "metadata": {},
   "outputs": [],
   "source": []
  },
  {
   "cell_type": "code",
   "execution_count": null,
   "id": "d3328fad-7b6a-4b8a-b604-2312fa8a2e8e",
   "metadata": {},
   "outputs": [],
   "source": []
  },
  {
   "cell_type": "code",
   "execution_count": null,
   "id": "b928a0be-64a1-40ac-9c4b-07474338360b",
   "metadata": {},
   "outputs": [],
   "source": [
    "# predict the price of the product\n",
    "# Drop irrelevant columns and handle missing data\n",
    "df = df[['sku','quantity','product_weight_g', 'product_length_cm','product_height_cm','product_width_cm','customer_state','price']]\n",
    "df = df.dropna()\n",
    "\n",
    "# Remove outliers\n",
    "df = df[(df['price'] >= df['price'].quantile(0.05)) & (df['price'] <= df['price'].quantile(0.95))]\n",
    "\n",
    "# Convert categorical variables to numerical values\n",
    "df = pd.get_dummies(df, columns=['product_category_name', 'customer_state'])\n",
    "\n",
    "# Split the data into training and testing sets\n",
    "X_train, X_test, y_train, y_test = train_test_split(df.drop('price', axis=1), df['price'], test_size=0.2, random_state=42)\n",
    "\n",
    "# Train a machine learning model\n",
    "rf = RandomForestRegressor(n_estimators=100, random_state=42)\n",
    "rf.fit(X_train, y_train)\n",
    "\n",
    "# Evaluate the model\n",
    "y_pred = rf.predict(X_test)\n",
    "mae = mean_absolute_error(y_test, y_pred)\n",
    "print(\"Mean absolute error:\", mae)"
   ]
  },
  {
   "cell_type": "code",
   "execution_count": null,
   "id": "d57d5f47-9397-4feb-a18b-8ef67419dc91",
   "metadata": {
    "tags": []
   },
   "outputs": [],
   "source": []
  },
  {
   "cell_type": "code",
   "execution_count": null,
   "id": "18937d11-c240-4b40-b3d3-d1771fa2afd5",
   "metadata": {},
   "outputs": [],
   "source": []
  },
  {
   "cell_type": "code",
   "execution_count": null,
   "id": "b649868a-b076-40ff-8f29-a5b05d41160c",
   "metadata": {},
   "outputs": [],
   "source": []
  },
  {
   "cell_type": "code",
   "execution_count": null,
   "id": "940e41d9-fd55-46c6-bd91-b452b9fdbd46",
   "metadata": {},
   "outputs": [],
   "source": []
  },
  {
   "cell_type": "code",
   "execution_count": null,
   "id": "1dd2b313-7715-4573-89a6-83c8c37a1cc1",
   "metadata": {},
   "outputs": [],
   "source": []
  },
  {
   "cell_type": "code",
   "execution_count": null,
   "id": "4882ed32-42fc-45d0-9cce-0c825172f19c",
   "metadata": {},
   "outputs": [],
   "source": [
    "# #query SQL\n",
    "# #db = customers\n",
    "# #table = 'accounts'\n",
    "# query = \"\"\"\n",
    "# SELECT i.sales_order_id, i.id, i.quantity, i.product_id, i.state, i.status, i.created_at, i.external_unit_price,\n",
    "#        p.id AS sku_id, p.sku, p.name, p.description, p.currency, p.brand_id, p.face_price, p.country, b.name,\n",
    "#        o.date, o.invoice_number, o.state, o.customer_company_id, c.id AS id_o, c.name AS name_o, a.city, a.country, x.finance_number, x.sales_order_id AS sales_order_id_o\n",
    "#         FROM (SELECT *\n",
    "#               FROM ezscm_production.sales_order_items\n",
    "#               WHERE created_at BETWEEN '2019-01-01' AND '2023-12-31') AS i\n",
    "#         LEFT OUTER JOIN (SELECT *\n",
    "#                          FROM ezscm_production.sales_orders\n",
    "#                          WHERE date BETWEEN '2019-01-01' AND '2023-12-31') AS o\n",
    "#             ON o.id = i.sales_order_id\n",
    "#         LEFT OUTER JOIN ezscm_production.products AS p\n",
    "#             ON p.id = i.product_id\n",
    "#         LEFT OUTER JOIN ezscm_production.brands AS b\n",
    "#             ON p.brand_id = b.id\n",
    "#         LEFT OUTER JOIN ezscm_production.companies AS c\n",
    "#             ON o.customer_company_id = c.id\n",
    "#         LEFT OUTER JOIN ezscm_production.addresses AS a\n",
    "#             ON c.billing_address_id = a.id\n",
    "#         LEFT OUTER JOIN ezscm_production.invoices AS x\n",
    "#             ON o.invoice_number = x.finance_number\n",
    "\n",
    "# \"\"\""
   ]
  },
  {
   "cell_type": "code",
   "execution_count": null,
   "id": "342e5403-14a7-46cb-915d-989282977ac0",
   "metadata": {},
   "outputs": [],
   "source": [
    "# #connect cursor\n",
    "# cursor.execute(query)\n",
    "# rows = cursor.fetchall()\n",
    "# df = pd.read_sql(query,conn)"
   ]
  },
  {
   "cell_type": "code",
   "execution_count": null,
   "id": "1de0e8d8-073d-4073-9fea-2328ab200134",
   "metadata": {},
   "outputs": [],
   "source": [
    "# df.to_csv('/Users/laetitiahoquetis/Downloads/Python/Dashboard/EZIitemsFull.csv', index=False)"
   ]
  },
  {
   "cell_type": "code",
   "execution_count": null,
   "id": "e4581444-59d0-4305-9319-2d67c93dc4d3",
   "metadata": {
    "slideshow": {
     "slide_type": "skip"
    }
   },
   "outputs": [],
   "source": [
    "# #query SQL\n",
    "# #db = customers\n",
    "# #table = 'accounts'\n",
    "# query = \"\"\"\n",
    "# SELECT o.id , o.date, o.invoice_number, o.state, o.customer_company_id, \n",
    "# c.id , c.name, a.city, a.country, x.finance_number, x.sales_order_id\n",
    "\n",
    "# FROM ezscm_production.sales_orders as o\n",
    "# JOIN ezscm_production.companies as c\n",
    "# ON o.customer_company_id = c.id\n",
    "\n",
    "# LEFT OUTER JOIN ezscm_production.addresses as a\n",
    "# ON c.billing_address_id = a.id\n",
    "\n",
    "# LEFT OUTER JOIN ezscm_production.invoices as x\n",
    "# ON o.invoice_number = x.finance_number\n",
    "\n",
    "# WHERE o.date BETWEEN '2019-01-01' AND '2023-12-31'\n",
    "# \"\"\"\n",
    "# cursor.execute(query)\n",
    "# rows = cursor.fetchall()"
   ]
  },
  {
   "cell_type": "code",
   "execution_count": null,
   "id": "5fe076d5-13cb-4661-9595-b2b7206c1589",
   "metadata": {},
   "outputs": [],
   "source": []
  },
  {
   "cell_type": "code",
   "execution_count": null,
   "id": "2d26e017-48dc-4d94-9939-231e6f6f8dfa",
   "metadata": {},
   "outputs": [],
   "source": []
  },
  {
   "cell_type": "code",
   "execution_count": null,
   "id": "a05a64da-63e4-40b9-901d-c1c6a6bc96c7",
   "metadata": {},
   "outputs": [],
   "source": []
  },
  {
   "cell_type": "code",
   "execution_count": null,
   "id": "78806eaa-13ea-4431-88be-a545a415fc23",
   "metadata": {},
   "outputs": [],
   "source": [
    "# Read the two CSV files into DataFrames\n",
    "df1 = pd.read_csv('EZItotalFull.csv')\n",
    "df2 = pd.read_csv('df.csv')\n",
    "\n",
    "# Merge the two dataframes on the columns that you want to use for comparison\n",
    "merged_df = pd.merge(df1, df2, on=['id'])\n",
    "\n",
    "# Identify duplicates\n",
    "duplicates = merged_df[merged_df.duplicated()]\n",
    "duplicates"
   ]
  },
  {
   "cell_type": "code",
   "execution_count": null,
   "id": "8fedaf80-7600-4b8d-8f25-ac6ef2ab7825",
   "metadata": {},
   "outputs": [],
   "source": [
    "df1.info()"
   ]
  },
  {
   "cell_type": "code",
   "execution_count": null,
   "id": "f4f151aa-9d02-4025-b996-ebe725d34c12",
   "metadata": {},
   "outputs": [],
   "source": [
    "df2.info()"
   ]
  },
  {
   "cell_type": "code",
   "execution_count": null,
   "id": "f87e2cdc-101f-4810-b3a3-c4f45260aa9c",
   "metadata": {},
   "outputs": [],
   "source": [
    "df2 = df2.drop_duplicates()"
   ]
  },
  {
   "cell_type": "code",
   "execution_count": null,
   "id": "9c2f1fc2-cfcf-4b5e-8f70-741972d91918",
   "metadata": {},
   "outputs": [],
   "source": [
    "df2.info"
   ]
  },
  {
   "cell_type": "code",
   "execution_count": null,
   "id": "e862a9a3-62e6-4a80-bbbb-7f2379fcf5b7",
   "metadata": {},
   "outputs": [],
   "source": []
  },
  {
   "cell_type": "code",
   "execution_count": null,
   "id": "89fbeabe-8d9b-46c9-9f50-604ce40b0cf5",
   "metadata": {},
   "outputs": [],
   "source": []
  },
  {
   "cell_type": "code",
   "execution_count": null,
   "id": "b3c82f53-d143-4cc7-ba83-d158b99dd263",
   "metadata": {},
   "outputs": [],
   "source": []
  },
  {
   "cell_type": "code",
   "execution_count": null,
   "id": "5cda7801-cb40-47b2-b689-ddc883a172e9",
   "metadata": {},
   "outputs": [],
   "source": []
  },
  {
   "cell_type": "code",
   "execution_count": null,
   "id": "0a5fc9ff-acbf-4423-ad33-5165f8fe9486",
   "metadata": {},
   "outputs": [],
   "source": [
    "#end testing"
   ]
  },
  {
   "cell_type": "code",
   "execution_count": null,
   "id": "b7b969c8-8d3b-4dcc-b1ba-f762422d3560",
   "metadata": {
    "slideshow": {
     "slide_type": "skip"
    }
   },
   "outputs": [],
   "source": [
    "# df1 = pd.read_sql(query,conn)\n",
    "# df1.to_csv('/Users/laetitiahoquetis/Downloads/Python/Dashboard/EZIordersFull.csv', index=False)"
   ]
  },
  {
   "cell_type": "code",
   "execution_count": null,
   "id": "82f3d9dc-f1a7-417f-b26a-079559c58a9d",
   "metadata": {
    "slideshow": {
     "slide_type": "skip"
    }
   },
   "outputs": [],
   "source": [
    "df = pd.read_csv('EZItotalFull.csv')\n",
    "pd.options.display.max_columns = None\n",
    "pd.options.display.max_rows = None\n",
    "df = df.sort_index(ascending=True)\n",
    "df.head(3)"
   ]
  },
  {
   "cell_type": "code",
   "execution_count": null,
   "id": "b8cb62f0-9cd9-43d2-aeee-879c02ee60dc",
   "metadata": {
    "slideshow": {
     "slide_type": "skip"
    }
   },
   "outputs": [],
   "source": [
    "# #and\n",
    "# df1 = pd.read_csv('EZIordersFull.csv')\n",
    "# df1 = df1.sort_index(ascending=True)\n",
    "# df1.head(3)"
   ]
  },
  {
   "cell_type": "code",
   "execution_count": null,
   "id": "db28a8a4-c63d-4ac6-adb6-1f70c333c290",
   "metadata": {
    "slideshow": {
     "slide_type": "skip"
    }
   },
   "outputs": [],
   "source": [
    "#clean by date for dfatabase\n",
    "from datetime import datetime\n",
    "df[\"date\"] = pd.to_datetime(df['date'],format= '%Y-%m-%d').dt.date\n",
    "df[\"created_at\"] = pd.to_datetime(df['created_at'],format= '%Y-%m-%d').dt.date\n",
    "len(df[\"created_at\"].unique()), len(df[\"date\"].unique()),"
   ]
  },
  {
   "cell_type": "code",
   "execution_count": null,
   "id": "e99a2182-97f2-4c17-90b4-282fc3ce5ef4",
   "metadata": {
    "slideshow": {
     "slide_type": "skip"
    }
   },
   "outputs": [],
   "source": [
    "len(df.sales_order_id), df.sales_order_id.nunique(),len(df.id), df.id.nunique()"
   ]
  },
  {
   "cell_type": "code",
   "execution_count": null,
   "id": "37abc492-9d5a-4436-9835-021fb3f88f52",
   "metadata": {
    "slideshow": {
     "slide_type": "skip"
    }
   },
   "outputs": [],
   "source": [
    "df = df.sort_values(['date','id'],ascending=[True, True])\n",
    "df.head(3)"
   ]
  },
  {
   "cell_type": "code",
   "execution_count": null,
   "id": "76676038-52d0-42b7-8803-800460a2aeec",
   "metadata": {
    "slideshow": {
     "slide_type": "skip"
    }
   },
   "outputs": [],
   "source": [
    "#clean id to be exploitable\n",
    "df.sales_order_id.fillna(df.id, inplace=True)"
   ]
  },
  {
   "cell_type": "code",
   "execution_count": null,
   "id": "51cf164c-66dc-49c6-b14a-f70827d891ae",
   "metadata": {
    "slideshow": {
     "slide_type": "skip"
    }
   },
   "outputs": [],
   "source": [
    "df.id = pd.to_numeric(df.id)\n",
    "df.sales_order_id = pd.to_numeric(df.sales_order_id)"
   ]
  },
  {
   "cell_type": "code",
   "execution_count": null,
   "id": "76a7ebfa-f5e6-4f45-9994-96f100a2e733",
   "metadata": {
    "slideshow": {
     "slide_type": "skip"
    }
   },
   "outputs": [],
   "source": [
    "df.sales_order_id = pd.to_numeric(df.sales_order_id,downcast='integer', errors='ignore')"
   ]
  },
  {
   "cell_type": "code",
   "execution_count": null,
   "id": "8a2f3950-debe-4ea9-990a-348c1942ac45",
   "metadata": {
    "slideshow": {
     "slide_type": "skip"
    }
   },
   "outputs": [],
   "source": [
    "len(df), df.sales_order_id.nunique()"
   ]
  },
  {
   "cell_type": "code",
   "execution_count": null,
   "id": "65a720ea-827e-4e8e-875b-a8750bde5a9d",
   "metadata": {
    "slideshow": {
     "slide_type": "skip"
    }
   },
   "outputs": [],
   "source": []
  },
  {
   "cell_type": "code",
   "execution_count": null,
   "id": "43e81d4e-5a4d-498c-9302-21efb9f27a7a",
   "metadata": {
    "slideshow": {
     "slide_type": "skip"
    }
   },
   "outputs": [],
   "source": []
  },
  {
   "cell_type": "code",
   "execution_count": null,
   "id": "f03f223f-f235-4b97-8cb0-3c59db8527f1",
   "metadata": {
    "slideshow": {
     "slide_type": "skip"
    }
   },
   "outputs": [],
   "source": [
    "dfa = df"
   ]
  },
  {
   "cell_type": "code",
   "execution_count": null,
   "id": "0bc3d909-171e-426a-93c5-cefa863d4b36",
   "metadata": {
    "slideshow": {
     "slide_type": "skip"
    }
   },
   "outputs": [],
   "source": [
    "#merge the 2 datasets on id"
   ]
  },
  {
   "cell_type": "code",
   "execution_count": null,
   "id": "2324718b-4e50-4ccc-ae54-2d75e69bddfe",
   "metadata": {
    "slideshow": {
     "slide_type": "skip"
    }
   },
   "outputs": [],
   "source": [
    "# dfa= pd.merge(\n",
    "#     df1,\n",
    "#     df,\n",
    "#     how=\"outer\",\n",
    "#     left_on=df1[\"id\"],\n",
    "#     right_on = df[\"sales_order_id\"],\n",
    "#     sort=True,\n",
    "#     suffixes=(\"_o\", \"_i\"),\n",
    "#     copy=True,\n",
    "#     indicator=True,\n",
    "#     validate=None,\n",
    "# )"
   ]
  },
  {
   "cell_type": "code",
   "execution_count": null,
   "id": "00c5bbb3-a674-44c5-ad46-c96760ee98f7",
   "metadata": {
    "slideshow": {
     "slide_type": "skip"
    }
   },
   "outputs": [],
   "source": [
    "dfa.info()"
   ]
  },
  {
   "cell_type": "code",
   "execution_count": null,
   "id": "b7dcb6d6-e418-4e15-ac23-0e1217da6f7a",
   "metadata": {
    "slideshow": {
     "slide_type": "skip"
    }
   },
   "outputs": [],
   "source": [
    "pd.set_option('display.max_rows', None)\n",
    "pd.set_option('display.max_columns', None)\n",
    "pd.set_option('display.width', None)\n",
    "display.max_columns = None\n",
    "display.max_rows = None\n",
    "display.max_colwidth = None\n",
    "display.width = None"
   ]
  },
  {
   "cell_type": "code",
   "execution_count": null,
   "id": "ac468c2b-e545-4c25-8f63-26011931e8e6",
   "metadata": {
    "slideshow": {
     "slide_type": "skip"
    }
   },
   "outputs": [],
   "source": [
    "dfa[pd.isnull(dfa['name_o'])].head()"
   ]
  },
  {
   "cell_type": "code",
   "execution_count": null,
   "id": "f496e9fd-4211-41a0-b225-1e297c780d66",
   "metadata": {},
   "outputs": [],
   "source": [
    "len(dfa[dfa['city'].isna()])"
   ]
  },
  {
   "cell_type": "code",
   "execution_count": null,
   "id": "756cb2f4-3263-400e-b7bf-593d2d0b83cf",
   "metadata": {
    "slideshow": {
     "slide_type": "skip"
    }
   },
   "outputs": [],
   "source": [
    "#dropping the 30 rows that have not been merged, they all are part of an order of microsoft Xbox 50 on jan 14th 2020"
   ]
  },
  {
   "cell_type": "code",
   "execution_count": null,
   "id": "c9a9a5ae-b56b-4826-81a9-3d20d167a240",
   "metadata": {
    "slideshow": {
     "slide_type": "skip"
    }
   },
   "outputs": [],
   "source": [
    "dfa['_merge'].value_counts()"
   ]
  },
  {
   "cell_type": "code",
   "execution_count": null,
   "id": "77497450-d31c-46d0-8ab5-5116fc59deb0",
   "metadata": {
    "slideshow": {
     "slide_type": "skip"
    }
   },
   "outputs": [],
   "source": [
    "#excluding the rows that do not contain customer data\n",
    "dfa = dfa[dfa._merge == 'both']\n",
    "len(dfa)"
   ]
  },
  {
   "cell_type": "code",
   "execution_count": null,
   "id": "b02621c6-e22d-4cf6-8d4a-94bdcdfebc27",
   "metadata": {
    "slideshow": {
     "slide_type": "skip"
    }
   },
   "outputs": [],
   "source": [
    "dfa.head()"
   ]
  },
  {
   "cell_type": "code",
   "execution_count": null,
   "id": "0e7aa85f-5d53-486d-b30a-b496bd72ddc6",
   "metadata": {
    "slideshow": {
     "slide_type": "skip"
    }
   },
   "outputs": [],
   "source": [
    "#cleaning date to be exploitable\n",
    "dfa[\"date\"] = pd.to_datetime(dfa['date'],format= '%Y-%m-%d').dt.date\n",
    "dfa[\"created_at\"] = pd.to_datetime(dfa['created_at'],format= '%Y-%m-%d').dt.date\n",
    "dfa = dfa.sort_values(by='date')"
   ]
  },
  {
   "cell_type": "code",
   "execution_count": null,
   "id": "8da21851-7654-447d-b3f8-b363f65b896c",
   "metadata": {
    "slideshow": {
     "slide_type": "skip"
    }
   },
   "outputs": [],
   "source": [
    "#cleaning other columns to be exploitable\n",
    "#dfa['Unnamed: 0_o'] = pd.to_numeric(dfa['Unnamed: 0_o'], downcast=\"integer\") \n",
    "dfa['sales_order_id'] = pd.to_numeric(dfa['sales_order_id'], downcast=\"integer\") \n",
    "dfa['customer_company_id'] = pd.to_numeric(dfa['customer_company_id'], downcast=\"integer\") \n",
    "#dfa['id.1_o'] = pd.to_numeric(dfa['id.1_o'], downcast=\"integer\") \n",
    "dfa['sales_order_id_o'] = pd.to_numeric(dfa['sales_order_id_o'], downcast=\"integer\") \n",
    "#dfa['Unnamed: 0_i'] = pd.to_numeric(dfa['Unnamed: 0_i'], downcast=\"integer\") \n",
    "#dfa['sales_order_id_i'] = pd.to_numeric(dfa['sales_order_id_i'], downcast=\"integer\") \n",
    "#dfa['id_i'] = pd.to_numeric(dfa['id_i'], downcast=\"integer\") \n",
    "dfa['quantity'] = pd.to_numeric(dfa['quantity'], downcast=\"integer\") \n",
    "dfa['product_id'] = pd.to_numeric(dfa['product_id'], downcast=\"integer\") \n",
    "#dfa['id.1_i'] = pd.to_numeric(dfa['id.1_i'], downcast=\"integer\") "
   ]
  },
  {
   "cell_type": "code",
   "execution_count": null,
   "id": "5be69162-efa8-477a-860a-2deb59752207",
   "metadata": {
    "slideshow": {
     "slide_type": "skip"
    }
   },
   "outputs": [],
   "source": [
    "dfa = dfa.sort_values(['date','id'],ascending=[True, True])"
   ]
  },
  {
   "cell_type": "code",
   "execution_count": null,
   "id": "c312bd4d-f0f5-433a-8c0d-b1dcec31cdc7",
   "metadata": {
    "slideshow": {
     "slide_type": "skip"
    }
   },
   "outputs": [],
   "source": [
    "#creating more data "
   ]
  },
  {
   "cell_type": "code",
   "execution_count": null,
   "id": "dab38765-87d0-497a-bec8-e9a91d18b383",
   "metadata": {
    "slideshow": {
     "slide_type": "skip"
    }
   },
   "outputs": [],
   "source": [
    "#creating a column that states clearly the unit price in a clean way : currency and price\n",
    "#dfa['currency']= dfa['external_unit_price'].apply(lambda x: x[-5:-2])\n",
    "dfa['price'] = dfa['external_unit_price'].str.extractall('(\\d+)').unstack().loc[:,0]\n",
    "dfa['price'] = pd.to_numeric(dfa['price'], downcast='float')\n",
    "dfa['price'] = dfa['price']/100\n",
    "dfa['price'] = round(dfa['price'], 2)"
   ]
  },
  {
   "cell_type": "code",
   "execution_count": null,
   "id": "d16787ab-2c4b-46e1-941e-d0199bf20caa",
   "metadata": {
    "slideshow": {
     "slide_type": "skip"
    }
   },
   "outputs": [],
   "source": [
    "#creating a order value column : quantity * price\n",
    "dfa['total'] = dfa['quantity']*dfa['price']\n",
    "dfa['total'] = round(dfa['total'],2)"
   ]
  },
  {
   "cell_type": "code",
   "execution_count": null,
   "id": "8a3d809a-e218-47fd-bc84-040827a2f6b7",
   "metadata": {
    "slideshow": {
     "slide_type": "skip"
    }
   },
   "outputs": [],
   "source": [
    "#splitting date into month, and day\n",
    "dfa[\"date\"] = dfa[\"date\"].astype('datetime64[ns]')\n",
    "dfa['year'] = dfa.date.dt.year\n",
    "dfa['month'] = dfa.date.dt.month\n",
    "dfa['day'] = dfa.date.dt.day\n",
    "dfa['weekday'] = dfa.date.dt.day_name()"
   ]
  },
  {
   "cell_type": "code",
   "execution_count": null,
   "id": "4d097511-2bac-4f32-acbe-78c1775a72b0",
   "metadata": {
    "slideshow": {
     "slide_type": "skip"
    }
   },
   "outputs": [],
   "source": [
    "#dfa.to_csv('EZItotalFull.csv',index=False)"
   ]
  },
  {
   "cell_type": "code",
   "execution_count": null,
   "id": "14aaf305-fa00-4e30-b784-515ce69f3e92",
   "metadata": {
    "scrolled": true,
    "slideshow": {
     "slide_type": "skip"
    }
   },
   "outputs": [],
   "source": [
    "dfa.columns"
   ]
  },
  {
   "cell_type": "code",
   "execution_count": null,
   "id": "b3ac7b18",
   "metadata": {},
   "outputs": [],
   "source": []
  },
  {
   "cell_type": "code",
   "execution_count": null,
   "id": "9cbfe5aa",
   "metadata": {},
   "outputs": [],
   "source": [
    "dfa.state_o.head()"
   ]
  },
  {
   "cell_type": "markdown",
   "id": "34766929",
   "metadata": {
    "slideshow": {
     "slide_type": "slide"
    }
   },
   "source": [
    "### Percentage of not \"completed\" orders do we have?"
   ]
  },
  {
   "cell_type": "code",
   "execution_count": null,
   "id": "0ff501a5",
   "metadata": {
    "slideshow": {
     "slide_type": "skip"
    }
   },
   "outputs": [],
   "source": [
    "# dfa = pd.read_csv('EZItotalFull.csv')\n",
    "# dfa[\"date\"] = pd.to_datetime(dfa['date'],format= '%Y-%m-%d').dt.date\n",
    "# dfa[\"date\"] = dfa[\"date\"].astype('datetime64[ns]')\n",
    "# dfa.info()"
   ]
  },
  {
   "cell_type": "markdown",
   "id": "6f018c3a",
   "metadata": {},
   "source": [
    "## START"
   ]
  },
  {
   "cell_type": "code",
   "execution_count": null,
   "id": "6839f4c7-3d85-4389-a1e2-9e8d05074541",
   "metadata": {
    "slideshow": {
     "slide_type": "skip"
    }
   },
   "outputs": [],
   "source": [
    "#what percentage of not complete orders do we have\n",
    "unsuccess = dfa[dfa['state_o']!='complete']\n",
    "unsuccess.groupby('name_o').agg({'quantity':'count','total':'sum'}).sort_values(by='quantity', ascending= False).head(5)"
   ]
  },
  {
   "cell_type": "code",
   "execution_count": null,
   "id": "471cbde2-3bd9-41c7-a773-308efa3dc307",
   "metadata": {
    "slideshow": {
     "slide_type": "fragment"
    },
    "tags": [
     "hide_input"
    ]
   },
   "outputs": [],
   "source": [
    "print(\"Over the past 4 years :\",round(len(unsuccess)/len(dfa)*100,2),\"%\")"
   ]
  },
  {
   "cell_type": "code",
   "execution_count": null,
   "id": "3a876962-cf80-45c0-906d-3a7566260cbc",
   "metadata": {
    "slideshow": {
     "slide_type": "fragment"
    },
    "tags": [
     "hide_input"
    ]
   },
   "outputs": [],
   "source": [
    "print(\"What other status do we have?\\n\\n\",dfa['state_o'].value_counts(normalize=True))"
   ]
  },
  {
   "cell_type": "code",
   "execution_count": null,
   "id": "047008ac-1750-4c33-be1d-5428583767f5",
   "metadata": {
    "slideshow": {
     "slide_type": "skip"
    }
   },
   "outputs": [],
   "source": [
    "#let's take ONLY the COMPLETED orders\n",
    "df = dfa[dfa['state_o']=='complete']"
   ]
  },
  {
   "cell_type": "code",
   "execution_count": null,
   "id": "695b0da0-876b-4c24-85bd-41146d0115a0",
   "metadata": {
    "slideshow": {
     "slide_type": "skip"
    }
   },
   "outputs": [],
   "source": [
    "#total number of orders and #total number of items \n",
    "df.sales_order_id.nunique(), df.id.nunique()"
   ]
  },
  {
   "cell_type": "code",
   "execution_count": null,
   "id": "59279ade",
   "metadata": {
    "slideshow": {
     "slide_type": "skip"
    }
   },
   "outputs": [],
   "source": []
  },
  {
   "cell_type": "markdown",
   "id": "65993f93",
   "metadata": {
    "slideshow": {
     "slide_type": "slide"
    }
   },
   "source": [
    "### Up to Date Numbers"
   ]
  },
  {
   "cell_type": "code",
   "execution_count": null,
   "id": "57f3f5a5-fb97-4a7b-ad4f-84f76f3dab1c",
   "metadata": {
    "slideshow": {
     "slide_type": "skip"
    }
   },
   "outputs": [],
   "source": [
    "yearly_sales = df.resample(on=\"date\", rule=\"1Y\").total.sum().rename(\"This_year\").reset_index()\n",
    "yearly_sales"
   ]
  },
  {
   "cell_type": "code",
   "execution_count": null,
   "id": "63f23097-b8f8-41e4-8ec1-a1ca23876290",
   "metadata": {
    "slideshow": {
     "slide_type": "skip"
    }
   },
   "outputs": [],
   "source": [
    "current_year = yearly_sales[\"date\"].dt.year.max()"
   ]
  },
  {
   "cell_type": "code",
   "execution_count": null,
   "id": "0280ec79",
   "metadata": {
    "slideshow": {
     "slide_type": "subslide"
    }
   },
   "outputs": [],
   "source": [
    "# hide_code_in_slideshow()\n",
    "# Plot the total sales with different colors for each year\n",
    "sns.scatterplot(data=yearly_sales, x=\"date\", y=\"This_year\",\n",
    "                hue=yearly_sales[\"date\"].dt.year, palette=\"colorblind\",\n",
    "                size=yearly_sales[\"date\"].dt.year.map(lambda y: 2 if y == current_year else 1),\n",
    "                sizes=[200, 50], alpha=0.7)\n",
    "plt.title('Yearly Gross Sales Total')\n",
    "plt.xlabel('Date')\n",
    "plt.ylabel('Sales')\n",
    "plt.show()"
   ]
  },
  {
   "cell_type": "code",
   "execution_count": null,
   "id": "8533fed5",
   "metadata": {
    "slideshow": {
     "slide_type": "subslide"
    }
   },
   "outputs": [],
   "source": [
    "# hide_code_in_slideshow()\n",
    "#monthly sales\n",
    "monthly_sales = dfa.resample(on=\"date\", rule=\"1M\").total.sum().rename(\"This_month\").reset_index()\n",
    "# Extract the year from the date column\n",
    "monthly_sales[\"Year\"] = monthly_sales[\"date\"].dt.year\n",
    "# Plot the monthly sales with one color per year\n",
    "sns.lineplot(data=monthly_sales, x=\"date\", y=\"This_month\", hue=\"Year\", palette=\"colorblind\")\n",
    "plt.title('Yearly sales as a trend')\n",
    "plt.xlabel('Date')\n",
    "plt.ylabel('Sales')\n",
    "import mplcursors\n",
    "cursor = mplcursors.cursor(hover=True)\n",
    "cursor.connect(\"add\", lambda sel: sel.annotation.set_text(f\"Year: {sel.target[0].year}\\nMonth: {sel.target[0].strftime('%B %Y')}\\nSales: {sel.target[1]:,.2f}\"))\n",
    "plt.show()"
   ]
  },
  {
   "cell_type": "markdown",
   "id": "6db8626b",
   "metadata": {
    "slideshow": {
     "slide_type": "slide"
    }
   },
   "source": [
    "### Can we spot seasonality?"
   ]
  },
  {
   "cell_type": "code",
   "execution_count": null,
   "id": "b435bd7d",
   "metadata": {
    "slideshow": {
     "slide_type": "subslide"
    }
   },
   "outputs": [],
   "source": [
    "# hide_code_in_slideshow()\n",
    "monthly_sales = dfa.resample(on=\"date\", rule=\"1M\").total.sum().rename(\"This_month\").reset_index()\n",
    "monthly_sales[\"Year\"] = monthly_sales[\"date\"].dt.year\n",
    "monthly_sales[\"Month\"] = monthly_sales[\"date\"].dt.month\n",
    "\n",
    "sns.set_style(\"whitegrid\")\n",
    "plot = sns.lineplot(data=monthly_sales, x=\"Month\", y=\"This_month\", hue=\"Year\", palette=\"colorblind\", errorbar=None, estimator=sum)\n",
    "plt.title('Seasonality of those sales')\n",
    "plt.xlabel('Month')\n",
    "plt.ylabel('Sales')\n",
    "cursor = mplcursors.cursor(plot)\n",
    "cursor.connect(\"add\", lambda sel: sel.annotation.set_text(f\"Year:{sel.artist.get_label()}\\nMonth:{sel.target[0]:.0f}\\nSales:{sel.target[1]:,.0f}\"))\n",
    "plt.show()"
   ]
  },
  {
   "cell_type": "code",
   "execution_count": null,
   "id": "711a71cf",
   "metadata": {
    "slideshow": {
     "slide_type": "subslide"
    }
   },
   "outputs": [],
   "source": [
    "# hide_code_in_slideshow()\n",
    "sns.barplot(x = \"Month\", y = \"This_month\", hue = \"Year\", data = monthly_sales)\n",
    "plt.title('Monthly stacked for the past 4 years')\n",
    "plt.xlabel('Month')\n",
    "plt.ylabel('Sales')\n",
    "plt.show()"
   ]
  },
  {
   "cell_type": "code",
   "execution_count": null,
   "id": "887b1d26-7db7-4a91-8703-4df1cb8ad6fa",
   "metadata": {
    "slideshow": {
     "slide_type": "skip"
    }
   },
   "outputs": [],
   "source": [
    "monthly_sales.head()"
   ]
  },
  {
   "cell_type": "code",
   "execution_count": null,
   "id": "e6110531",
   "metadata": {
    "slideshow": {
     "slide_type": "subslide"
    }
   },
   "outputs": [],
   "source": [
    "# hide_code_in_slideshow()\n",
    "#variation MoM\n",
    "monthly_sales['Variation'] = monthly_sales['This_month'].diff() / monthly_sales['This_month'].shift() * 100\n",
    "sns.lineplot(data=monthly_sales['Variation'])\n",
    "plt.axhline(y=0, color='black', linestyle='--')\n",
    "plt.title('Month-on-Month variation in % from previous month')\n",
    "plt.xlabel('Period')\n",
    "plt.ylabel('Variation')\n",
    "plt.show()"
   ]
  },
  {
   "cell_type": "code",
   "execution_count": null,
   "id": "0e376a89-4c61-4724-9cf9-db8267f55513",
   "metadata": {
    "slideshow": {
     "slide_type": "subslide"
    },
    "tags": [
     "hide_input"
    ]
   },
   "outputs": [],
   "source": [
    "print(\"Variations MoM :\\n\\n\",monthly_sales[monthly_sales['Variation']<=0].sort_values('Variation').head(10))"
   ]
  },
  {
   "cell_type": "code",
   "execution_count": null,
   "id": "bba263fe-259c-4494-b172-468c9309fe10",
   "metadata": {
    "slideshow": {
     "slide_type": "skip"
    }
   },
   "outputs": [],
   "source": [
    "df.head()"
   ]
  },
  {
   "cell_type": "markdown",
   "id": "ae3dc72b",
   "metadata": {
    "slideshow": {
     "slide_type": "slide"
    }
   },
   "source": [
    "### SALES MtD - YtD - o/n - vs previous year "
   ]
  },
  {
   "cell_type": "code",
   "execution_count": null,
   "id": "6309f3a4-cce7-4524-a334-dae4437178ab",
   "metadata": {
    "slideshow": {
     "slide_type": "skip"
    }
   },
   "outputs": [],
   "source": [
    "#MtD\n",
    "from dateutil.relativedelta import relativedelta\n",
    "now = pd.Timestamp.now()\n",
    "current_day = pd.Timestamp.now().day\n",
    "current_month = pd.Timestamp.now().month\n",
    "current_year = pd.Timestamp.now().year\n",
    "prev_year = current_year - 1\n",
    "prev_month = (pd.Timestamp.now() - relativedelta(months=1)).month\n",
    "two_year = current_year - 2"
   ]
  },
  {
   "cell_type": "code",
   "execution_count": null,
   "id": "d7851204",
   "metadata": {
    "slideshow": {
     "slide_type": "skip"
    }
   },
   "outputs": [],
   "source": [
    "# hide_code_in_slideshow()\n",
    "sales_mtd = df[(df['month'] == current_month)&(df['year'] == current_year)]['total'].sum()\n",
    "sales_mtd_last_year = df[(df['month'] == current_month)&(df['year'] == prev_year)]['total'].sum()\n",
    "sales_mtd_two_year = df[(df['month'] == current_month)&(df['year'] == two_year)]['total'].sum()\n",
    "percent_vs_last_year_month = sales_mtd/sales_mtd_last_year\n",
    "percent_vs_two_year_month = sales_mtd/sales_mtd_two_year"
   ]
  },
  {
   "cell_type": "code",
   "execution_count": null,
   "id": "46153565-79b3-4ca5-876c-7aff3d2c75e3",
   "metadata": {
    "slideshow": {
     "hide_input": true,
     "hide_output": false,
     "scroll": true,
     "slide_layout": "center",
     "slide_type": "fragment"
    },
    "tags": [
     "hide_input"
    ]
   },
   "outputs": [],
   "source": [
    "print(\"Month-to-Date\"), print(\"Sales Amount MtD = \",sales_mtd), print(\"Pct done vs same month last year = \",percent_vs_last_year_month*100), print(\"Pct done vs 2 years ago = \",percent_vs_two_year_month*100)"
   ]
  },
  {
   "cell_type": "code",
   "execution_count": null,
   "id": "427b3e86",
   "metadata": {
    "slideshow": {
     "slide_type": "fragment"
    }
   },
   "outputs": [],
   "source": [
    "fig, ax = plt.subplots(figsize=(8, 3))\n",
    "labels = ['MtD','vs last year','vs 2Y ago']\n",
    "category_names = [sales_mtd, sales_mtd_last_year, sales_mtd_two_year]\n",
    "ax.barh(labels,category_names, height=0.5, left=None, align='center', color = 'deepskyblue')"
   ]
  },
  {
   "cell_type": "code",
   "execution_count": null,
   "id": "049382a6",
   "metadata": {
    "slideshow": {
     "slide_type": "fragment"
    }
   },
   "outputs": [],
   "source": [
    "import plotly.graph_objects as go\n",
    "\n",
    "fig = go.Figure(go.Indicator(\n",
    "    mode = \"gauge+number\",\n",
    "    value = percent_vs_last_year_month*100,\n",
    "    domain = {'x': [0, 1], 'y': [0, 1]},\n",
    "    title = {'text': \"% of MtD vs past year sales\"}))\n",
    "\n",
    "fig.show()"
   ]
  },
  {
   "cell_type": "code",
   "execution_count": null,
   "id": "7bf82643",
   "metadata": {},
   "outputs": [],
   "source": []
  },
  {
   "cell_type": "code",
   "execution_count": null,
   "id": "63d0cd2b-e458-43df-bafc-0e146dae7cea",
   "metadata": {
    "slideshow": {
     "slide_type": "skip"
    }
   },
   "outputs": [],
   "source": [
    "# hide_code_in_slideshow()\n",
    "# Calculate the YtD for this year\n",
    "ytd_start = pd.to_datetime(f\"{current_year}-01-01\")\n",
    "last_ytd_start = pd.to_datetime(f\"{prev_year}-01-01\")\n",
    "last_ytd_end = pd.to_datetime(f\"{prev_year}-{current_month}-{current_day}\")\n",
    "two_ytd_start = pd.to_datetime(f\"{two_year}-01-01\")\n",
    "two_ytd_end = pd.to_datetime(f\"{two_year}-{current_month}-{current_day}\")\n",
    "\n",
    "sales_ytd = df[(df['date'] >= ytd_start)]['total'].sum()\n",
    "sales_ytd_last_year = df[(df['date'] >=last_ytd_start)& (df['date'] <= last_ytd_end)]['total'].sum()\n",
    "sales_ytd_two_year = df[(df['date'] >=two_ytd_start)& (df['date'] <= two_ytd_end)]['total'].sum()\n",
    "percent_vs_last_year_to_date = sales_ytd/sales_ytd_last_year\n",
    "percent_vs_two_year_to_date = sales_ytd/sales_ytd_two_year "
   ]
  },
  {
   "cell_type": "code",
   "execution_count": null,
   "id": "f2634258-ae7c-4ea2-8c61-bfc8c1f8cb39",
   "metadata": {
    "slideshow": {
     "hide_input": true,
     "hide_output": false,
     "scroll": true,
     "slide_layout": "center",
     "slide_type": "subslide"
    },
    "tags": [
     "hide_input"
    ]
   },
   "outputs": [],
   "source": [
    "print(\"Year-to-Date\"), print(\"Sales Amount YtD = \", sales_ytd) , print(\"Pct done vs same time last year = \", percent_vs_last_year_to_date), print(\"Pct done vs 2 year ago = \", percent_vs_two_year_to_date)"
   ]
  },
  {
   "cell_type": "code",
   "execution_count": null,
   "id": "cb8733f8",
   "metadata": {},
   "outputs": [],
   "source": []
  },
  {
   "cell_type": "code",
   "execution_count": null,
   "id": "c19dcaaf-95d3-40ba-a868-76e2366474d5",
   "metadata": {
    "slideshow": {
     "slide_type": "skip"
    }
   },
   "outputs": [],
   "source": [
    "# hide_code_in_slideshow()\n",
    "# Calculate sales from previous workday day to today (overnight)\n",
    "from datetime import datetime\n",
    "today = pd.Timestamp.now().floor('D')\n",
    "def prev_weekday(adate):\n",
    "    adate -= timedelta(days=1)\n",
    "    while adate.weekday() > 4: # Mon-Fri are 0-4\n",
    "        adate -= timedelta(days=1)\n",
    "    return adate\n",
    "\n",
    "overnight_sales = dfa[(dfa['date'] >= prev_weekday(today))]['total'].sum()\n"
   ]
  },
  {
   "cell_type": "code",
   "execution_count": null,
   "id": "c69d616d-e6c6-4290-992f-b8d162168c63",
   "metadata": {
    "slideshow": {
     "hide_input": true,
     "hide_output": false,
     "scroll": true,
     "slide_layout": "center",
     "slide_type": "subslide"
    },
    "tags": [
     "hide_input"
    ]
   },
   "outputs": [],
   "source": [
    "print(\"Overnight Orders, including not Complete\"), print(\"Overnight sales = \", overnight_sales)"
   ]
  },
  {
   "cell_type": "code",
   "execution_count": null,
   "id": "78940879-1e2e-4905-83d7-c116fb14e1e5",
   "metadata": {
    "slideshow": {
     "slide_type": "skip"
    }
   },
   "outputs": [],
   "source": [
    "overnight_orders = df[(df['date'] >= prev_weekday(today))]['sales_order_id'].nunique()\n",
    "so_not_complete = df[(df['date'] >= prev_weekday(today))& (df['state_i']!='complete')]['sales_order_id'].nunique()\n",
    "overnight_orders, so_not_complete"
   ]
  },
  {
   "cell_type": "markdown",
   "id": "14a59c06",
   "metadata": {
    "slideshow": {
     "slide_type": "slide"
    }
   },
   "source": [
    "### For how long have the customers been with us?"
   ]
  },
  {
   "cell_type": "code",
   "execution_count": null,
   "id": "5891dbe6-d2b8-4400-919e-c72ea5d17b9b",
   "metadata": {
    "slideshow": {
     "slide_type": "skip"
    }
   },
   "outputs": [],
   "source": [
    "df['prev_order_date'] = df.groupby('sales_order_id_o')['date'].shift(1)"
   ]
  },
  {
   "cell_type": "code",
   "execution_count": null,
   "id": "b085b9b6-bc42-433d-ab83-07256d64b813",
   "metadata": {
    "slideshow": {
     "slide_type": "skip"
    }
   },
   "outputs": [],
   "source": [
    "df[df['name_o'] == 'Global Deal d.o.o'].tail()"
   ]
  },
  {
   "cell_type": "code",
   "execution_count": null,
   "id": "a1d40e2d-db8b-49b9-9afd-e41365f62c71",
   "metadata": {
    "slideshow": {
     "slide_type": "skip"
    }
   },
   "outputs": [],
   "source": []
  },
  {
   "cell_type": "code",
   "execution_count": null,
   "id": "a8ec8e2f-c2a6-4589-a540-b3cd15129261",
   "metadata": {
    "slideshow": {
     "hide_input": true,
     "hide_output": false,
     "scroll": true,
     "slide_layout": "center",
     "slide_type": "subslide"
    },
    "tags": [
     "hide_input"
    ]
   },
   "outputs": [],
   "source": [
    "# hide_code_in_slideshow()\n",
    "#How long have we got each cust \n",
    "customer_length = df.groupby('name_o').agg({'sales_order_id_o': 'nunique','date': ['min', 'max']})\n",
    "customer_length['longevity'] = customer_length['date']['max'] - customer_length['date']['min']\n",
    "customer_length"
   ]
  },
  {
   "cell_type": "code",
   "execution_count": null,
   "id": "8135175a",
   "metadata": {
    "slideshow": {
     "slide_type": "fragment"
    }
   },
   "outputs": [],
   "source": [
    "print(\"Average longevity of our clients since 2019: \",customer_length.longevity.mean())"
   ]
  },
  {
   "cell_type": "code",
   "execution_count": null,
   "id": "eb4d1325-a6ef-4375-bcfb-4baabcd08fab",
   "metadata": {
    "slideshow": {
     "slide_type": "skip"
    }
   },
   "outputs": [],
   "source": [
    "# hide_code_in_slideshow()\n",
    "#How long have we got each cust \n",
    "customer_snapshot = df.groupby('name_o').agg({'sales_order_id_o': 'nunique','date': ['min', 'max'],'total':'mean'})\n",
    "customer_snapshot"
   ]
  },
  {
   "cell_type": "code",
   "execution_count": null,
   "id": "cc0499ee",
   "metadata": {
    "slideshow": {
     "slide_type": "subslide"
    }
   },
   "outputs": [],
   "source": [
    "print(\"Average $ spent over all periods \",customer_snapshot['total'].mean())"
   ]
  },
  {
   "cell_type": "code",
   "execution_count": null,
   "id": "342c7860",
   "metadata": {
    "slideshow": {
     "slide_type": "fragment"
    }
   },
   "outputs": [],
   "source": [
    "sns.displot(customer_snapshot['total'],\n",
    "    hue=None,\n",
    "    weights=None,\n",
    "    kind='kde',\n",
    "    legend=True,\n",
    "    color='deepskyblue',\n",
    "    height=5,\n",
    "    aspect=1)"
   ]
  },
  {
   "cell_type": "markdown",
   "id": "f9373c5f",
   "metadata": {
    "slideshow": {
     "scroll": true,
     "slide_layout": "centered",
     "slide_type": "slide",
     "subslide_type": "fragment"
    }
   },
   "source": [
    "### Periodicity of each customer"
   ]
  },
  {
   "cell_type": "code",
   "execution_count": null,
   "id": "2b25e46a-7459-409c-9d43-477d8b456885",
   "metadata": {
    "slideshow": {
     "slide_type": "skip"
    }
   },
   "outputs": [],
   "source": [
    "#Periodicity of customer order \n",
    "customer_orders = df.groupby(['name_o', 'year', 'month', 'weekday']).agg({\n",
    "    'sales_order_id_o': 'nunique',\n",
    "    'date': ['min', 'max']\n",
    "})"
   ]
  },
  {
   "cell_type": "code",
   "execution_count": null,
   "id": "008adec8-0d5c-4753-b22e-cace9e497bf2",
   "metadata": {
    "scrolled": true,
    "slideshow": {
     "slide_type": "skip"
    },
    "tags": [
     "hide_input"
    ]
   },
   "outputs": [],
   "source": [
    "# hide_code_in_slideshow()\n",
    "#search for specific customer\n",
    "customer_names = customer_orders.index.get_level_values(0).unique()\n",
    "pd.options.display.max_rows = len(customer_names)\n",
    "HTML(customer_names.to_frame().to_html(index=False))"
   ]
  },
  {
   "cell_type": "code",
   "execution_count": null,
   "id": "ab44c3f8",
   "metadata": {
    "slideshow": {
     "scroll": true,
     "slide_layout": "left",
     "slide_type": "subslide",
     "subslide_type": "fragment"
    }
   },
   "outputs": [],
   "source": [
    "from ipywidgets import widgets\n",
    "from IPython.display import display\n",
    "# create a text input widget\n",
    "text_box = widgets.Text(\n",
    "    value='',\n",
    "    placeholder='Enter a customer name',\n",
    "    description='Customer name:',\n",
    "    disabled=False\n",
    ")\n",
    "\n",
    "display(text_box)\n",
    "user_input = text_box.value\n",
    "\n",
    "# Display the user's input\n",
    "print(f'for customer, {user_input}...')"
   ]
  },
  {
   "cell_type": "code",
   "execution_count": null,
   "id": "5004e266",
   "metadata": {
    "slideshow": {
     "slide_type": "skip"
    }
   },
   "outputs": [],
   "source": []
  },
  {
   "cell_type": "code",
   "execution_count": null,
   "id": "c7792460",
   "metadata": {},
   "outputs": [],
   "source": [
    "customer_name = input()"
   ]
  },
  {
   "cell_type": "code",
   "execution_count": null,
   "id": "639feb8f-fab5-4c87-894f-01e9be948464",
   "metadata": {
    "slideshow": {
     "hide_input": true,
     "hide_output": false,
     "scroll": true,
     "slide_layout": "center",
     "slide_type": "skip"
    },
    "tags": [
     "hide_input"
    ]
   },
   "outputs": [],
   "source": [
    "print(\"Please enter a customer name: \",customer_name)"
   ]
  },
  {
   "cell_type": "code",
   "execution_count": null,
   "id": "a2d69674",
   "metadata": {
    "slideshow": {
     "slide_type": "slide"
    }
   },
   "outputs": [],
   "source": [
    "# hide_code_in_slideshow()\n",
    "#prompt\n",
    "customer_name = input(\"Please enter a customer name: \")\n",
    "#customer_name= \"Global Deal d.o.o\""
   ]
  },
  {
   "cell_type": "markdown",
   "id": "e5eb92ca",
   "metadata": {
    "slideshow": {
     "slide_type": "fragment"
    }
   },
   "source": [
    "When does he usually order?"
   ]
  },
  {
   "cell_type": "code",
   "execution_count": null,
   "id": "4cb0cd37-be0f-443b-88da-88e47698f8e7",
   "metadata": {
    "scrolled": true,
    "slideshow": {
     "slide_type": "fragment"
    }
   },
   "outputs": [],
   "source": [
    "customer_orders.loc[customer_name]"
   ]
  },
  {
   "cell_type": "code",
   "execution_count": null,
   "id": "3bb91981-d624-4b2c-88bc-59905138ae6e",
   "metadata": {
    "slideshow": {
     "slide_type": "skip"
    }
   },
   "outputs": [],
   "source": [
    "customer_orders = customer_orders.reset_index()\n",
    "customer_orders.columns = ['name_o', 'year', 'month', 'weekday', 'orders_count', 'first_order', 'last_order']"
   ]
  },
  {
   "cell_type": "code",
   "execution_count": null,
   "id": "de842495-f569-407a-9996-c022d72239ba",
   "metadata": {
    "slideshow": {
     "slide_type": "skip"
    }
   },
   "outputs": [],
   "source": [
    "customer_orders[customer_orders['name_o']=='ABAAD ALJEEL DBA LIKE4CARD'].tail()"
   ]
  },
  {
   "cell_type": "code",
   "execution_count": null,
   "id": "84a3406c-3904-4c8d-a797-7505f521adbc",
   "metadata": {
    "slideshow": {
     "slide_type": "skip"
    }
   },
   "outputs": [],
   "source": [
    "#Periodicity by weekday month year\n",
    "weekdays = customer_orders.groupby(['name_o', 'weekday']).agg({'orders_count': 'sum'})\n",
    "months = customer_orders.groupby(['name_o', 'month']).agg({'orders_count': 'sum'})\n",
    "years = customer_orders.groupby(['name_o', 'year']).agg({'orders_count': 'sum'})"
   ]
  },
  {
   "cell_type": "code",
   "execution_count": null,
   "id": "3c7a9bfa-228f-40ab-87f5-a18525fa433b",
   "metadata": {
    "slideshow": {
     "slide_type": "skip"
    }
   },
   "outputs": [],
   "source": [
    "weekdays.head(3)"
   ]
  },
  {
   "cell_type": "code",
   "execution_count": null,
   "id": "347978dd-a370-4990-8eac-6dad8d860f61",
   "metadata": {
    "slideshow": {
     "slide_type": "skip"
    }
   },
   "outputs": [],
   "source": [
    "months.loc[('ABAAD ALJEEL DBA LIKE4CARD')]"
   ]
  },
  {
   "cell_type": "code",
   "execution_count": null,
   "id": "f2b63190",
   "metadata": {},
   "outputs": [],
   "source": []
  },
  {
   "cell_type": "code",
   "execution_count": null,
   "id": "1d3efea3-05b3-47e6-a140-e27374061327",
   "metadata": {
    "scrolled": true,
    "slideshow": {
     "slide_type": "subslide"
    }
   },
   "outputs": [],
   "source": [
    "client_1 = years.loc[('Global Deal d.o.o')].reset_index()\n",
    "client_1"
   ]
  },
  {
   "cell_type": "code",
   "execution_count": null,
   "id": "d08c21de",
   "metadata": {},
   "outputs": [],
   "source": [
    "fig, ax = plt.subplots()\n",
    "size = 0.3\n",
    "\n",
    "cmap = plt.colormaps[\"tab20c\"]\n",
    "outer_colors = cmap(np.arange(3)*4)\n",
    "inner_colors = cmap([1, 2, 5, 6, 9, 10])\n",
    "\n",
    "ax.pie(x=client_1['orders_count'], labels=client_1['year'],radius=1, colors=outer_colors,\n",
    "       wedgeprops=dict(width=size, edgecolor='w'))\n",
    "\n",
    "ax.pie(client_1['orders_count'], radius=1-size, colors=inner_colors,\n",
    "       wedgeprops=dict(width=size, edgecolor='w'))\n",
    "\n",
    "ax.set(aspect=\"equal\", title='Global Deal d.o.o')\n",
    "plt.show()"
   ]
  },
  {
   "cell_type": "code",
   "execution_count": null,
   "id": "0c277d12",
   "metadata": {},
   "outputs": [],
   "source": []
  },
  {
   "cell_type": "code",
   "execution_count": null,
   "id": "8c35a1cc",
   "metadata": {
    "slideshow": {
     "slide_type": "skip"
    }
   },
   "outputs": [],
   "source": [
    "# hide_code_in_slideshow()\n",
    "#Visu\n",
    "years = customer_orders.groupby(['name_o', 'year']).agg({'orders_count': 'sum'})\n",
    "year_pivot = years.pivot_table(index='name_o', columns='year', values='orders_count')\n",
    "\n",
    "fig, ax = plt.subplots(figsize=(10, 45))\n",
    "sns.heatmap(year_pivot, cmap='Blues', annot=True, fmt='g', ax=ax, annot_kws={\"size\": 12})\n",
    "plt.title('Orders per Customer by Year', fontsize=18)\n",
    "plt.xlabel('Year', fontsize=16)\n",
    "plt.xticks(rotation=45)\n",
    "plt.ylabel('Customer', fontsize=16)\n",
    "\n",
    "fig.savefig('heatmap.png')"
   ]
  },
  {
   "cell_type": "code",
   "execution_count": null,
   "id": "cfa83dfd-4cab-4ad7-9ed3-fa98aa6c7f7c",
   "metadata": {
    "slideshow": {
     "slide_type": "slide"
    }
   },
   "outputs": [],
   "source": [
    "from IPython.display import IFrame\n",
    "IFrame(src='./heatmap.png', width=800, height=600, scrolling=True)"
   ]
  },
  {
   "cell_type": "code",
   "execution_count": null,
   "id": "4553b2bb-29bc-4b68-add3-5e3f0a69f5e5",
   "metadata": {
    "slideshow": {
     "slide_type": "skip"
    }
   },
   "outputs": [],
   "source": [
    "# go to the terminal and navigate to the directory where your Jupyter notebook is saved.\n",
    "# cd Downloads/Python/Dashboard/\n",
    "\n",
    "# Run the following command to convert your Jupyter notebook to a HTML presentation:\n",
    "# jupyter-nbextension install rise --py --sys-prefix\n",
    "# jupyter-nbextension enable rise --py --sys-prefix\n",
    "\n",
    "# jupyter nbconvert Sales_DB.ipynb --to slides --post serve"
   ]
  },
  {
   "cell_type": "code",
   "execution_count": null,
   "id": "6f562247-2d95-4fa1-9dd9-91b24829bfa7",
   "metadata": {
    "slideshow": {
     "slide_type": "skip"
    }
   },
   "outputs": [],
   "source": [
    "# jupyter nbconvert Sales_DB.ipynb --to slides --no-input --post serve"
   ]
  },
  {
   "cell_type": "code",
   "execution_count": null,
   "id": "2eea2ddc",
   "metadata": {},
   "outputs": [],
   "source": [
    "# {\n",
    "#  ...\n",
    "#  \"rise\": {\"scroll\": true}\n",
    "# }"
   ]
  },
  {
   "cell_type": "code",
   "execution_count": null,
   "id": "8833513d-54b9-4c19-a901-97dfac24e7c7",
   "metadata": {},
   "outputs": [],
   "source": []
  },
  {
   "cell_type": "code",
   "execution_count": null,
   "id": "1e4b625e-82ef-472f-85d8-36c8769959f6",
   "metadata": {},
   "outputs": [],
   "source": []
  }
 ],
 "metadata": {
  "celltoolbar": "Edit Metadata",
  "kernelspec": {
   "display_name": "Python 3 (ipykernel)",
   "language": "python",
   "name": "python3"
  },
  "language_info": {
   "codemirror_mode": {
    "name": "ipython",
    "version": 3
   },
   "file_extension": ".py",
   "mimetype": "text/x-python",
   "name": "python",
   "nbconvert_exporter": "python",
   "pygments_lexer": "ipython3",
   "version": "3.10.12"
  },
  "widgets": {
   "application/vnd.jupyter.widget-state+json": {
    "state": {},
    "version_major": 2,
    "version_minor": 0
   }
  }
 },
 "nbformat": 4,
 "nbformat_minor": 5
}
