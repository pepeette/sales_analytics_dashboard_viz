{
 "cells": [
  {
   "cell_type": "code",
   "execution_count": 1,
   "id": "712136a6",
   "metadata": {},
   "outputs": [
    {
     "name": "stderr",
     "output_type": "stream",
     "text": [
      "/Users/laetitiahoquetis/Downloads/Python/Dashboard/navbar_tabs_layout.py:2: UserWarning: \n",
      "The dash_core_components package is deprecated. Please replace\n",
      "`import dash_core_components as dcc` with `from dash import dcc`\n",
      "  import dash_core_components as dcc\n",
      "/Users/laetitiahoquetis/Downloads/Python/Dashboard/navbar_tabs_layout.py:3: UserWarning: \n",
      "The dash_html_components package is deprecated. Please replace\n",
      "`import dash_html_components as html` with `from dash import html`\n",
      "  import dash_html_components as html\n"
     ]
    }
   ],
   "source": [
    "import os\n",
    "import pandas as pd\n",
    "import plotly.graph_objs as go\n",
    "import plotly.express as px\n",
    "import plotly.graph_objects as go\n",
    "from plotly.subplots import make_subplots\n",
    "import dash\n",
    "from dash import dash_table\n",
    "from dash.dash_table.Format import Group\n",
    "from dash import html, dcc\n",
    "from dash.dependencies import Input, Output, State\n",
    "from dash.exceptions import PreventUpdate\n",
    "import dash_bootstrap_components as dbc\n",
    "from navbar_tabs_layout import app_layout\n",
    "import time\n",
    "from datetime import datetime, date, time, timedelta\n",
    "from dateutil.relativedelta import relativedelta"
   ]
  },
  {
   "cell_type": "code",
   "execution_count": 2,
   "id": "e8bcea8c",
   "metadata": {},
   "outputs": [
    {
     "name": "stderr",
     "output_type": "stream",
     "text": [
      "/var/folders/jt/qpx02c196772_ytczgpv4llh0000gp/T/ipykernel_30671/3951316332.py:2: DtypeWarning: Columns (10) have mixed types. Specify dtype option on import or set low_memory=False.\n",
      "  df = pd.read_csv('EZItotalFull.csv')\n"
     ]
    }
   ],
   "source": [
    "# Read the data\n",
    "df = pd.read_csv('EZItotalFull.csv')"
   ]
  },
  {
   "cell_type": "code",
   "execution_count": 3,
   "id": "7cebe711",
   "metadata": {},
   "outputs": [],
   "source": [
    "# #connect to database\n",
    "# # Import required libraries\n",
    "# import pymysql\n",
    "# pymysql.install_as_MySQLdb()\n",
    "# import MySQLdb\n",
    "\n",
    "# # Define a function to fetch data from the database\n",
    "# def fetch_data():\n",
    "#     # Connect to the database\n",
    "#     conn = pymysql.connect(\n",
    "#         user = 'readonly',\n",
    "#         password = 'MwLvD9DFL8mnrTKkI6fU', \n",
    "#         host = '127.0.0.1',\n",
    "#         charset='utf8mb4',\n",
    "#         port=int(3335))\n",
    "#         #database=database,\n",
    "#         #port=int(3306))\n",
    "\n",
    "#     cursor = conn.cursor()\n",
    "    \n",
    "#     # Fetch data from SQL queries\n",
    "#     query1 = \"\"\"\n",
    "#         SELECT i.sales_order_id, i.id, i.quantity, i.product_id, i.state, i.status, i.created_at, i.external_unit_price,\n",
    "#         p.id, p.sku,  p.name, p.description, p.currency, p.brand_id , p.face_price , p.country , b.name\n",
    "\n",
    "#         FROM ezscm_production.sales_order_items as i\n",
    "#         JOIN ezscm_production.products as p\n",
    "#         ON p.id = i.product_id\n",
    "#         JOIN ezscm_production.brands as b\n",
    "#         ON p.brand_id = b.id\n",
    "#         WHERE i.created_at BETWEEN '2019-01-01' AND '2023-12-31'\n",
    "#         \"\"\"\n",
    "#     query2 = \"\"\"\n",
    "#         SELECT o.id , o.date, o.invoice_number, o.state, o.customer_company_id, \n",
    "#         c.id , c.name, a.city, a.country, x.finance_number, x.sales_order_id\n",
    "\n",
    "#         FROM ezscm_production.sales_orders as o\n",
    "#         JOIN ezscm_production.companies as c\n",
    "#         ON o.customer_company_id = c.id\n",
    "\n",
    "#         LEFT OUTER JOIN ezscm_production.addresses as a\n",
    "#         ON c.billing_address_id = a.id\n",
    "\n",
    "#         LEFT OUTER JOIN ezscm_production.invoices as x\n",
    "#         ON o.invoice_number = x.finance_number\n",
    "\n",
    "#         WHERE o.date BETWEEN '2019-01-01' AND '2023-12-31'\n",
    "#         \"\"\"\n",
    "#     df1 = pd.read_sql(query1,conn)\n",
    "#     df2 = pd.read_sql(query2,conn)\n",
    "    \n",
    "#     # Merge dataframes\n",
    "#     dfa= pd.merge(\n",
    "#         df1,\n",
    "#         df,\n",
    "#         how=\"outer\",\n",
    "#         left_on=df1[\"id\"],\n",
    "#         right_on = df[\"sales_order_id\"],\n",
    "#         sort=True,\n",
    "#         suffixes=(\"_o\", \"_i\"),\n",
    "#         copy=True,\n",
    "#         indicator=True,\n",
    "#         validate=None,\n",
    "#     )\n",
    "    \n",
    "#     df = dfa[dfa._merge == 'both']\n",
    "#     # Close the database connection\n",
    "#     conn.close()\n",
    "    \n",
    "#     return df"
   ]
  },
  {
   "cell_type": "code",
   "execution_count": 4,
   "id": "d978fc41",
   "metadata": {},
   "outputs": [],
   "source": [
    "app = dash.Dash(__name__, external_stylesheets=[dbc.themes.UNITED], meta_tags=[{\"name\": \"viewport\", \"content\": \"width=device-width\"}])\n",
    "app.title = 'Dashboard'"
   ]
  },
  {
   "cell_type": "code",
   "execution_count": 5,
   "id": "81c7d80e",
   "metadata": {},
   "outputs": [],
   "source": [
    "# @app.callback(\n",
    "#     Output(\"df\", \"data\"),\n",
    "#     Input(\"fetch-data-button\", \"n_clicks\")\n",
    "# )\n",
    "# def fetch_data(n_clicks):\n",
    "#     # your code to fetch data and create a pandas DataFrame goes here\n",
    "#     df = pd.read_csv('EZItotalFull.csv')\n",
    "#     return df.to_dict(\"records\")\n"
   ]
  },
  {
   "cell_type": "code",
   "execution_count": 6,
   "id": "603dc1f5",
   "metadata": {},
   "outputs": [],
   "source": [
    "# @app.callback(\n",
    "#     Output(\"output-div\", \"children\"),\n",
    "#     Input(\"some-input\", \"value\"),\n",
    "#     State(\"df\", \"data\")\n",
    "# )\n",
    "# def process_data(input_value, df_data):\n",
    "#     # your code to process data using the df_data goes here\n",
    "#     ...\n"
   ]
  },
  {
   "cell_type": "code",
   "execution_count": 7,
   "id": "267d5147",
   "metadata": {},
   "outputs": [],
   "source": [
    "today_date = datetime.now().strftime(\"%Y-%m-%d\")\n",
    "df['date'] = pd.to_datetime(df['date'])\n",
    "df['year'] = df['date'].dt.year\n",
    "df['month'] = df['date'].dt.month"
   ]
  },
  {
   "cell_type": "code",
   "execution_count": null,
   "id": "a5ab90ab",
   "metadata": {},
   "outputs": [],
   "source": []
  },
  {
   "cell_type": "code",
   "execution_count": 34,
   "id": "bcce5bbf",
   "metadata": {
    "scrolled": true
   },
   "outputs": [],
   "source": [
    "navbar = dbc.Navbar(\n",
    "    dbc.Container(\n",
    "        [\n",
    "            dbc.Row(\n",
    "                [\n",
    "                    dbc.Col(html.Img(src=\"db.png\", height=\"20px\"), width=\"auto\", align=\"center\"),\n",
    "                    dbc.Col(dbc.NavbarBrand(\"My Dashboard\", className=\"ml-2\"), width=\"auto\", align=\"center\"),\n",
    "                    dbc.Col(html.Div(id=\"today-date\", children=today_date), width=\"auto\", align=\"center\"),\n",
    "                    dbc.Col(dbc.Button(\"Fetch Data\", id=\"fetch-data-button\", color=\"primary\", className=\"mr-1\"), width=\"auto\", align=\"end\"),\n",
    "                ],\n",
    "                className=\"my-row\",\n",
    "                align=\"center\",\n",
    "            ),\n",
    "            dbc.NavbarToggler(id=\"navbar-toggler\"),\n",
    "        ]\n",
    "    ),\n",
    "    color=\"light\",\n",
    "    dark=False,\n",
    "    sticky=\"top\",\n",
    ")\n"
   ]
  },
  {
   "cell_type": "code",
   "execution_count": null,
   "id": "4d5b1507",
   "metadata": {},
   "outputs": [],
   "source": []
  },
  {
   "cell_type": "code",
   "execution_count": null,
   "id": "d3000c8e",
   "metadata": {},
   "outputs": [],
   "source": []
  },
  {
   "cell_type": "code",
   "execution_count": 35,
   "id": "ae8dd39e",
   "metadata": {
    "scrolled": true
   },
   "outputs": [],
   "source": [
    "# Define page layout\n",
    "page_layout = dbc.Container([\n",
    "    \n",
    "    # Add top_level section\n",
    "    dbc.Row([\n",
    "        dbc.Col(html.H6('Top level', className='card-title mb-4')),\n",
    "        dbc.Col(dcc.DatePickerSingle(\n",
    "            id='date-picker',\n",
    "            min_date_allowed=df['date'].min(),\n",
    "            max_date_allowed=df['date'].max(),\n",
    "            initial_visible_month=df['date'].max(),\n",
    "            date=df['date'].max()\n",
    "        ), width=3),\n",
    "    ], justify=\"between\", align=\"center\", className='mb-4'),\n",
    "\n",
    "    dbc.Card([\n",
    "        dbc.CardBody([\n",
    "            dbc.Row([\n",
    "                dbc.Col([\n",
    "                    dbc.Card([\n",
    "                        dbc.CardHeader(\"Sales YtD\"),\n",
    "                        dbc.CardBody([\n",
    "                            dcc.Graph(\n",
    "                                id='sales-chart-2'\n",
    "                            )\n",
    "                        ])\n",
    "                    ], className=\"h-100\",style={'height': '100%', 'display': 'flex', 'flex-direction': 'column'}),#style={\"height\": \"400px\", \"overflow\": \"auto\"}\n",
    "                ], sm=12, lg=4, className=\"mb-4\"),\n",
    "                dbc.Col([\n",
    "                    dbc.Card([\n",
    "                        dbc.CardHeader(\"Sales Mtd\"),\n",
    "                        dbc.CardBody([\n",
    "                            dcc.Graph(\n",
    "                                id='sales-chart'\n",
    "                            )\n",
    "                        ])\n",
    "                    ], className=\"h-100\",style={'height': '100%', 'display': 'flex', 'flex-direction': 'column'}), #style={\"height\": \"400px\", \"overflow\": \"auto\"}\n",
    "                ], sm=12, lg=4, className=\"mb-4\"),\n",
    "                dbc.Col([\n",
    "                    dbc.Row([\n",
    "                        dbc.Col([\n",
    "                            dbc.Card([\n",
    "                                dbc.CardHeader(\"Overnight Orders, including not Complete\"),\n",
    "                                dbc.CardBody([\n",
    "                                    html.P(id='overnight-sales')\n",
    "                                ])\n",
    "                            ]),\n",
    "                        ], md=12),\n",
    "                        dbc.Col([\n",
    "                            dbc.Card([\n",
    "                                dbc.CardHeader(\"Customers to chase\"),\n",
    "                                dbc.CardBody([\n",
    "                                    dash_table.DataTable(\n",
    "                                        id='customers-table',\n",
    "                                        columns=[{\"name\": i, \"id\": i} for i in ['name_o', 'orders_count', 'first_order', 'last_order', 'longevity']],\n",
    "                                        data=[]\n",
    "                                    )\n",
    "                                ])\n",
    "                            ], className=\"h-100\"),\n",
    "                        ], md=12)\n",
    "                    ])\n",
    "                ], sm=12, lg=4, className=\"mb-4\"),  \n",
    "            ])\n",
    "        ])\n",
    "    ], className=\"rounded-0 border-0\"),\n",
    "\n",
    "    # Add rest of page layout here\n",
    "    html.Div(\"Click on below tabs for further analysis 👇\"),\n",
    "\n",
    "], fluid=True, style={'padding': '2rem'})\n"
   ]
  },
  {
   "cell_type": "code",
   "execution_count": 36,
   "id": "b9182479",
   "metadata": {},
   "outputs": [],
   "source": [
    "# #displaying gauge instead of bar chart\n",
    "\n",
    "def new_sales_chart(date, df):\n",
    "    current_year = pd.Timestamp(date).year\n",
    "    current_month = pd.Timestamp(date).month\n",
    "    current_day = pd.Timestamp(date).day\n",
    "    prev_year = current_year - 1\n",
    "    two_year = current_year - 2\n",
    "    \n",
    "    ytd_start = pd.to_datetime(f\"{current_year}-01-01\")\n",
    "    last_ytd_start = pd.to_datetime(f\"{prev_year}-01-01\")\n",
    "    last_ytd_end = pd.to_datetime(f\"{prev_year}-{current_month}-{current_day}\")\n",
    "    two_ytd_start = pd.to_datetime(f\"{two_year}-01-01\")\n",
    "    two_ytd_end = pd.to_datetime(f\"{two_year}-{current_month}-{current_day}\")\n",
    "\n",
    "    sales_ytd = round(df[(df['date'] >= ytd_start)]['total'].sum(),2)\n",
    "    sales_ytd_formatted = \"{:,.2f}\".format(sales_ytd)\n",
    "    sales_ytd_last_year = df[(df['date'] >=last_ytd_start)& (df['date'] <= last_ytd_end)]['total'].sum()\n",
    "    sales_ytd_two_year = df[(df['date'] >=two_ytd_start)& (df['date'] <= two_ytd_end)]['total'].sum()\n",
    "    percent_vs_last_year_to_date = round(sales_ytd/sales_ytd_last_year*100,2)\n",
    "    percent_vs_two_year_to_date = sales_ytd/sales_ytd_two_year \n",
    "\n",
    "    fig = go.Figure(go.Indicator(\n",
    "        mode=\"gauge+number\",\n",
    "        value=percent_vs_last_year_to_date,\n",
    "        gauge={\n",
    "            'axis': {'range': [None, 100], 'tickwidth': 1, 'tickcolor': 'darkblue'},\n",
    "            'bar': {'color': 'deepskyblue'},\n",
    "            'bgcolor': 'white',\n",
    "            'borderwidth': 2,\n",
    "            'bordercolor': 'gray',\n",
    "            'steps': [{'range': [0, 50], 'color': 'white'},\n",
    "                      {'range': [50, 100], 'color': 'white'},\n",
    "                      {'range': [100, 150], 'color': 'white'},\n",
    "                      {'range': [1500, 200], 'color': 'white'}]\n",
    "        },\n",
    "        domain={'x': [0, 1], 'y': [0, 1]},\n",
    "        #title={'text': \"% of YtD vs past YtD sales\"}\n",
    "    ))\n",
    "\n",
    "    # Add the sales_ytd string as a markdown string to the layout of the fig variable\n",
    "    fig.update_layout(\n",
    "        annotations=[\n",
    "            go.layout.Annotation(\n",
    "                x=0.5,\n",
    "                y=1.2,\n",
    "                showarrow=False,\n",
    "                text=f\"YTD Sales: $ {sales_ytd_formatted}\",\n",
    "                xref=\"paper\",\n",
    "                yref=\"paper\",\n",
    "                align='center',\n",
    "                font=dict(size=18)\n",
    "            ),\n",
    "            go.layout.Annotation(\n",
    "                x=0.5,\n",
    "                y=-0.2,\n",
    "                showarrow=False,\n",
    "                text=f\"{percent_vs_last_year_to_date}% generated vs past YtD sales\",\n",
    "                xref=\"paper\",\n",
    "                yref=\"paper\",\n",
    "                align='center',\n",
    "                font=dict(size=18)\n",
    "            )\n",
    "        ]\n",
    "    )\n",
    "    \n",
    "    return fig\n",
    "#new_sales_chart(today_date, df)"
   ]
  },
  {
   "cell_type": "code",
   "execution_count": 37,
   "id": "0321f8a9",
   "metadata": {},
   "outputs": [],
   "source": [
    "#displaying a gauge instead of bar chart \n",
    "@app.callback(\n",
    "    Output('sales-chart-2', 'figure'),\n",
    "    [Input('date-picker', 'date')])\n",
    "def updated_new_sales_chart(date):\n",
    "    # Call the new_sales_chart function to generate the figure\n",
    "    fig = new_sales_chart(date, df)\n",
    "    \n",
    "    return fig"
   ]
  },
  {
   "cell_type": "code",
   "execution_count": null,
   "id": "8afab223",
   "metadata": {},
   "outputs": [],
   "source": []
  },
  {
   "cell_type": "code",
   "execution_count": 38,
   "id": "8e840f59",
   "metadata": {},
   "outputs": [
    {
     "data": {
      "application/vnd.plotly.v1+json": {
       "config": {
        "plotlyServerURL": "https://plotly.com"
       },
       "data": [
        {
         "marker": {
          "color": "deepskyblue"
         },
         "orientation": "h",
         "text": [
          "7095875.41",
          "4498763.9",
          "1,541,774.28"
         ],
         "textposition": "auto",
         "type": "bar",
         "x": [
          7095875.41,
          4498763.9,
          "1,541,774.28"
         ],
         "y": [
          "vs 2Y ago",
          "vs last year",
          "MtD"
         ]
        }
       ],
       "layout": {
        "margin": {
         "l": 1
        },
        "template": {
         "data": {
          "bar": [
           {
            "error_x": {
             "color": "#2a3f5f"
            },
            "error_y": {
             "color": "#2a3f5f"
            },
            "marker": {
             "line": {
              "color": "#E5ECF6",
              "width": 0.5
             },
             "pattern": {
              "fillmode": "overlay",
              "size": 10,
              "solidity": 0.2
             }
            },
            "type": "bar"
           }
          ],
          "barpolar": [
           {
            "marker": {
             "line": {
              "color": "#E5ECF6",
              "width": 0.5
             },
             "pattern": {
              "fillmode": "overlay",
              "size": 10,
              "solidity": 0.2
             }
            },
            "type": "barpolar"
           }
          ],
          "carpet": [
           {
            "aaxis": {
             "endlinecolor": "#2a3f5f",
             "gridcolor": "white",
             "linecolor": "white",
             "minorgridcolor": "white",
             "startlinecolor": "#2a3f5f"
            },
            "baxis": {
             "endlinecolor": "#2a3f5f",
             "gridcolor": "white",
             "linecolor": "white",
             "minorgridcolor": "white",
             "startlinecolor": "#2a3f5f"
            },
            "type": "carpet"
           }
          ],
          "choropleth": [
           {
            "colorbar": {
             "outlinewidth": 0,
             "ticks": ""
            },
            "type": "choropleth"
           }
          ],
          "contour": [
           {
            "colorbar": {
             "outlinewidth": 0,
             "ticks": ""
            },
            "colorscale": [
             [
              0,
              "#0d0887"
             ],
             [
              0.1111111111111111,
              "#46039f"
             ],
             [
              0.2222222222222222,
              "#7201a8"
             ],
             [
              0.3333333333333333,
              "#9c179e"
             ],
             [
              0.4444444444444444,
              "#bd3786"
             ],
             [
              0.5555555555555556,
              "#d8576b"
             ],
             [
              0.6666666666666666,
              "#ed7953"
             ],
             [
              0.7777777777777778,
              "#fb9f3a"
             ],
             [
              0.8888888888888888,
              "#fdca26"
             ],
             [
              1,
              "#f0f921"
             ]
            ],
            "type": "contour"
           }
          ],
          "contourcarpet": [
           {
            "colorbar": {
             "outlinewidth": 0,
             "ticks": ""
            },
            "type": "contourcarpet"
           }
          ],
          "heatmap": [
           {
            "colorbar": {
             "outlinewidth": 0,
             "ticks": ""
            },
            "colorscale": [
             [
              0,
              "#0d0887"
             ],
             [
              0.1111111111111111,
              "#46039f"
             ],
             [
              0.2222222222222222,
              "#7201a8"
             ],
             [
              0.3333333333333333,
              "#9c179e"
             ],
             [
              0.4444444444444444,
              "#bd3786"
             ],
             [
              0.5555555555555556,
              "#d8576b"
             ],
             [
              0.6666666666666666,
              "#ed7953"
             ],
             [
              0.7777777777777778,
              "#fb9f3a"
             ],
             [
              0.8888888888888888,
              "#fdca26"
             ],
             [
              1,
              "#f0f921"
             ]
            ],
            "type": "heatmap"
           }
          ],
          "heatmapgl": [
           {
            "colorbar": {
             "outlinewidth": 0,
             "ticks": ""
            },
            "colorscale": [
             [
              0,
              "#0d0887"
             ],
             [
              0.1111111111111111,
              "#46039f"
             ],
             [
              0.2222222222222222,
              "#7201a8"
             ],
             [
              0.3333333333333333,
              "#9c179e"
             ],
             [
              0.4444444444444444,
              "#bd3786"
             ],
             [
              0.5555555555555556,
              "#d8576b"
             ],
             [
              0.6666666666666666,
              "#ed7953"
             ],
             [
              0.7777777777777778,
              "#fb9f3a"
             ],
             [
              0.8888888888888888,
              "#fdca26"
             ],
             [
              1,
              "#f0f921"
             ]
            ],
            "type": "heatmapgl"
           }
          ],
          "histogram": [
           {
            "marker": {
             "pattern": {
              "fillmode": "overlay",
              "size": 10,
              "solidity": 0.2
             }
            },
            "type": "histogram"
           }
          ],
          "histogram2d": [
           {
            "colorbar": {
             "outlinewidth": 0,
             "ticks": ""
            },
            "colorscale": [
             [
              0,
              "#0d0887"
             ],
             [
              0.1111111111111111,
              "#46039f"
             ],
             [
              0.2222222222222222,
              "#7201a8"
             ],
             [
              0.3333333333333333,
              "#9c179e"
             ],
             [
              0.4444444444444444,
              "#bd3786"
             ],
             [
              0.5555555555555556,
              "#d8576b"
             ],
             [
              0.6666666666666666,
              "#ed7953"
             ],
             [
              0.7777777777777778,
              "#fb9f3a"
             ],
             [
              0.8888888888888888,
              "#fdca26"
             ],
             [
              1,
              "#f0f921"
             ]
            ],
            "type": "histogram2d"
           }
          ],
          "histogram2dcontour": [
           {
            "colorbar": {
             "outlinewidth": 0,
             "ticks": ""
            },
            "colorscale": [
             [
              0,
              "#0d0887"
             ],
             [
              0.1111111111111111,
              "#46039f"
             ],
             [
              0.2222222222222222,
              "#7201a8"
             ],
             [
              0.3333333333333333,
              "#9c179e"
             ],
             [
              0.4444444444444444,
              "#bd3786"
             ],
             [
              0.5555555555555556,
              "#d8576b"
             ],
             [
              0.6666666666666666,
              "#ed7953"
             ],
             [
              0.7777777777777778,
              "#fb9f3a"
             ],
             [
              0.8888888888888888,
              "#fdca26"
             ],
             [
              1,
              "#f0f921"
             ]
            ],
            "type": "histogram2dcontour"
           }
          ],
          "mesh3d": [
           {
            "colorbar": {
             "outlinewidth": 0,
             "ticks": ""
            },
            "type": "mesh3d"
           }
          ],
          "parcoords": [
           {
            "line": {
             "colorbar": {
              "outlinewidth": 0,
              "ticks": ""
             }
            },
            "type": "parcoords"
           }
          ],
          "pie": [
           {
            "automargin": true,
            "type": "pie"
           }
          ],
          "scatter": [
           {
            "fillpattern": {
             "fillmode": "overlay",
             "size": 10,
             "solidity": 0.2
            },
            "type": "scatter"
           }
          ],
          "scatter3d": [
           {
            "line": {
             "colorbar": {
              "outlinewidth": 0,
              "ticks": ""
             }
            },
            "marker": {
             "colorbar": {
              "outlinewidth": 0,
              "ticks": ""
             }
            },
            "type": "scatter3d"
           }
          ],
          "scattercarpet": [
           {
            "marker": {
             "colorbar": {
              "outlinewidth": 0,
              "ticks": ""
             }
            },
            "type": "scattercarpet"
           }
          ],
          "scattergeo": [
           {
            "marker": {
             "colorbar": {
              "outlinewidth": 0,
              "ticks": ""
             }
            },
            "type": "scattergeo"
           }
          ],
          "scattergl": [
           {
            "marker": {
             "colorbar": {
              "outlinewidth": 0,
              "ticks": ""
             }
            },
            "type": "scattergl"
           }
          ],
          "scattermapbox": [
           {
            "marker": {
             "colorbar": {
              "outlinewidth": 0,
              "ticks": ""
             }
            },
            "type": "scattermapbox"
           }
          ],
          "scatterpolar": [
           {
            "marker": {
             "colorbar": {
              "outlinewidth": 0,
              "ticks": ""
             }
            },
            "type": "scatterpolar"
           }
          ],
          "scatterpolargl": [
           {
            "marker": {
             "colorbar": {
              "outlinewidth": 0,
              "ticks": ""
             }
            },
            "type": "scatterpolargl"
           }
          ],
          "scatterternary": [
           {
            "marker": {
             "colorbar": {
              "outlinewidth": 0,
              "ticks": ""
             }
            },
            "type": "scatterternary"
           }
          ],
          "surface": [
           {
            "colorbar": {
             "outlinewidth": 0,
             "ticks": ""
            },
            "colorscale": [
             [
              0,
              "#0d0887"
             ],
             [
              0.1111111111111111,
              "#46039f"
             ],
             [
              0.2222222222222222,
              "#7201a8"
             ],
             [
              0.3333333333333333,
              "#9c179e"
             ],
             [
              0.4444444444444444,
              "#bd3786"
             ],
             [
              0.5555555555555556,
              "#d8576b"
             ],
             [
              0.6666666666666666,
              "#ed7953"
             ],
             [
              0.7777777777777778,
              "#fb9f3a"
             ],
             [
              0.8888888888888888,
              "#fdca26"
             ],
             [
              1,
              "#f0f921"
             ]
            ],
            "type": "surface"
           }
          ],
          "table": [
           {
            "cells": {
             "fill": {
              "color": "#EBF0F8"
             },
             "line": {
              "color": "white"
             }
            },
            "header": {
             "fill": {
              "color": "#C8D4E3"
             },
             "line": {
              "color": "white"
             }
            },
            "type": "table"
           }
          ]
         },
         "layout": {
          "annotationdefaults": {
           "arrowcolor": "#2a3f5f",
           "arrowhead": 0,
           "arrowwidth": 1
          },
          "autotypenumbers": "strict",
          "coloraxis": {
           "colorbar": {
            "outlinewidth": 0,
            "ticks": ""
           }
          },
          "colorscale": {
           "diverging": [
            [
             0,
             "#8e0152"
            ],
            [
             0.1,
             "#c51b7d"
            ],
            [
             0.2,
             "#de77ae"
            ],
            [
             0.3,
             "#f1b6da"
            ],
            [
             0.4,
             "#fde0ef"
            ],
            [
             0.5,
             "#f7f7f7"
            ],
            [
             0.6,
             "#e6f5d0"
            ],
            [
             0.7,
             "#b8e186"
            ],
            [
             0.8,
             "#7fbc41"
            ],
            [
             0.9,
             "#4d9221"
            ],
            [
             1,
             "#276419"
            ]
           ],
           "sequential": [
            [
             0,
             "#0d0887"
            ],
            [
             0.1111111111111111,
             "#46039f"
            ],
            [
             0.2222222222222222,
             "#7201a8"
            ],
            [
             0.3333333333333333,
             "#9c179e"
            ],
            [
             0.4444444444444444,
             "#bd3786"
            ],
            [
             0.5555555555555556,
             "#d8576b"
            ],
            [
             0.6666666666666666,
             "#ed7953"
            ],
            [
             0.7777777777777778,
             "#fb9f3a"
            ],
            [
             0.8888888888888888,
             "#fdca26"
            ],
            [
             1,
             "#f0f921"
            ]
           ],
           "sequentialminus": [
            [
             0,
             "#0d0887"
            ],
            [
             0.1111111111111111,
             "#46039f"
            ],
            [
             0.2222222222222222,
             "#7201a8"
            ],
            [
             0.3333333333333333,
             "#9c179e"
            ],
            [
             0.4444444444444444,
             "#bd3786"
            ],
            [
             0.5555555555555556,
             "#d8576b"
            ],
            [
             0.6666666666666666,
             "#ed7953"
            ],
            [
             0.7777777777777778,
             "#fb9f3a"
            ],
            [
             0.8888888888888888,
             "#fdca26"
            ],
            [
             1,
             "#f0f921"
            ]
           ]
          },
          "colorway": [
           "#636efa",
           "#EF553B",
           "#00cc96",
           "#ab63fa",
           "#FFA15A",
           "#19d3f3",
           "#FF6692",
           "#B6E880",
           "#FF97FF",
           "#FECB52"
          ],
          "font": {
           "color": "#2a3f5f"
          },
          "geo": {
           "bgcolor": "white",
           "lakecolor": "white",
           "landcolor": "#E5ECF6",
           "showlakes": true,
           "showland": true,
           "subunitcolor": "white"
          },
          "hoverlabel": {
           "align": "left"
          },
          "hovermode": "closest",
          "mapbox": {
           "style": "light"
          },
          "paper_bgcolor": "white",
          "plot_bgcolor": "#E5ECF6",
          "polar": {
           "angularaxis": {
            "gridcolor": "white",
            "linecolor": "white",
            "ticks": ""
           },
           "bgcolor": "#E5ECF6",
           "radialaxis": {
            "gridcolor": "white",
            "linecolor": "white",
            "ticks": ""
           }
          },
          "scene": {
           "xaxis": {
            "backgroundcolor": "#E5ECF6",
            "gridcolor": "white",
            "gridwidth": 2,
            "linecolor": "white",
            "showbackground": true,
            "ticks": "",
            "zerolinecolor": "white"
           },
           "yaxis": {
            "backgroundcolor": "#E5ECF6",
            "gridcolor": "white",
            "gridwidth": 2,
            "linecolor": "white",
            "showbackground": true,
            "ticks": "",
            "zerolinecolor": "white"
           },
           "zaxis": {
            "backgroundcolor": "#E5ECF6",
            "gridcolor": "white",
            "gridwidth": 2,
            "linecolor": "white",
            "showbackground": true,
            "ticks": "",
            "zerolinecolor": "white"
           }
          },
          "shapedefaults": {
           "line": {
            "color": "#2a3f5f"
           }
          },
          "ternary": {
           "aaxis": {
            "gridcolor": "white",
            "linecolor": "white",
            "ticks": ""
           },
           "baxis": {
            "gridcolor": "white",
            "linecolor": "white",
            "ticks": ""
           },
           "bgcolor": "#E5ECF6",
           "caxis": {
            "gridcolor": "white",
            "linecolor": "white",
            "ticks": ""
           }
          },
          "title": {
           "x": 0.05
          },
          "xaxis": {
           "automargin": true,
           "gridcolor": "white",
           "linecolor": "white",
           "ticks": "",
           "title": {
            "standoff": 15
           },
           "zerolinecolor": "white",
           "zerolinewidth": 2
          },
          "yaxis": {
           "automargin": true,
           "gridcolor": "white",
           "linecolor": "white",
           "ticks": "",
           "title": {
            "standoff": 15
           },
           "zerolinecolor": "white",
           "zerolinewidth": 2
          }
         }
        }
       }
      },
      "text/html": [
       "<div>                            <div id=\"2c8775de-194d-48c5-a58b-3594fa397066\" class=\"plotly-graph-div\" style=\"height:525px; width:100%;\"></div>            <script type=\"text/javascript\">                require([\"plotly\"], function(Plotly) {                    window.PLOTLYENV=window.PLOTLYENV || {};                                    if (document.getElementById(\"2c8775de-194d-48c5-a58b-3594fa397066\")) {                    Plotly.newPlot(                        \"2c8775de-194d-48c5-a58b-3594fa397066\",                        [{\"marker\":{\"color\":\"deepskyblue\"},\"orientation\":\"h\",\"text\":[\"7095875.41\",\"4498763.9\",\"1,541,774.28\"],\"textposition\":\"auto\",\"x\":[7095875.41,4498763.9,\"1,541,774.28\"],\"y\":[\"vs 2Y ago\",\"vs last year\",\"MtD\"],\"type\":\"bar\"}],                        {\"margin\":{\"l\":1},\"template\":{\"data\":{\"histogram2dcontour\":[{\"type\":\"histogram2dcontour\",\"colorbar\":{\"outlinewidth\":0,\"ticks\":\"\"},\"colorscale\":[[0.0,\"#0d0887\"],[0.1111111111111111,\"#46039f\"],[0.2222222222222222,\"#7201a8\"],[0.3333333333333333,\"#9c179e\"],[0.4444444444444444,\"#bd3786\"],[0.5555555555555556,\"#d8576b\"],[0.6666666666666666,\"#ed7953\"],[0.7777777777777778,\"#fb9f3a\"],[0.8888888888888888,\"#fdca26\"],[1.0,\"#f0f921\"]]}],\"choropleth\":[{\"type\":\"choropleth\",\"colorbar\":{\"outlinewidth\":0,\"ticks\":\"\"}}],\"histogram2d\":[{\"type\":\"histogram2d\",\"colorbar\":{\"outlinewidth\":0,\"ticks\":\"\"},\"colorscale\":[[0.0,\"#0d0887\"],[0.1111111111111111,\"#46039f\"],[0.2222222222222222,\"#7201a8\"],[0.3333333333333333,\"#9c179e\"],[0.4444444444444444,\"#bd3786\"],[0.5555555555555556,\"#d8576b\"],[0.6666666666666666,\"#ed7953\"],[0.7777777777777778,\"#fb9f3a\"],[0.8888888888888888,\"#fdca26\"],[1.0,\"#f0f921\"]]}],\"heatmap\":[{\"type\":\"heatmap\",\"colorbar\":{\"outlinewidth\":0,\"ticks\":\"\"},\"colorscale\":[[0.0,\"#0d0887\"],[0.1111111111111111,\"#46039f\"],[0.2222222222222222,\"#7201a8\"],[0.3333333333333333,\"#9c179e\"],[0.4444444444444444,\"#bd3786\"],[0.5555555555555556,\"#d8576b\"],[0.6666666666666666,\"#ed7953\"],[0.7777777777777778,\"#fb9f3a\"],[0.8888888888888888,\"#fdca26\"],[1.0,\"#f0f921\"]]}],\"heatmapgl\":[{\"type\":\"heatmapgl\",\"colorbar\":{\"outlinewidth\":0,\"ticks\":\"\"},\"colorscale\":[[0.0,\"#0d0887\"],[0.1111111111111111,\"#46039f\"],[0.2222222222222222,\"#7201a8\"],[0.3333333333333333,\"#9c179e\"],[0.4444444444444444,\"#bd3786\"],[0.5555555555555556,\"#d8576b\"],[0.6666666666666666,\"#ed7953\"],[0.7777777777777778,\"#fb9f3a\"],[0.8888888888888888,\"#fdca26\"],[1.0,\"#f0f921\"]]}],\"contourcarpet\":[{\"type\":\"contourcarpet\",\"colorbar\":{\"outlinewidth\":0,\"ticks\":\"\"}}],\"contour\":[{\"type\":\"contour\",\"colorbar\":{\"outlinewidth\":0,\"ticks\":\"\"},\"colorscale\":[[0.0,\"#0d0887\"],[0.1111111111111111,\"#46039f\"],[0.2222222222222222,\"#7201a8\"],[0.3333333333333333,\"#9c179e\"],[0.4444444444444444,\"#bd3786\"],[0.5555555555555556,\"#d8576b\"],[0.6666666666666666,\"#ed7953\"],[0.7777777777777778,\"#fb9f3a\"],[0.8888888888888888,\"#fdca26\"],[1.0,\"#f0f921\"]]}],\"surface\":[{\"type\":\"surface\",\"colorbar\":{\"outlinewidth\":0,\"ticks\":\"\"},\"colorscale\":[[0.0,\"#0d0887\"],[0.1111111111111111,\"#46039f\"],[0.2222222222222222,\"#7201a8\"],[0.3333333333333333,\"#9c179e\"],[0.4444444444444444,\"#bd3786\"],[0.5555555555555556,\"#d8576b\"],[0.6666666666666666,\"#ed7953\"],[0.7777777777777778,\"#fb9f3a\"],[0.8888888888888888,\"#fdca26\"],[1.0,\"#f0f921\"]]}],\"mesh3d\":[{\"type\":\"mesh3d\",\"colorbar\":{\"outlinewidth\":0,\"ticks\":\"\"}}],\"scatter\":[{\"fillpattern\":{\"fillmode\":\"overlay\",\"size\":10,\"solidity\":0.2},\"type\":\"scatter\"}],\"parcoords\":[{\"type\":\"parcoords\",\"line\":{\"colorbar\":{\"outlinewidth\":0,\"ticks\":\"\"}}}],\"scatterpolargl\":[{\"type\":\"scatterpolargl\",\"marker\":{\"colorbar\":{\"outlinewidth\":0,\"ticks\":\"\"}}}],\"bar\":[{\"error_x\":{\"color\":\"#2a3f5f\"},\"error_y\":{\"color\":\"#2a3f5f\"},\"marker\":{\"line\":{\"color\":\"#E5ECF6\",\"width\":0.5},\"pattern\":{\"fillmode\":\"overlay\",\"size\":10,\"solidity\":0.2}},\"type\":\"bar\"}],\"scattergeo\":[{\"type\":\"scattergeo\",\"marker\":{\"colorbar\":{\"outlinewidth\":0,\"ticks\":\"\"}}}],\"scatterpolar\":[{\"type\":\"scatterpolar\",\"marker\":{\"colorbar\":{\"outlinewidth\":0,\"ticks\":\"\"}}}],\"histogram\":[{\"marker\":{\"pattern\":{\"fillmode\":\"overlay\",\"size\":10,\"solidity\":0.2}},\"type\":\"histogram\"}],\"scattergl\":[{\"type\":\"scattergl\",\"marker\":{\"colorbar\":{\"outlinewidth\":0,\"ticks\":\"\"}}}],\"scatter3d\":[{\"type\":\"scatter3d\",\"line\":{\"colorbar\":{\"outlinewidth\":0,\"ticks\":\"\"}},\"marker\":{\"colorbar\":{\"outlinewidth\":0,\"ticks\":\"\"}}}],\"scattermapbox\":[{\"type\":\"scattermapbox\",\"marker\":{\"colorbar\":{\"outlinewidth\":0,\"ticks\":\"\"}}}],\"scatterternary\":[{\"type\":\"scatterternary\",\"marker\":{\"colorbar\":{\"outlinewidth\":0,\"ticks\":\"\"}}}],\"scattercarpet\":[{\"type\":\"scattercarpet\",\"marker\":{\"colorbar\":{\"outlinewidth\":0,\"ticks\":\"\"}}}],\"carpet\":[{\"aaxis\":{\"endlinecolor\":\"#2a3f5f\",\"gridcolor\":\"white\",\"linecolor\":\"white\",\"minorgridcolor\":\"white\",\"startlinecolor\":\"#2a3f5f\"},\"baxis\":{\"endlinecolor\":\"#2a3f5f\",\"gridcolor\":\"white\",\"linecolor\":\"white\",\"minorgridcolor\":\"white\",\"startlinecolor\":\"#2a3f5f\"},\"type\":\"carpet\"}],\"table\":[{\"cells\":{\"fill\":{\"color\":\"#EBF0F8\"},\"line\":{\"color\":\"white\"}},\"header\":{\"fill\":{\"color\":\"#C8D4E3\"},\"line\":{\"color\":\"white\"}},\"type\":\"table\"}],\"barpolar\":[{\"marker\":{\"line\":{\"color\":\"#E5ECF6\",\"width\":0.5},\"pattern\":{\"fillmode\":\"overlay\",\"size\":10,\"solidity\":0.2}},\"type\":\"barpolar\"}],\"pie\":[{\"automargin\":true,\"type\":\"pie\"}]},\"layout\":{\"autotypenumbers\":\"strict\",\"colorway\":[\"#636efa\",\"#EF553B\",\"#00cc96\",\"#ab63fa\",\"#FFA15A\",\"#19d3f3\",\"#FF6692\",\"#B6E880\",\"#FF97FF\",\"#FECB52\"],\"font\":{\"color\":\"#2a3f5f\"},\"hovermode\":\"closest\",\"hoverlabel\":{\"align\":\"left\"},\"paper_bgcolor\":\"white\",\"plot_bgcolor\":\"#E5ECF6\",\"polar\":{\"bgcolor\":\"#E5ECF6\",\"angularaxis\":{\"gridcolor\":\"white\",\"linecolor\":\"white\",\"ticks\":\"\"},\"radialaxis\":{\"gridcolor\":\"white\",\"linecolor\":\"white\",\"ticks\":\"\"}},\"ternary\":{\"bgcolor\":\"#E5ECF6\",\"aaxis\":{\"gridcolor\":\"white\",\"linecolor\":\"white\",\"ticks\":\"\"},\"baxis\":{\"gridcolor\":\"white\",\"linecolor\":\"white\",\"ticks\":\"\"},\"caxis\":{\"gridcolor\":\"white\",\"linecolor\":\"white\",\"ticks\":\"\"}},\"coloraxis\":{\"colorbar\":{\"outlinewidth\":0,\"ticks\":\"\"}},\"colorscale\":{\"sequential\":[[0.0,\"#0d0887\"],[0.1111111111111111,\"#46039f\"],[0.2222222222222222,\"#7201a8\"],[0.3333333333333333,\"#9c179e\"],[0.4444444444444444,\"#bd3786\"],[0.5555555555555556,\"#d8576b\"],[0.6666666666666666,\"#ed7953\"],[0.7777777777777778,\"#fb9f3a\"],[0.8888888888888888,\"#fdca26\"],[1.0,\"#f0f921\"]],\"sequentialminus\":[[0.0,\"#0d0887\"],[0.1111111111111111,\"#46039f\"],[0.2222222222222222,\"#7201a8\"],[0.3333333333333333,\"#9c179e\"],[0.4444444444444444,\"#bd3786\"],[0.5555555555555556,\"#d8576b\"],[0.6666666666666666,\"#ed7953\"],[0.7777777777777778,\"#fb9f3a\"],[0.8888888888888888,\"#fdca26\"],[1.0,\"#f0f921\"]],\"diverging\":[[0,\"#8e0152\"],[0.1,\"#c51b7d\"],[0.2,\"#de77ae\"],[0.3,\"#f1b6da\"],[0.4,\"#fde0ef\"],[0.5,\"#f7f7f7\"],[0.6,\"#e6f5d0\"],[0.7,\"#b8e186\"],[0.8,\"#7fbc41\"],[0.9,\"#4d9221\"],[1,\"#276419\"]]},\"xaxis\":{\"gridcolor\":\"white\",\"linecolor\":\"white\",\"ticks\":\"\",\"title\":{\"standoff\":15},\"zerolinecolor\":\"white\",\"automargin\":true,\"zerolinewidth\":2},\"yaxis\":{\"gridcolor\":\"white\",\"linecolor\":\"white\",\"ticks\":\"\",\"title\":{\"standoff\":15},\"zerolinecolor\":\"white\",\"automargin\":true,\"zerolinewidth\":2},\"scene\":{\"xaxis\":{\"backgroundcolor\":\"#E5ECF6\",\"gridcolor\":\"white\",\"linecolor\":\"white\",\"showbackground\":true,\"ticks\":\"\",\"zerolinecolor\":\"white\",\"gridwidth\":2},\"yaxis\":{\"backgroundcolor\":\"#E5ECF6\",\"gridcolor\":\"white\",\"linecolor\":\"white\",\"showbackground\":true,\"ticks\":\"\",\"zerolinecolor\":\"white\",\"gridwidth\":2},\"zaxis\":{\"backgroundcolor\":\"#E5ECF6\",\"gridcolor\":\"white\",\"linecolor\":\"white\",\"showbackground\":true,\"ticks\":\"\",\"zerolinecolor\":\"white\",\"gridwidth\":2}},\"shapedefaults\":{\"line\":{\"color\":\"#2a3f5f\"}},\"annotationdefaults\":{\"arrowcolor\":\"#2a3f5f\",\"arrowhead\":0,\"arrowwidth\":1},\"geo\":{\"bgcolor\":\"white\",\"landcolor\":\"#E5ECF6\",\"subunitcolor\":\"white\",\"showland\":true,\"showlakes\":true,\"lakecolor\":\"white\"},\"title\":{\"x\":0.05},\"mapbox\":{\"style\":\"light\"}}}},                        {\"responsive\": true}                    ).then(function(){\n",
       "                            \n",
       "var gd = document.getElementById('2c8775de-194d-48c5-a58b-3594fa397066');\n",
       "var x = new MutationObserver(function (mutations, observer) {{\n",
       "        var display = window.getComputedStyle(gd).display;\n",
       "        if (!display || display === 'none') {{\n",
       "            console.log([gd, 'removed!']);\n",
       "            Plotly.purge(gd);\n",
       "            observer.disconnect();\n",
       "        }}\n",
       "}});\n",
       "\n",
       "// Listen for the removal of the full notebook cells\n",
       "var notebookContainer = gd.closest('#notebook-container');\n",
       "if (notebookContainer) {{\n",
       "    x.observe(notebookContainer, {childList: true});\n",
       "}}\n",
       "\n",
       "// Listen for the clearing of the current output cell\n",
       "var outputEl = gd.closest('.output');\n",
       "if (outputEl) {{\n",
       "    x.observe(outputEl, {childList: true});\n",
       "}}\n",
       "\n",
       "                        })                };                });            </script>        </div>"
      ]
     },
     "metadata": {},
     "output_type": "display_data"
    }
   ],
   "source": [
    "def create_sales_chart(df, date):\n",
    "    month = pd.Timestamp(date).to_pydatetime()\n",
    "    sales_mtd = df[(df['month'] == month.month) & (df['year'] == month.year)]['total'].sum()\n",
    "    sales_mtd_formatted = \"{:,.2f}\".format(sales_mtd)\n",
    "    sales_mtd_last_year = df[(df['month'] == month.month) & (df['year'] == month.year - 1)]['total'].sum()\n",
    "    sales_mtd_two_year = df[(df['month'] == month.month) & (df['year'] == month.year - 2)]['total'].sum()\n",
    "    percent_vs_last_year_month = round(sales_mtd/sales_mtd_last_year*100,2)\n",
    "    percent_vs_two_year_month = round(sales_mtd/sales_mtd_two_year*100,2)\n",
    "\n",
    "    labels = ['vs 2Y ago', 'vs last year','MtD']\n",
    "    category_names = [sales_mtd_two_year, sales_mtd_last_year, sales_mtd_formatted]\n",
    "\n",
    "    trace = go.Bar(\n",
    "        x=category_names,\n",
    "        y=labels,\n",
    "        orientation='h',\n",
    "        text=category_names,\n",
    "        textposition='auto',\n",
    "        marker=dict(\n",
    "            color='deepskyblue'\n",
    "        )\n",
    "    )\n",
    "\n",
    "    data = [trace]\n",
    "    layout = go.Layout(\n",
    "        #xaxis=dict(title='Total Sales'),\n",
    "        #yaxis=dict(title='Category'),\n",
    "        margin=dict(l=1)\n",
    "    )\n",
    "\n",
    "    fig = go.Figure(data=data, layout=layout)\n",
    "    return fig\n",
    "create_sales_chart(df, today_date)"
   ]
  },
  {
   "cell_type": "code",
   "execution_count": 39,
   "id": "56050f4f",
   "metadata": {},
   "outputs": [],
   "source": [
    "@app.callback(\n",
    "    Output('sales-chart', 'figure'),\n",
    "    [Input('date-picker', 'date')]\n",
    ")\n",
    "def update_sales_chart(date):\n",
    "    month = pd.Timestamp(date).to_pydatetime()\n",
    "    sales_chart = create_sales_chart(df, month)\n",
    "    return sales_chart\n"
   ]
  },
  {
   "cell_type": "code",
   "execution_count": null,
   "id": "84654cd4",
   "metadata": {},
   "outputs": [],
   "source": []
  },
  {
   "cell_type": "code",
   "execution_count": 40,
   "id": "04f7e893",
   "metadata": {},
   "outputs": [],
   "source": [
    "today = pd.Timestamp.now().floor('D')\n",
    "def prev_weekday(adate):\n",
    "    adate -= timedelta(days=1)\n",
    "    while adate.weekday() > 4: # Mon-Fri are 0-4\n",
    "        adate -= timedelta(days=1)\n",
    "    return adate\n",
    "overnight_sales = df[(df['date'] >= prev_weekday(today))]['total'].sum()\n"
   ]
  },
  {
   "cell_type": "code",
   "execution_count": 41,
   "id": "09a12b59",
   "metadata": {},
   "outputs": [],
   "source": [
    "@app.callback(\n",
    "    Output('overnight-sales', 'children'),\n",
    "    [Input('date-picker', 'date')]\n",
    ")\n",
    "def update_overnight_sales(date):\n",
    "    # Calculate overnight sales based on selected date\n",
    "    overnight_sales = round(df[(df['date'] >= pd.Timestamp(date).floor('D'))]['total'].sum(),2)\n",
    "    overnight_sales = \"{:,.2f}\".format(overnight_sales)\n",
    "    return f\"Overnight sales = {overnight_sales}\"\n",
    "#update_overnight_sales(today_date)"
   ]
  },
  {
   "cell_type": "code",
   "execution_count": null,
   "id": "df367631",
   "metadata": {},
   "outputs": [],
   "source": []
  },
  {
   "cell_type": "code",
   "execution_count": 42,
   "id": "0e85897e",
   "metadata": {},
   "outputs": [],
   "source": [
    "# def get_customers_to_chase(df):\n",
    "#     # Filter for customers who last ordered this year\n",
    "#     current_year = datetime.now().year\n",
    "#     # How long have we got each cust\n",
    "#     customer_length = df.groupby('name_o').agg({'sales_order_id_o': 'nunique', 'date': ['min', 'max']})\n",
    "#     customer_length['longevity'] = customer_length['date']['max'] - customer_length['date']['min']\n",
    "#     customer_length = customer_length.reset_index()\n",
    "#     customer_length.columns = ['name_o', 'orders_count', 'first_order', 'last_order', 'longevity']\n",
    "\n",
    "#     filtered_df = customer_length.loc[(customer_length['last_order'].dt.year == current_year)]\n",
    "#     sorted_df = filtered_df.sort_values('last_order').head(10)\n",
    "\n",
    "#     # Format the longevity column as a string\n",
    "#     sorted_df['longevity'] = sorted_df['longevity'].apply(lambda x: str(datetime.min + x))\n",
    "    \n",
    "#     return sorted_df.to_dict('records')\n",
    "    \n",
    "# #     fig = go.Figure(data=[go.Table(\n",
    "# #         header=dict(values=list(sorted_df.columns),\n",
    "# #                     fill_color='lightgray',\n",
    "# #                     align='left'),\n",
    "# #         cells=dict(values=[sorted_df.name_o, sorted_df.orders_count, sorted_df.first_order, sorted_df.last_order, sorted_df.longevity],\n",
    "# #                    fill_color='white',\n",
    "# #                    align='left'))\n",
    "# #     ])\n",
    "\n",
    "# #     return fig\n",
    "\n",
    "# #     table = dash_table.DataTable(\n",
    "# #         columns=[{\"name\": i, \"id\": i} for i in sorted_df.columns],\n",
    "# #         data=sorted_df.to_dict('records')\n",
    "# #     )\n",
    "\n",
    "# #     return table\n"
   ]
  },
  {
   "cell_type": "code",
   "execution_count": 43,
   "id": "a25322e0",
   "metadata": {},
   "outputs": [],
   "source": [
    "def get_customers_to_chase(df):\n",
    "    # Filter for customers who last ordered this year\n",
    "    current_year = datetime.now().year\n",
    "    # How long have we got each cust\n",
    "    customer_length = df.groupby('name_o').agg({'sales_order_id_o': 'nunique', 'date': ['min', 'max']})\n",
    "    customer_length['longevity'] = customer_length['date']['max'] - customer_length['date']['min']\n",
    "    customer_length = customer_length.reset_index()\n",
    "    customer_length.columns = ['name_o', 'orders_count', 'first_order', 'last_order', 'longevity']\n",
    "\n",
    "    filtered_df = customer_length.loc[(customer_length['last_order'].dt.year == current_year)]\n",
    "    sorted_df = filtered_df.sort_values('last_order').head(10)\n",
    "\n",
    "    # Format the longevity column as a string\n",
    "    sorted_df['longevity'] = sorted_df['longevity'].apply(lambda x: str(datetime.min + x))\n",
    "    \n",
    "    return sorted_df\n"
   ]
  },
  {
   "cell_type": "code",
   "execution_count": 44,
   "id": "e773dbe8",
   "metadata": {},
   "outputs": [
    {
     "data": {
      "text/html": [
       "<div>\n",
       "<style scoped>\n",
       "    .dataframe tbody tr th:only-of-type {\n",
       "        vertical-align: middle;\n",
       "    }\n",
       "\n",
       "    .dataframe tbody tr th {\n",
       "        vertical-align: top;\n",
       "    }\n",
       "\n",
       "    .dataframe thead th {\n",
       "        text-align: right;\n",
       "    }\n",
       "</style>\n",
       "<table border=\"1\" class=\"dataframe\">\n",
       "  <thead>\n",
       "    <tr style=\"text-align: right;\">\n",
       "      <th></th>\n",
       "      <th>name_o</th>\n",
       "      <th>orders_count</th>\n",
       "      <th>first_order</th>\n",
       "      <th>last_order</th>\n",
       "      <th>longevity</th>\n",
       "    </tr>\n",
       "  </thead>\n",
       "  <tbody>\n",
       "    <tr>\n",
       "      <th>87</th>\n",
       "      <td>JS Music Corporation</td>\n",
       "      <td>27</td>\n",
       "      <td>2019-01-02</td>\n",
       "      <td>2023-01-04</td>\n",
       "      <td>0005-01-03 00:00:00</td>\n",
       "    </tr>\n",
       "    <tr>\n",
       "      <th>31</th>\n",
       "      <td>Comercializadora SYP Limitada (EUR)</td>\n",
       "      <td>6</td>\n",
       "      <td>2020-10-07</td>\n",
       "      <td>2023-01-09</td>\n",
       "      <td>0003-04-05 00:00:00</td>\n",
       "    </tr>\n",
       "    <tr>\n",
       "      <th>5</th>\n",
       "      <td>ABAAD ALJEEL DBA LIKE4CARD (EUR)</td>\n",
       "      <td>33</td>\n",
       "      <td>2021-01-04</td>\n",
       "      <td>2023-01-10</td>\n",
       "      <td>0003-01-07 00:00:00</td>\n",
       "    </tr>\n",
       "    <tr>\n",
       "      <th>89</th>\n",
       "      <td>KorsIT</td>\n",
       "      <td>216</td>\n",
       "      <td>2019-01-07</td>\n",
       "      <td>2023-01-30</td>\n",
       "      <td>0005-01-24 00:00:00</td>\n",
       "    </tr>\n",
       "    <tr>\n",
       "      <th>90</th>\n",
       "      <td>KorsIT (CAD)</td>\n",
       "      <td>20</td>\n",
       "      <td>2021-02-23</td>\n",
       "      <td>2023-01-30</td>\n",
       "      <td>0002-12-08 00:00:00</td>\n",
       "    </tr>\n",
       "    <tr>\n",
       "      <th>25</th>\n",
       "      <td>COLOMBIANUP SAS</td>\n",
       "      <td>20</td>\n",
       "      <td>2021-08-24</td>\n",
       "      <td>2023-02-01</td>\n",
       "      <td>0002-06-11 00:00:00</td>\n",
       "    </tr>\n",
       "    <tr>\n",
       "      <th>34</th>\n",
       "      <td>DEIMAN UNITED LTD</td>\n",
       "      <td>68</td>\n",
       "      <td>2019-01-07</td>\n",
       "      <td>2023-02-13</td>\n",
       "      <td>0005-02-07 00:00:00</td>\n",
       "    </tr>\n",
       "    <tr>\n",
       "      <th>111</th>\n",
       "      <td>Napan LLC</td>\n",
       "      <td>44</td>\n",
       "      <td>2021-08-27</td>\n",
       "      <td>2023-02-13</td>\n",
       "      <td>0002-06-20 00:00:00</td>\n",
       "    </tr>\n",
       "    <tr>\n",
       "      <th>32</th>\n",
       "      <td>ContentCard AG</td>\n",
       "      <td>201</td>\n",
       "      <td>2019-07-03</td>\n",
       "      <td>2023-02-15</td>\n",
       "      <td>0004-08-16 00:00:00</td>\n",
       "    </tr>\n",
       "    <tr>\n",
       "      <th>102</th>\n",
       "      <td>MOL AccessPortal Sdn Bhd</td>\n",
       "      <td>76</td>\n",
       "      <td>2019-01-17</td>\n",
       "      <td>2023-02-22</td>\n",
       "      <td>0005-02-06 00:00:00</td>\n",
       "    </tr>\n",
       "  </tbody>\n",
       "</table>\n",
       "</div>"
      ],
      "text/plain": [
       "                                  name_o  orders_count first_order last_order  \\\n",
       "87                  JS Music Corporation            27  2019-01-02 2023-01-04   \n",
       "31   Comercializadora SYP Limitada (EUR)             6  2020-10-07 2023-01-09   \n",
       "5       ABAAD ALJEEL DBA LIKE4CARD (EUR)            33  2021-01-04 2023-01-10   \n",
       "89                                KorsIT           216  2019-01-07 2023-01-30   \n",
       "90                          KorsIT (CAD)            20  2021-02-23 2023-01-30   \n",
       "25                       COLOMBIANUP SAS            20  2021-08-24 2023-02-01   \n",
       "34                     DEIMAN UNITED LTD            68  2019-01-07 2023-02-13   \n",
       "111                            Napan LLC            44  2021-08-27 2023-02-13   \n",
       "32                        ContentCard AG           201  2019-07-03 2023-02-15   \n",
       "102             MOL AccessPortal Sdn Bhd            76  2019-01-17 2023-02-22   \n",
       "\n",
       "               longevity  \n",
       "87   0005-01-03 00:00:00  \n",
       "31   0003-04-05 00:00:00  \n",
       "5    0003-01-07 00:00:00  \n",
       "89   0005-01-24 00:00:00  \n",
       "90   0002-12-08 00:00:00  \n",
       "25   0002-06-11 00:00:00  \n",
       "34   0005-02-07 00:00:00  \n",
       "111  0002-06-20 00:00:00  \n",
       "32   0004-08-16 00:00:00  \n",
       "102  0005-02-06 00:00:00  "
      ]
     },
     "execution_count": 44,
     "metadata": {},
     "output_type": "execute_result"
    }
   ],
   "source": [
    "get_customers_to_chase(df)"
   ]
  },
  {
   "cell_type": "code",
   "execution_count": 45,
   "id": "789ff0a4",
   "metadata": {},
   "outputs": [],
   "source": [
    "@app.callback(\n",
    "    Output('customers-table', 'data'),\n",
    "    Input('df', '_'),\n",
    "    State('df', 'data')\n",
    ")\n",
    "def update_customers_table(_, df):\n",
    "    sorted_df = get_customers_to_chase(df)\n",
    "    return sorted_df.to_dict('records')"
   ]
  },
  {
   "cell_type": "code",
   "execution_count": 46,
   "id": "44266588",
   "metadata": {},
   "outputs": [
    {
     "data": {
      "text/plain": [
       "[{'name_o': 'JS Music Corporation',\n",
       "  'orders_count': 27,\n",
       "  'first_order': Timestamp('2019-01-02 00:00:00'),\n",
       "  'last_order': Timestamp('2023-01-04 00:00:00'),\n",
       "  'longevity': '0005-01-03 00:00:00'},\n",
       " {'name_o': 'Comercializadora SYP Limitada (EUR)',\n",
       "  'orders_count': 6,\n",
       "  'first_order': Timestamp('2020-10-07 00:00:00'),\n",
       "  'last_order': Timestamp('2023-01-09 00:00:00'),\n",
       "  'longevity': '0003-04-05 00:00:00'},\n",
       " {'name_o': 'ABAAD ALJEEL DBA LIKE4CARD (EUR)',\n",
       "  'orders_count': 33,\n",
       "  'first_order': Timestamp('2021-01-04 00:00:00'),\n",
       "  'last_order': Timestamp('2023-01-10 00:00:00'),\n",
       "  'longevity': '0003-01-07 00:00:00'},\n",
       " {'name_o': 'KorsIT',\n",
       "  'orders_count': 216,\n",
       "  'first_order': Timestamp('2019-01-07 00:00:00'),\n",
       "  'last_order': Timestamp('2023-01-30 00:00:00'),\n",
       "  'longevity': '0005-01-24 00:00:00'},\n",
       " {'name_o': 'KorsIT (CAD)',\n",
       "  'orders_count': 20,\n",
       "  'first_order': Timestamp('2021-02-23 00:00:00'),\n",
       "  'last_order': Timestamp('2023-01-30 00:00:00'),\n",
       "  'longevity': '0002-12-08 00:00:00'},\n",
       " {'name_o': 'COLOMBIANUP SAS',\n",
       "  'orders_count': 20,\n",
       "  'first_order': Timestamp('2021-08-24 00:00:00'),\n",
       "  'last_order': Timestamp('2023-02-01 00:00:00'),\n",
       "  'longevity': '0002-06-11 00:00:00'},\n",
       " {'name_o': 'DEIMAN UNITED LTD',\n",
       "  'orders_count': 68,\n",
       "  'first_order': Timestamp('2019-01-07 00:00:00'),\n",
       "  'last_order': Timestamp('2023-02-13 00:00:00'),\n",
       "  'longevity': '0005-02-07 00:00:00'},\n",
       " {'name_o': 'Napan LLC',\n",
       "  'orders_count': 44,\n",
       "  'first_order': Timestamp('2021-08-27 00:00:00'),\n",
       "  'last_order': Timestamp('2023-02-13 00:00:00'),\n",
       "  'longevity': '0002-06-20 00:00:00'},\n",
       " {'name_o': 'ContentCard AG',\n",
       "  'orders_count': 201,\n",
       "  'first_order': Timestamp('2019-07-03 00:00:00'),\n",
       "  'last_order': Timestamp('2023-02-15 00:00:00'),\n",
       "  'longevity': '0004-08-16 00:00:00'},\n",
       " {'name_o': 'MOL AccessPortal Sdn Bhd',\n",
       "  'orders_count': 76,\n",
       "  'first_order': Timestamp('2019-01-17 00:00:00'),\n",
       "  'last_order': Timestamp('2023-02-22 00:00:00'),\n",
       "  'longevity': '0005-02-06 00:00:00'}]"
      ]
     },
     "execution_count": 46,
     "metadata": {},
     "output_type": "execute_result"
    }
   ],
   "source": [
    "update_customers_table(_,df)"
   ]
  },
  {
   "cell_type": "code",
   "execution_count": 47,
   "id": "ea7eb2cf",
   "metadata": {},
   "outputs": [],
   "source": [
    "# @app.callback(\n",
    "#     Output('customers-table', 'children'),\n",
    "#     Input('update-button', '_'),\n",
    "# )\n",
    "# def update_customers_table(_):\n",
    "#     # Call the function to create the DataTable\n",
    "#     customers_table = get_customers_to_chase(df)\n",
    "    \n",
    "#     return customers_table\n"
   ]
  },
  {
   "cell_type": "code",
   "execution_count": 48,
   "id": "c758073c",
   "metadata": {},
   "outputs": [],
   "source": [
    "# update_customers_table(_)"
   ]
  },
  {
   "cell_type": "code",
   "execution_count": 49,
   "id": "9e2eab89",
   "metadata": {},
   "outputs": [],
   "source": [
    "# # Filter for customers who last ordered this year\n",
    "# current_year = datetime.now().year\n",
    "# #How long have we got each cust \n",
    "# customer_length = df.groupby('name_o').agg({'sales_order_id_o': 'nunique','date': ['min', 'max']})\n",
    "# customer_length['longevity'] = customer_length['date']['max'] - customer_length['date']['min']\n",
    "# customer_length = customer_length.reset_index()\n",
    "# customer_length.columns = ['name_o', 'orders_count', 'first_order', 'last_order','longevity']\n",
    "# filtered_df = customer_length.loc[(customer_length['last_order'].dt.year == current_year)]\n",
    "# filtered_df.sort_values('last_order').head(10)"
   ]
  },
  {
   "cell_type": "code",
   "execution_count": 50,
   "id": "42f31531",
   "metadata": {},
   "outputs": [],
   "source": [
    "# # Define Tabs content\n",
    "# sales_tab_content = dbc.Card(\n",
    "#     dbc.CardBody(\"tab to fill per year/period\")\n",
    "# )\n"
   ]
  },
  {
   "cell_type": "code",
   "execution_count": 51,
   "id": "6ac8cdbf",
   "metadata": {},
   "outputs": [],
   "source": [
    "# Sales dashboard\n",
    "sales_tab_content = dbc.Container([\n",
    "     dbc.Row([\n",
    "        dbc.Col(html.H6('...', className='card-title mb-4')),\n",
    "        html.Label('Select year:'), \n",
    "        dcc.Dropdown(\n",
    "                            id='year-dropdown',\n",
    "                            options=[{'label': str(year), 'value': year} for year in df['year'].unique()],\n",
    "                            value=df['year'].min()\n",
    "                        ),\n",
    "        ], justify=\"between\", align=\"center\", className='mb-4'),\n",
    "\n",
    "    dbc.Row([\n",
    "        dbc.Col([\n",
    "            dbc.Card([\n",
    "                dbc.CardHeader(html.H5(\"Sales by Top 3 Customers\")),\n",
    "                dbc.CardBody(\n",
    "                    [\n",
    "                        dcc.Graph(id='sales-graph-1')\n",
    "                    ], \n",
    "                    style={'height': '100%', 'display': 'flex', 'flex-direction': 'column'}\n",
    "                ),\n",
    "            ], \n",
    "            style={'height': '100%'}\n",
    "            )\n",
    "        ], md=6),\n",
    "        dbc.Col([\n",
    "            dbc.Card([\n",
    "                dbc.CardHeader(html.H5(\"Sales vs Order vs Total SKU\")),\n",
    "                dbc.CardBody(\n",
    "                    [\n",
    "                        dcc.Graph(id='sales-graph-2')\n",
    "                    ],\n",
    "                    style={'height': '100%', 'display': 'flex', 'flex-direction': 'column'}\n",
    "                ),\n",
    "            ], \n",
    "            style={'height': '100%'}\n",
    "            )\n",
    "        ], md=6),\n",
    "    ]),\n",
    "    dbc.Row([\n",
    "        dbc.Col([\n",
    "            dbc.Card([\n",
    "                dbc.CardHeader(html.H5(\"Average Order Value\")),\n",
    "                dbc.CardBody(\n",
    "                    [\n",
    "                        dcc.Graph(id='sales-graph-3')\n",
    "                    ],\n",
    "                    style={'height': '100%', 'display': 'flex', 'flex-direction': 'column'}\n",
    "                ),\n",
    "            ], \n",
    "            style={'height': '100%'}\n",
    "            )\n",
    "        ], md=6),\n",
    "        dbc.Col([\n",
    "            dbc.Card([\n",
    "                dbc.CardHeader(html.H5(\"Sales by Region\")),\n",
    "                dbc.CardBody(\n",
    "                    [\n",
    "                        dcc.Graph(id='sales-graph-4')\n",
    "                    ],\n",
    "                    style={'height': '100%', 'display': 'flex', 'flex-direction': 'column'}\n",
    "                ),\n",
    "            ], \n",
    "            style={'height': '100%'}\n",
    "            )\n",
    "        ], md=6),\n",
    "    ]),\n",
    "], fluid=True, style={'padding': '2rem'})\n"
   ]
  },
  {
   "cell_type": "code",
   "execution_count": 52,
   "id": "0e0868e0",
   "metadata": {},
   "outputs": [],
   "source": [
    "# Calculate total sales by customer over the entire period\n",
    "total_sales_by_customer = df.groupby('name_o')['total'].sum()\n",
    "\n",
    "# Select top 20 customers based on their total sales\n",
    "top_customers = total_sales_by_customer.nlargest(20).index.tolist()\n",
    "\n",
    "# Create a dictionary of colors for the top 20 customers\n",
    "customer_colors = {customer: px.colors.qualitative.Pastel1[i % len(px.colors.qualitative.Pastel1)]\n",
    "                   for i, customer in enumerate(top_customers)}\n",
    "\n",
    "# Add a color for 'others'\n",
    "customer_colors['others'] = 'gray'\n",
    "\n",
    "# Assign colors to each customer using the color mapping dictionary\n",
    "def assign_color(customer):\n",
    "    if customer in customer_colors:\n",
    "        return customer_colors[customer]\n",
    "    else:\n",
    "        return 'gray'\n",
    "\n",
    "@app.callback(\n",
    "    Output('sales-graph-1', 'figure'),\n",
    "    [Input('year-dropdown', 'value')])\n",
    "def update_sales_graph_1(selected_year):\n",
    "    filtered_df = df[df['year'] == selected_year]\n",
    "\n",
    "    # Calculate total sales by month and customer\n",
    "    sales_by_month_customer = filtered_df.groupby(['month', 'name_o'])['total'].sum().reset_index()\n",
    "\n",
    "    # Find top customers for each month\n",
    "    top_customers_by_month = sales_by_month_customer.groupby('month').apply(lambda x: x.nlargest(3, 'total')).reset_index(drop=True)\n",
    "\n",
    "    # Group the remaining customers as \"others\"\n",
    "    remaining_customers_by_month = sales_by_month_customer[~sales_by_month_customer['name_o'].isin(top_customers)]\n",
    "    remaining_customers_by_month = remaining_customers_by_month.groupby('month').sum().reset_index()\n",
    "    remaining_customers_by_month['name_o'] = 'others'\n",
    "\n",
    "    # Concatenate the top customers and the \"others\" dataframes\n",
    "    sales_by_month_customer = pd.concat([top_customers_by_month, remaining_customers_by_month])\n",
    "\n",
    "    # Assign colors to each customer using the color mapping dictionary\n",
    "    sales_by_month_customer['color'] = sales_by_month_customer['name_o'].apply(assign_color)\n",
    "\n",
    "    # Create stacked bar chart of sales by customer\n",
    "    fig = px.bar(sales_by_month_customer, x='month', y='total', color='name_o', color_discrete_map=customer_colors)\n",
    "    fig.update_layout(\n",
    "        title=f'Top 3 customers and others by month ({selected_year})',\n",
    "        xaxis_title='Month',\n",
    "        yaxis_title='Total Sales ($)',\n",
    "        barmode='stack'\n",
    "    )\n",
    "    return fig\n",
    "#update_sales_graph_1(2021)"
   ]
  },
  {
   "cell_type": "code",
   "execution_count": 53,
   "id": "15cbbffb",
   "metadata": {},
   "outputs": [],
   "source": [
    "@app.callback(\n",
    "    Output('sales-graph-2', 'figure'),\n",
    "    [Input('year-dropdown', 'value')])\n",
    "def update_sales_graph_2(selected_year):\n",
    "    filtered_df = df[df['year'] == selected_year]\n",
    "    \n",
    "    # Total Sales trend by month\n",
    "    sales_by_month = filtered_df.groupby(pd.Grouper(key='date', freq='M')).sum()['total']\n",
    "    sales_trace = go.Scatter(x=sales_by_month.index, y=sales_by_month.values, mode='lines', name='Total Sales')\n",
    "\n",
    "    # Total Unique Orders trend by month\n",
    "    unique_orders_by_month = filtered_df.groupby(pd.Grouper(key='date', freq='M'))['id_o'].nunique()\n",
    "    unique_orders_trace = go.Scatter(x=unique_orders_by_month.index, y=unique_orders_by_month.values, mode='lines', name='Total Unique Orders')\n",
    "\n",
    "    # Total SKU trend by month\n",
    "    total_sku_by_month = filtered_df.groupby(pd.Grouper(key='date', freq='M'))['quantity'].sum()\n",
    "    total_sku_trace = go.Scatter(x=total_sku_by_month.index, y=total_sku_by_month.values, mode='lines', name='Total SKUs')\n",
    "    \n",
    "    fig = go.Figure()\n",
    "    \n",
    "    fig.add_trace(sales_trace)\n",
    "    fig.add_trace(unique_orders_trace)\n",
    "    fig.add_trace(total_sku_trace)\n",
    "\n",
    "    fig.update_layout(\n",
    "        font=dict(size=10),\n",
    "        margin=dict(l=20, r=20, t=40, b=20),\n",
    "        paper_bgcolor=\"white\",\n",
    "        plot_bgcolor=\"white\",\n",
    "        xaxis_title='Month',\n",
    "        yaxis_title='Total',\n",
    "        title=\"Sales, Unique Orders, and SKUs Trend\"\n",
    "    )\n",
    "\n",
    "    return fig\n",
    "#update_sales_graph_2(2021)"
   ]
  },
  {
   "cell_type": "code",
   "execution_count": 54,
   "id": "2ef248b8",
   "metadata": {},
   "outputs": [],
   "source": [
    "clients_tab_content = dbc.Card(\n",
    "    dbc.CardBody(\"tab to fill per client\")\n",
    ")"
   ]
  },
  {
   "cell_type": "code",
   "execution_count": 55,
   "id": "e74be6b0",
   "metadata": {},
   "outputs": [],
   "source": [
    "prospects_tab_content = dbc.Card(\n",
    "    dbc.CardBody(\"habits and nudge\")\n",
    ")"
   ]
  },
  {
   "cell_type": "code",
   "execution_count": 56,
   "id": "9f4ffc49",
   "metadata": {},
   "outputs": [],
   "source": [
    "# Define tabs\n",
    "tabs = dbc.Tabs(\n",
    "    [\n",
    "        dbc.Tab(sales_tab_content, label=\"Historic Sales\"),\n",
    "        dbc.Tab(clients_tab_content, label=\"Customer Analysis\"),\n",
    "        dbc.Tab(prospects_tab_content, label=\"Prospects Market Research\"),\n",
    "    ],\n",
    "    id=\"tabs\",\n",
    "    active_tab=\"sales_tab_content\",\n",
    ")"
   ]
  },
  {
   "cell_type": "code",
   "execution_count": 57,
   "id": "e2231e38",
   "metadata": {},
   "outputs": [],
   "source": [
    "# Define app layout\n",
    "app.layout = html.Div([\n",
    "    navbar,\n",
    "    dcc.Store(id=\"df\"),\n",
    "    page_layout,\n",
    "    dbc.Container([\n",
    "        dbc.Row([\n",
    "            dbc.Col([\n",
    "                tabs,\n",
    "            ]),\n",
    "        ], className='mt-4')\n",
    "    ])\n",
    "], style={'padding': '0rem 0rem 2rem 0rem'})"
   ]
  },
  {
   "cell_type": "code",
   "execution_count": null,
   "id": "559b1170",
   "metadata": {},
   "outputs": [],
   "source": []
  },
  {
   "cell_type": "code",
   "execution_count": 58,
   "id": "0f88f636",
   "metadata": {},
   "outputs": [],
   "source": [
    "# # Update the page content based on the url\n",
    "# @app.callback(Output(\"page-content\", \"children\"), [Input(\"url\", \"pathname\")])\n",
    "# def render_page_content(pathname):\n",
    "#     if pathname == \"/\":\n",
    "#         return landing_page\n",
    "#     elif pathname == \"/apps/sales\":\n",
    "#         return sales_dashboard\n",
    "#     elif pathname == \"/apps/clients\":\n",
    "#         return clients_dashboard\n",
    "#     elif pathname == \"/apps/prospects\":\n",
    "#         return prospects_dashboard\n",
    "#     else:\n",
    "#         return html.P(\"Page not found\")\n"
   ]
  },
  {
   "cell_type": "code",
   "execution_count": 59,
   "id": "9a5075e6",
   "metadata": {},
   "outputs": [
    {
     "name": "stdout",
     "output_type": "stream",
     "text": [
      "Dash is running on http://127.0.0.1:8050/\n",
      "\n",
      " * Serving Flask app '__main__'\n",
      " * Debug mode: on\n"
     ]
    }
   ],
   "source": [
    "# Set the app layout\n",
    "#app.layout = app_layout\n",
    "if __name__ == '__main__':\n",
    "    app.run_server(debug=True, use_reloader=False)"
   ]
  },
  {
   "cell_type": "code",
   "execution_count": null,
   "id": "5c3fa0e5",
   "metadata": {},
   "outputs": [],
   "source": []
  },
  {
   "cell_type": "code",
   "execution_count": null,
   "id": "7cb201f3",
   "metadata": {},
   "outputs": [],
   "source": []
  },
  {
   "cell_type": "code",
   "execution_count": null,
   "id": "35fef887",
   "metadata": {},
   "outputs": [],
   "source": []
  },
  {
   "cell_type": "code",
   "execution_count": null,
   "id": "e81f768f",
   "metadata": {},
   "outputs": [],
   "source": []
  },
  {
   "cell_type": "code",
   "execution_count": null,
   "id": "5f53462c",
   "metadata": {},
   "outputs": [],
   "source": []
  }
 ],
 "metadata": {
  "kernelspec": {
   "display_name": "Python 3 (ipykernel)",
   "language": "python",
   "name": "python3"
  },
  "language_info": {
   "codemirror_mode": {
    "name": "ipython",
    "version": 3
   },
   "file_extension": ".py",
   "mimetype": "text/x-python",
   "name": "python",
   "nbconvert_exporter": "python",
   "pygments_lexer": "ipython3",
   "version": "3.10.10"
  }
 },
 "nbformat": 4,
 "nbformat_minor": 5
}
