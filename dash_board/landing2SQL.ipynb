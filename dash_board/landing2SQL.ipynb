{
 "cells": [
  {
   "cell_type": "markdown",
   "id": "ff02c9d4-0560-4edc-b918-3d8739998c0c",
   "metadata": {
    "tags": []
   },
   "source": [
    "### 1- IMPORT LIBRARIES & DATA"
   ]
  },
  {
   "cell_type": "code",
   "execution_count": 3,
   "id": "40b9726b",
   "metadata": {
    "tags": []
   },
   "outputs": [],
   "source": [
    "# !pip install dash\n",
    "# !pip install pandas \n",
    "# !pip install dash-bootstrap-components\n",
    "# !pip install pymysql\n",
    "# !pip install Flask-Caching\n",
    "# !pip install mysqlclient\n",
    "# !pip install dash-extensions\n",
    "# !pip install mysql-connector-python"
   ]
  },
  {
   "cell_type": "code",
   "execution_count": 4,
   "id": "712136a6",
   "metadata": {
    "tags": []
   },
   "outputs": [],
   "source": [
    "import os\n",
    "import json\n",
    "import pandas as pd\n",
    "pd.set_option('display.max_columns', None)\n",
    "pd.set_option('display.max_rows', None)\n",
    "import plotly.graph_objs as go\n",
    "import plotly.express as px\n",
    "import plotly.graph_objects as go\n",
    "from plotly.subplots import make_subplots\n",
    "import dash\n",
    "from dash import dash_table\n",
    "from dash.dash_table.Format import Group\n",
    "from dash import dcc\n",
    "from dash import html\n",
    "from dash.dependencies import Input, Output, State, ClientsideFunction, MATCH, ALL, ClientsideFunction, Output, Input\n",
    "from dash.exceptions import PreventUpdate\n",
    "# from dash_extensions import Download\n",
    "# from dash_extensions.snippets import send_data_frame\n",
    "import dash_bootstrap_components as dbc\n",
    "from navbar_tabs_layout import app_layout\n",
    "import time\n",
    "from datetime import datetime, date, time, timedelta\n",
    "from dateutil.relativedelta import relativedelta\n",
    "import mysql.connector\n",
    "import pymysql\n",
    "pymysql.install_as_MySQLdb()\n",
    "#import MySQLdb\n",
    "from flask_caching import Cache\n",
    "from dash_extensions.enrich import DashProxy, Output, Input, State, ServersideOutput, html, dcc, ServersideOutputTransform\n",
    "#from app import app, cache"
   ]
  },
  {
   "cell_type": "code",
   "execution_count": 5,
   "id": "e8bcea8c",
   "metadata": {
    "tags": []
   },
   "outputs": [],
   "source": [
    "# Read the data\n",
    "df = pd.read_csv('EZItotalFull.csv')"
   ]
  },
  {
   "cell_type": "code",
   "execution_count": 6,
   "id": "41773523-74f3-4ca3-bc7a-632dd535e994",
   "metadata": {
    "tags": []
   },
   "outputs": [],
   "source": [
    "# Call data preprocessing function to preprocess data\n",
    "data = None  # Set global_data to None to force a reload of data"
   ]
  },
  {
   "cell_type": "markdown",
   "id": "0ffea1cd-fe0b-4b7a-bc61-d5e80cb26e3a",
   "metadata": {
    "tags": []
   },
   "source": [
    "### 2- LAUNCH DASH "
   ]
  },
  {
   "cell_type": "code",
   "execution_count": 7,
   "id": "d978fc41",
   "metadata": {
    "tags": []
   },
   "outputs": [],
   "source": [
    "app = dash.Dash(__name__, external_stylesheets=[dbc.themes.UNITED], meta_tags=[{\"name\": \"viewport\", \"content\": \"width=device-width\"}])\n",
    "app.title = 'Dashboard'"
   ]
  },
  {
   "cell_type": "code",
   "execution_count": 8,
   "id": "696513cf-1e6f-4f3a-a904-da4525e52f0e",
   "metadata": {
    "tags": []
   },
   "outputs": [
    {
     "data": {
      "text/plain": [
       "True"
      ]
     },
     "execution_count": 8,
     "metadata": {},
     "output_type": "execute_result"
    }
   ],
   "source": [
    "# Create a Flask-Caching object\n",
    "cache = Cache(app.server, config={\n",
    "    'CACHE_TYPE': 'filesystem',\n",
    "    'CACHE_DIR': 'cache-directory',\n",
    "    'CACHE_DEFAULT_TIMEOUT': 86400  # 24 hours\n",
    "})\n",
    "cache.clear()"
   ]
  },
  {
   "cell_type": "markdown",
   "id": "71658edf-3ea1-4cb7-a43e-b58642d54d6a",
   "metadata": {},
   "source": [
    "### 3- LOAD DATA or REFRESH"
   ]
  },
  {
   "cell_type": "code",
   "execution_count": 9,
   "id": "d05f440a-15ae-4bc7-9e0b-1ad5b6caddc7",
   "metadata": {
    "tags": []
   },
   "outputs": [],
   "source": [
    "def read_data():\n",
    "    # Try to get data from the cache\n",
    "    data = cache.get('data')\n",
    "    if data is not None:\n",
    "        return pd.DataFrame.from_dict(data)\n",
    "\n",
    "    # Try to load data from the CSV file\n",
    "    if os.path.isfile('EZItotalFull.csv'):\n",
    "        data = pd.read_csv('EZItotalFull.csv').to_dict('records')\n",
    "        # Store the data in the cache\n",
    "        #cache.set('data', data)\n",
    "        return pd.DataFrame.from_dict(data)\n",
    "\n",
    "    # If data is not in the cache and the CSV file does not exist, return an empty DataFrame\n",
    "    #return pd.DataFrame()"
   ]
  },
  {
   "cell_type": "code",
   "execution_count": null,
   "id": "d85e7b97-42d9-4f94-ad13-cc4af5325928",
   "metadata": {
    "tags": []
   },
   "outputs": [],
   "source": []
  },
  {
   "cell_type": "code",
   "execution_count": 10,
   "id": "01fc61ed-8097-473f-b96a-931b5e9bf58e",
   "metadata": {
    "tags": []
   },
   "outputs": [],
   "source": [
    "# Define connection parameters\n",
    "\n",
    "# Set up the database connection\n",
    "def get_database_connection():\n",
    "    connection = pymysql.connect(\n",
    "        host = '127.0.0.1',\n",
    "        user = 'readonly',\n",
    "        password = 'MwLvD9DFL8mnrTKkI6fU',\n",
    "        port = 3335\n",
    "        #DB_NAME = 'mydatabase',\n",
    "    )\n",
    "    return connection"
   ]
  },
  {
   "cell_type": "code",
   "execution_count": 11,
   "id": "076d376a-3ebf-4cea-b031-4ec66dbf1f37",
   "metadata": {
    "tags": []
   },
   "outputs": [],
   "source": [
    "# Read data from the database and store it in cache\n",
    "def fetch_data_from_database():\n",
    "    connection = get_database_connection()\n",
    "    cursor = connection.cursor()\n",
    "    # Get the last sales order ID from the CSV file\n",
    "    if os.path.isfile('EZItotalFull.csv'):\n",
    "        df = pd.read_csv('EZItotalFull.csv')\n",
    "        last_date = df['created_at'].astype('datetime64[ns]').max().strftime('%Y-%m-%d')\n",
    "        last_date_o = df['date'].astype('datetime64[ns]').max().strftime('%Y-%m-%d')\n",
    "        last_sales_order_id = pd.to_numeric(df['sales_order_id'], errors='coerce').max()\n",
    "        last_inv = pd.to_numeric(df['invoice_number'], errors='coerce').max()\n",
    "    else:\n",
    "        df = pd.DataFrame()  # create an empty dataframe if the CSV file doesn't exist\n",
    "        last_date = \"2019-01-01\"\n",
    "        last_date_o = \"2019-01-01\"\n",
    "    query = f\"\"\"\n",
    "                SELECT i.sales_order_id, i.id AS id, i.quantity, i.product_id, i.state AS state_i, i.status, i.created_at, i.external_unit_price,\n",
    "                       p.id AS sku_id, p.sku, p.name, p.description, p.currency, p.brand_id, p.face_price, p.country, b.name AS name_i,\n",
    "                       o.date, o.invoice_number, o.state AS state_o, o.customer_company_id, c.id AS cust_id, c.name AS name_o, a.city, a.country AS country_o, x.finance_number, x.sales_order_id AS sales_order_id_o\n",
    "                        FROM (SELECT *\n",
    "                              FROM ezscm_production.sales_order_items\n",
    "                              WHERE created_at > '{last_date}')  AS i\n",
    "                        LEFT OUTER JOIN (SELECT *\n",
    "                                         FROM ezscm_production.sales_orders\n",
    "                                         WHERE date > '{last_date_o}') AS o\n",
    "                            ON o.id = i.sales_order_id\n",
    "                        LEFT OUTER JOIN ezscm_production.products AS p\n",
    "                            ON p.id = i.product_id\n",
    "                        LEFT OUTER JOIN ezscm_production.brands AS b\n",
    "                            ON p.brand_id = b.id\n",
    "                        LEFT OUTER JOIN ezscm_production.companies AS c\n",
    "                            ON o.customer_company_id = c.id\n",
    "                        LEFT OUTER JOIN ezscm_production.addresses AS a\n",
    "                            ON c.billing_address_id = a.id\n",
    "                        LEFT OUTER JOIN ezscm_production.invoices AS x\n",
    "                            ON o.invoice_number = x.finance_number\n",
    "                \"\"\"\n",
    "    #connect cursor\n",
    "    cursor.execute(query)\n",
    "    rows = cursor.fetchall()\n",
    "    data = pd.read_sql(query, connection)\n",
    "    # Append new records to the CSV file\n",
    "    df = pd.concat([df, data]).drop_duplicates().reset_index(drop=True)\n",
    "    df.to_csv('df.csv', index=False)\n",
    "\n",
    "    connection.close()\n",
    "    \n",
    "    #return pd.DataFrame.from_dict(df)\n",
    "    return df.to_dict('records')\n"
   ]
  },
  {
   "cell_type": "code",
   "execution_count": null,
   "id": "a5a82172-c653-411f-aeb5-80d8d6e10a39",
   "metadata": {
    "tags": []
   },
   "outputs": [],
   "source": []
  },
  {
   "cell_type": "code",
   "execution_count": 12,
   "id": "4a24dff2-3bc9-4565-b6fb-7e6d69785254",
   "metadata": {
    "tags": []
   },
   "outputs": [],
   "source": [
    "@app.callback(Output('local', 'data'),\n",
    "              Output(\"loading-fetch-data\", \"children\"),\n",
    "              Input('fetch-data-button', 'n_clicks'))\n",
    "\n",
    "def fetch_data(n_clicks):\n",
    "    if n_clicks is None or n_clicks == 0:\n",
    "    # Try to load data from the cache or CSV file\n",
    "        data = read_data()\n",
    "        if data.empty:\n",
    "            return pd.DataFrame(), html.Div([\n",
    "                html.P('Data not found. Please click on the \"Fetch Data\" button to fetch the data.')\n",
    "            ])\n",
    "        else:\n",
    "            return data.to_dict('records'), ''\n",
    "    else:\n",
    "        # Fetch data from the database and convert to pandas DataFrame\n",
    "        try:\n",
    "            data = fetch_data_from_database()\n",
    "            return data, html.Div([\n",
    "                html.P('Data fetched successfully')\n",
    "            ])\n",
    "        except Exception as e:\n",
    "            return pd.DataFrame(), html.Div([\n",
    "                html.H6('Connect to MySQL please', style={'color': 'red'})\n",
    "            ])\n"
   ]
  },
  {
   "cell_type": "markdown",
   "id": "069bf059-cf8e-4d43-aeb2-e93bc3fe7b40",
   "metadata": {},
   "source": [
    "### 4- PREPROCESS CLEAN DATA"
   ]
  },
  {
   "cell_type": "code",
   "execution_count": 13,
   "id": "ca606794-0c74-4027-b712-45a6faeaaf18",
   "metadata": {
    "tags": []
   },
   "outputs": [],
   "source": [
    "# define a function to preprocess the data\n",
    "def preprocess_data(df):\n",
    "    df[\"date\"] = df[\"date\"].astype('datetime64[ns]')\n",
    "    #df[\"date\"] = pd.to_datetime(df[\"date\"])\n",
    "    df[['year', 'month', 'day', 'weekday']] = df['date'].apply(lambda x: pd.Series([x.year, x.month, x.day, x.day_name()]))\n",
    "    df[['quantity', 'product_id', 'customer_company_id', 'id']] = df[['quantity', 'product_id', 'customer_company_id', 'id']].astype('Int64')\n",
    "    df['face_price'] = df['face_price'].astype('float').round(2)\n",
    "    df['price'] = df['external_unit_price'].str.extract('(\\d+)').astype('float') / 100\n",
    "    df['price'] = df['price'].round(2)\n",
    "    df['total'] = (df['quantity'] * df['price']).round(2)\n",
    "    df.sort_values(['date','id'],ascending=[True, True])\n",
    "    return df\n"
   ]
  },
  {
   "cell_type": "code",
   "execution_count": 14,
   "id": "b01b02fe-a152-44cc-ae4e-4e5f669efb84",
   "metadata": {
    "tags": []
   },
   "outputs": [],
   "source": [
    "# df[\"date\"] = df[\"date\"].astype('datetime64[ns]')\n",
    "# df['year'] = df.date.dt.year.astype('Int64')\n",
    "# df['month'] = df.date.dt.month.astype('Int64')\n",
    "# df['day'] = df.date.dt.day.astype('Int64')\n",
    "# df['weekday'] = df.date.dt.day_name()"
   ]
  },
  {
   "cell_type": "code",
   "execution_count": 15,
   "id": "d5553b3c-010f-4a75-b6b6-1af170137ad6",
   "metadata": {
    "tags": []
   },
   "outputs": [],
   "source": [
    "# df = df.sort_values(['date','id'],ascending=[True, True])"
   ]
  },
  {
   "cell_type": "code",
   "execution_count": 16,
   "id": "1dd738a3-fb11-4fe3-bae8-5fc818fdc5c0",
   "metadata": {
    "tags": []
   },
   "outputs": [],
   "source": [
    "# #cleaning other columns to be exploitable\n",
    "# df['quantity'] = pd.to_numeric(df['quantity'], downcast=\"integer\") \n",
    "# df['product_id'] = pd.to_numeric(df['product_id'], downcast=\"integer\") \n",
    "# df['customer_company_id'] = pd.to_numeric(df['customer_company_id'], downcast=\"integer\") \n",
    "# df['id'] = pd.to_numeric(df['id'], downcast=\"integer\") \n",
    "# df['face_price'] = round(pd.to_numeric(df['face_price'], downcast=\"float\"),2) "
   ]
  },
  {
   "cell_type": "code",
   "execution_count": 17,
   "id": "146cc765-3d14-4fe7-a69a-eb148efbf488",
   "metadata": {
    "tags": []
   },
   "outputs": [],
   "source": [
    "# #creating a column that states clearly the unit price in a clean way : currency and price\n",
    "# df['price'] = df['external_unit_price'].str.extractall('(\\d+)').unstack().loc[:,0]\n",
    "# df['price'] = pd.to_numeric(df['price'], downcast='float')\n",
    "# df['price'] = df['price']/100\n",
    "# df['price'] = round(df['price'], 2)"
   ]
  },
  {
   "cell_type": "code",
   "execution_count": 18,
   "id": "9a0127a1-5cfd-428a-b5a3-d590a07c4071",
   "metadata": {
    "tags": []
   },
   "outputs": [],
   "source": [
    "# #creating a order value column : quantity * price\n",
    "# df['total'] = df['quantity']*df['price']\n",
    "# df['total'] = round(df['total'],2)"
   ]
  },
  {
   "cell_type": "markdown",
   "id": "43580027-3831-444f-9ee5-367fb5966e0b",
   "metadata": {},
   "source": [
    "### 5- DISPLAY RESPONSE "
   ]
  },
  {
   "cell_type": "code",
   "execution_count": 19,
   "id": "181d6b4f-7ce4-4a9e-a0ca-92ec49ca0979",
   "metadata": {
    "tags": []
   },
   "outputs": [],
   "source": [
    "@cache.memoize()\n",
    "@app.callback(Output('table-container', 'children'),\n",
    "              [Input('fetch-data-button', 'n_clicks'),\n",
    "               Input('local', 'data')])\n",
    "def update_data(n_clicks, data):\n",
    "    if n_clicks is None or n_clicks == 0:\n",
    "        # Try to load data from the cache or CSV file\n",
    "        data = read_data()\n",
    "        if data.empty:\n",
    "            return html.Div([\n",
    "                html.P('Please click on the \"Fetch Data\" button to fetch the data.')\n",
    "            ])\n",
    "        else:\n",
    "            #cache.set('data', data.to_dict('records'))\n",
    "            pass \n",
    "    else:\n",
    "        # Fetch data from the database and convert to pandas DataFrame\n",
    "        #data = pd.DataFrame.from_dict(fetch_data_from_database())\n",
    "        data = pd.read_csv('df.csv')\n",
    "    \n",
    "    # preprocess the data\n",
    "    data = preprocess_data(data)\n",
    "\n",
    "    #store data in cache\n",
    "    cache.set('data', data.to_dict('records'))\n",
    "    \n",
    "#     # convert data to a JSON serializable dictionary\n",
    "#     data_dict = data.to_dict(orient='split')\n",
    "#     columns = [{\"name\": i, \"id\": i} for i in data.columns]\n",
    "#     table_data = data_dict['data'][-1]\n",
    "\n",
    "#     return dbc.Container([\n",
    "#         html.H6('Last row of Data Table'),\n",
    "#         dash_table.DataTable(\n",
    "#             id='table',\n",
    "#             columns=columns,\n",
    "#             data=table_data,\n",
    "#             style_cell={'textAlign': 'center'},\n",
    "#             style_header={\n",
    "#                 'backgroundColor': 'rgb(230, 230, 230)',\n",
    "#                 'fontWeight': 'bold'\n",
    "#             },\n",
    "#             style_data_conditional=[\n",
    "#                 {\n",
    "#                     'if': {'row_index': 'odd'},\n",
    "#                     'backgroundColor': 'rgb(248, 248, 248)'\n",
    "#                 }\n",
    "#             ]\n",
    "#         )\n",
    "#     ])\n",
    "    return dbc.Container([\n",
    "        html.H3('Last row of Data Table'),\n",
    "        dash_table.DataTable(\n",
    "            id='table',\n",
    "            columns=[{\"name\": i, \"id\": i} for i in data.columns],\n",
    "            data=[data.iloc[-1].to_dict()],\n",
    "            style_cell={'textAlign': 'center'},\n",
    "            style_header={\n",
    "                'backgroundColor': 'rgb(230, 230, 230)',\n",
    "                'fontWeight': 'bold'\n",
    "            },\n",
    "            style_data_conditional=[\n",
    "                {\n",
    "                    'if': {'row_index': 'odd'},\n",
    "                    'backgroundColor': 'rgb(248, 248, 248)'\n",
    "                }\n",
    "            ]\n",
    "        )\n",
    "    ])\n"
   ]
  },
  {
   "cell_type": "markdown",
   "id": "61f17329-4a01-414b-8e35-424639d03941",
   "metadata": {},
   "source": [
    "### 6- NAVBAR LAYOUT "
   ]
  },
  {
   "cell_type": "code",
   "execution_count": 20,
   "id": "267d5147",
   "metadata": {
    "tags": []
   },
   "outputs": [],
   "source": [
    "today_date = datetime.now().strftime(\"%Y-%m-%d\")"
   ]
  },
  {
   "cell_type": "code",
   "execution_count": 21,
   "id": "b34aa82e-f41a-42a1-8fc1-06b229e95118",
   "metadata": {
    "tags": []
   },
   "outputs": [],
   "source": [
    "navbar = dbc.Navbar(\n",
    "    dbc.Container(\n",
    "        [\n",
    "            dbc.Row(\n",
    "                [\n",
    "                    dbc.Col(html.Img(src=\"db.png\", height=\"20px\"), width=\"auto\", align=\"center\"),\n",
    "                    dbc.Col(dbc.NavbarBrand(\"My Dashboard\", className=\"ml-2\"), width=\"auto\", align=\"center\"),\n",
    "                    dbc.Col(html.Div(id=\"today-date\", children=today_date), width=\"auto\", align=\"center\"),\n",
    "                    dbc.Col(\n",
    "                        [\n",
    "                            dbc.Button('Fetch Data', id='fetch-data-button', n_clicks=0, className=\"mr-2\"),\n",
    "                     dcc.Loading(\n",
    "                                id=\"loading-fetch-data\",\n",
    "                                type=\"default\",\n",
    "                                children=[\n",
    "                                    dbc.Button(id='query-status-button', children='',style={'width': 'auto', 'margin-left': '10px'})\n",
    "                                ]\n",
    "                            ),\n",
    "                            dcc.Store(id='local', storage_type='local'),\n",
    "                            html.Div(id='status'),\n",
    "                        ],\n",
    "                        width=\"auto\", align=\"end\",style={'display': 'flex', 'align-items': 'center'}\n",
    "                    ),\n",
    "                ],\n",
    "                className=\"my-row\",\n",
    "                align=\"center\",\n",
    "            ),\n",
    "            dbc.NavbarToggler(id=\"navbar-toggler\"),\n",
    "        ]\n",
    "    ),\n",
    "    color=\"light\",\n",
    "    dark=False,\n",
    "    sticky=\"top\",\n",
    ")"
   ]
  },
  {
   "cell_type": "code",
   "execution_count": 22,
   "id": "efd23a36-9935-4742-958d-54bdc5190947",
   "metadata": {
    "tags": []
   },
   "outputs": [
    {
     "data": {
      "text/html": [
       "<div>\n",
       "<style scoped>\n",
       "    .dataframe tbody tr th:only-of-type {\n",
       "        vertical-align: middle;\n",
       "    }\n",
       "\n",
       "    .dataframe tbody tr th {\n",
       "        vertical-align: top;\n",
       "    }\n",
       "\n",
       "    .dataframe thead th {\n",
       "        text-align: right;\n",
       "    }\n",
       "</style>\n",
       "<table border=\"1\" class=\"dataframe\">\n",
       "  <thead>\n",
       "    <tr style=\"text-align: right;\">\n",
       "      <th></th>\n",
       "    </tr>\n",
       "  </thead>\n",
       "  <tbody>\n",
       "  </tbody>\n",
       "</table>\n",
       "</div>"
      ],
      "text/plain": [
       "Empty DataFrame\n",
       "Columns: []\n",
       "Index: []"
      ]
     },
     "execution_count": 22,
     "metadata": {},
     "output_type": "execute_result"
    }
   ],
   "source": [
    "df = pd.DataFrame(cache.get('data'))\n",
    "df.tail()\n"
   ]
  },
  {
   "cell_type": "code",
   "execution_count": null,
   "id": "7b6eb5c9-b751-45ef-831d-62e5018189bc",
   "metadata": {
    "tags": []
   },
   "outputs": [],
   "source": [
    "df[\"date\"] = pd.to_datetime(df[\"date\"])\n",
    "df[['year', 'month', 'day', 'weekday']] = df['date'].apply(lambda x: pd.Series([x.year, x.month, x.day, x.day_name()]))\n",
    "df[['quantity', 'product_id', 'customer_company_id', 'id']] = df[['quantity', 'product_id', 'customer_company_id', 'id']].astype('Int64')"
   ]
  },
  {
   "cell_type": "code",
   "execution_count": null,
   "id": "1524cfbd-b046-4b39-b88c-7ca7c6e576b7",
   "metadata": {
    "tags": []
   },
   "outputs": [],
   "source": [
    "df['face_price'] = df['face_price'].astype('float').round(2)\n",
    "df['price'] = df['external_unit_price'].str.extract('(\\d+)').astype('float') / 100\n",
    "df['price'] = df['price'].round(2)\n",
    "df['total'] = (df['quantity'] * df['price']).round(2)"
   ]
  },
  {
   "cell_type": "code",
   "execution_count": null,
   "id": "dd8f308d-b12c-4f2e-beac-1b8af3e5f65b",
   "metadata": {},
   "outputs": [],
   "source": [
    "#what percentage of not complete orders do we have\n",
    "unsuccess = df[df['state_o']!='complete']\n",
    "unsuccess.groupby('name_o').agg({'quantity':'count','total':'sum'}).sort_values(by='quantity', ascending= False).head(5)"
   ]
  },
  {
   "cell_type": "code",
   "execution_count": null,
   "id": "7f56b9f7",
   "metadata": {
    "tags": []
   },
   "outputs": [],
   "source": [
    "df.tail()"
   ]
  },
  {
   "cell_type": "markdown",
   "id": "d6a668bc-92ec-4ce8-aa23-14eb1fcc2f15",
   "metadata": {
    "jp-MarkdownHeadingCollapsed": true,
    "tags": []
   },
   "source": [
    "### 8- PAGE BODY : TOP LEVEL VISUALS"
   ]
  },
  {
   "cell_type": "code",
   "execution_count": null,
   "id": "f4d224c8",
   "metadata": {
    "tags": []
   },
   "outputs": [],
   "source": [
    "# Define page layout\n",
    "page_layout = dbc.Container([\n",
    "    \n",
    "    # Add top_level section\n",
    "    dbc.Row([\n",
    "        #         dbc.Col(dcc.DatePickerSingle(\n",
    "        #             id='date-picker',\n",
    "        #             min_date_allowed=df['date'].min(),\n",
    "        #             max_date_allowed=df['date'].max(),\n",
    "        #             initial_visible_month=df['date'].max(),\n",
    "        #             date=df['date'].max()\n",
    "        #         ),\n",
    "        #         width=3\n",
    "        # ),\n",
    "        dbc.Col(dbc.Card([\n",
    "                    dbc.CardHeader(\"Overnight Orders, including not Complete\"),\n",
    "                    dbc.CardBody([html.P(id='overnight-sales')])\n",
    "                ]),\n",
    "                width=8\n",
    "        ),\n",
    "\n",
    "    ], justify=\"between\", align=\"center\", className='mb-4'),\n",
    "\n",
    "    dbc.Card([\n",
    "        dbc.CardBody([\n",
    "            dbc.Row([\n",
    "                dbc.Col([\n",
    "                    dbc.Card([\n",
    "                        dbc.CardHeader(\"Sales YtD\"),\n",
    "                        dbc.CardBody([\n",
    "                            dcc.Graph(id='sales-chart-2')\n",
    "                        ])\n",
    "                    ], className=\"h-100\", style={'height': '100%', 'display': 'flex', 'flex-direction': 'column'})\n",
    "                ], sm=12, lg=4, className=\"mb-4\"),\n",
    "                dbc.Col([\n",
    "                    dbc.Card([\n",
    "                        dbc.CardHeader(\"Sales Mtd\"),\n",
    "                        dbc.CardBody([\n",
    "                            dcc.Graph(id='sales-chart')\n",
    "                        ])\n",
    "                    ], className=\"h-100\", style={'height': '100%', 'display': 'flex', 'flex-direction': 'column'})\n",
    "                ], sm=12, lg=4, className=\"mb-4\"),\n",
    "                dbc.Col([\n",
    "                    dbc.Card([\n",
    "                        dbc.CardHeader(\n",
    "                            [html.H6(\"Customers to chase\"), html.Button('Render Table', id='render-button', className='btn-sm')],\n",
    "                            style={'backgroundColor': '#F8F9FA'}\n",
    "                        ),\n",
    "                        dbc.CardBody(\n",
    "                            dcc.Graph(\n",
    "                                id='table',\n",
    "                                config={'displayModeBar': False}\n",
    "                            ),\n",
    "                            style={'padding': '0', 'margin': '0'}\n",
    "                        )\n",
    "                    ], className=\"h-100\", style={'height': '100%', 'display': 'flex', 'flex-direction': 'column'})\n",
    "                ], sm=12, lg=4, className=\"mb-4\")\n",
    "            ])\n",
    "        ])\n",
    "    ], className=\"rounded-0 border-0\"),\n",
    "\n",
    "    # Add rest of page layout here\n",
    "    html.Div(\"Click on below tabs for further analysis 👇\"),\n",
    "\n",
    "], fluid=True, style={'padding': '2rem'})\n"
   ]
  },
  {
   "cell_type": "code",
   "execution_count": null,
   "id": "4e0f85b4-3e0a-4009-9bb1-f48a5cf41e3b",
   "metadata": {
    "tags": []
   },
   "outputs": [],
   "source": [
    "#datepicker callbacks\n",
    "@app.callback(Output('date-picker', 'min_date_allowed'),\n",
    "              Output('date-picker', 'max_date_allowed'),\n",
    "              Output('date-picker', 'initial_visible_month'),\n",
    "              Output('date-picker', 'date'),\n",
    "              Input('cache-data', 'data'))\n",
    "def update_datepicker(preprocessed_data):\n",
    "    if preprocessed_data is None:\n",
    "        return None, None, None, None\n",
    "\n",
    "    # Create a new dataframe from preprocessed_data\n",
    "    df = pd.DataFrame.from_records(preprocessed_data)\n",
    "\n",
    "    # Set datatype for the 'date' column\n",
    "    df['date'] = pd.to_datetime(df['date'])\n",
    "\n",
    "    return df['date'].min(), df['date'].max(), df['date'].max(), df['date'].max()"
   ]
  },
  {
   "cell_type": "code",
   "execution_count": null,
   "id": "b9182479",
   "metadata": {},
   "outputs": [],
   "source": [
    "# #displaying gauge instead of bar chart\n",
    "\n",
    "def new_sales_chart(date, df):\n",
    "    current_year = pd.Timestamp(date).year\n",
    "    current_month = pd.Timestamp(date).month\n",
    "    current_day = pd.Timestamp(date).day\n",
    "    prev_year = current_year - 1\n",
    "    two_year = current_year - 2\n",
    "    \n",
    "    ytd_start = pd.to_datetime(f\"{current_year}-01-01\")\n",
    "    last_ytd_start = pd.to_datetime(f\"{prev_year}-01-01\")\n",
    "    last_ytd_end = pd.to_datetime(f\"{prev_year}-{current_month}-{current_day}\")\n",
    "    two_ytd_start = pd.to_datetime(f\"{two_year}-01-01\")\n",
    "    two_ytd_end = pd.to_datetime(f\"{two_year}-{current_month}-{current_day}\")\n",
    "\n",
    "    sales_ytd = round(df[(df['date'] >= ytd_start)]['total'].sum(),2)\n",
    "    sales_ytd_formatted = \"{:,.2f}\".format(sales_ytd)\n",
    "    sales_ytd_last_year = df[(df['date'] >=last_ytd_start)& (df['date'] <= last_ytd_end)]['total'].sum()\n",
    "    sales_ytd_two_year = df[(df['date'] >=two_ytd_start)& (df['date'] <= two_ytd_end)]['total'].sum()\n",
    "    percent_vs_last_year_to_date = round(sales_ytd/sales_ytd_last_year*100,2)\n",
    "    percent_vs_two_year_to_date = sales_ytd/sales_ytd_two_year \n",
    "\n",
    "    fig = go.Figure(go.Indicator(\n",
    "        mode=\"gauge+number\",\n",
    "        value=percent_vs_last_year_to_date,\n",
    "        gauge={\n",
    "            'axis': {'range': [None, 100], 'tickwidth': 1, 'tickcolor': 'darkblue'},\n",
    "            'bar': {'color': 'deepskyblue'},\n",
    "            'bgcolor': 'white',\n",
    "            'borderwidth': 2,\n",
    "            'bordercolor': 'gray',\n",
    "            'steps': [{'range': [0, 50], 'color': 'white'},\n",
    "                      {'range': [50, 100], 'color': 'white'},\n",
    "                      {'range': [100, 150], 'color': 'white'},\n",
    "                      {'range': [1500, 200], 'color': 'white'}]\n",
    "        },\n",
    "        domain={'x': [0, 1], 'y': [0, 1]},\n",
    "        #title={'text': \"% of YtD vs past YtD sales\"}\n",
    "    ))\n",
    "\n",
    "    # Add the sales_ytd string as a markdown string to the layout of the fig variable\n",
    "    fig.update_layout(\n",
    "        annotations=[\n",
    "            go.layout.Annotation(\n",
    "                x=0.5,\n",
    "                y=1.2,\n",
    "                showarrow=False,\n",
    "                text=f\"YTD Sales: $ {sales_ytd_formatted}\",\n",
    "                xref=\"paper\",\n",
    "                yref=\"paper\",\n",
    "                align='center',\n",
    "                font=dict(size=18)\n",
    "            ),\n",
    "            go.layout.Annotation(\n",
    "                x=0.5,\n",
    "                y=-0.2,\n",
    "                showarrow=False,\n",
    "                text=f\"{percent_vs_last_year_to_date}% generated vs past YtD sales\",\n",
    "                xref=\"paper\",\n",
    "                yref=\"paper\",\n",
    "                align='center',\n",
    "                font=dict(size=18)\n",
    "            )\n",
    "        ]\n",
    "    )\n",
    "    \n",
    "    return fig\n",
    "new_sales_chart(today_date, df)"
   ]
  },
  {
   "cell_type": "code",
   "execution_count": null,
   "id": "0321f8a9",
   "metadata": {},
   "outputs": [],
   "source": [
    "#displaying a gauge instead of bar chart \n",
    "@app.callback(\n",
    "    Output('sales-chart-2', 'figure'),\n",
    "    [Input('date-picker', 'date')])\n",
    "def updated_new_sales_chart(date):\n",
    "    # Call the new_sales_chart function to generate the figure\n",
    "    fig = new_sales_chart(date, df)\n",
    "    \n",
    "    return fig"
   ]
  },
  {
   "cell_type": "code",
   "execution_count": null,
   "id": "8afab223",
   "metadata": {},
   "outputs": [],
   "source": []
  },
  {
   "cell_type": "code",
   "execution_count": null,
   "id": "8e840f59",
   "metadata": {},
   "outputs": [],
   "source": [
    "def create_sales_chart(df, date):\n",
    "    month = pd.Timestamp(date).to_pydatetime()\n",
    "    sales_mtd = df[(df['month'] == month.month) & (df['year'] == month.year)]['total'].sum()\n",
    "    sales_mtd_formatted = \"{:,.2f}\".format(sales_mtd)\n",
    "    sales_mtd_last_year = df[(df['month'] == month.month) & (df['year'] == month.year - 1)]['total'].sum()\n",
    "    sales_mtd_two_year = df[(df['month'] == month.month) & (df['year'] == month.year - 2)]['total'].sum()\n",
    "    percent_vs_last_year_month = round(sales_mtd/sales_mtd_last_year*100,2)\n",
    "    percent_vs_two_year_month = round(sales_mtd/sales_mtd_two_year*100,2)\n",
    "\n",
    "    labels = ['vs 2Y ago', 'vs last year','MtD']\n",
    "    category_names = [sales_mtd_two_year, sales_mtd_last_year, sales_mtd_formatted]\n",
    "\n",
    "    trace = go.Bar(\n",
    "        x=category_names,\n",
    "        y=labels,\n",
    "        orientation='h',\n",
    "        text=category_names,\n",
    "        textposition='auto',\n",
    "        marker=dict(\n",
    "            color='deepskyblue'\n",
    "        )\n",
    "    )\n",
    "\n",
    "    data = [trace]\n",
    "    layout = go.Layout(\n",
    "        #xaxis=dict(title='Total Sales'),\n",
    "        #yaxis=dict(title='Category'),\n",
    "        margin=dict(l=1)\n",
    "    )\n",
    "\n",
    "    fig = go.Figure(data=data, layout=layout)\n",
    "    return fig\n",
    "create_sales_chart(df, today_date)"
   ]
  },
  {
   "cell_type": "code",
   "execution_count": null,
   "id": "56050f4f",
   "metadata": {},
   "outputs": [],
   "source": [
    "@app.callback(\n",
    "    Output('sales-chart', 'figure'),\n",
    "    [Input('date-picker', 'date')]\n",
    ")\n",
    "def update_sales_chart(date):\n",
    "    month = pd.Timestamp(date).to_pydatetime()\n",
    "    sales_chart = create_sales_chart(df, month)\n",
    "    return sales_chart\n"
   ]
  },
  {
   "cell_type": "code",
   "execution_count": null,
   "id": "84654cd4",
   "metadata": {},
   "outputs": [],
   "source": []
  },
  {
   "cell_type": "code",
   "execution_count": null,
   "id": "04f7e893",
   "metadata": {},
   "outputs": [],
   "source": [
    "today = pd.Timestamp.now().floor('D')\n",
    "def prev_weekday(adate):\n",
    "    adate -= timedelta(days=1)\n",
    "    while adate.weekday() > 4: # Mon-Fri are 0-4\n",
    "        adate -= timedelta(days=1)\n",
    "    return adate\n",
    "overnight_sales = df[(df['date'] >= prev_weekday(today))]['total'].sum()\n",
    "overnight_orders = df[(df['date'] >= prev_weekday(today))]['sales_order_id'].nunique()\n",
    "no_not_complete = df[(df['date'] >= prev_weekday(today))& (df['state_i']!='fulfilled')]['sales_order_id'].nunique()\n",
    "so_not_complete = df[(df['date'] >= prev_weekday(today))& (df['state_i']!='fulfilled')]['sales_order_id'].unique()\n"
   ]
  },
  {
   "cell_type": "code",
   "execution_count": null,
   "id": "09a12b59",
   "metadata": {},
   "outputs": [],
   "source": [
    "@app.callback(\n",
    "    Output('overnight-sales', 'children'),\n",
    "    [Input('date-picker', 'date')]\n",
    ")\n",
    "def update_overnight_sales(date):\n",
    "    # Calculate overnight sales based on selected date\n",
    "    overnight_sales = round(df[(df['date'] >= pd.Timestamp(date).floor('D'))]['total'].sum(),2)\n",
    "    overnight_sales = \"{:,.2f}\".format(overnight_sales)\n",
    "    overnight_orders = df[(df['date'] >= pd.Timestamp(date).floor('D'))]['sales_order_id'].nunique()\n",
    "    no_not_complete = df[(df['date'] >= pd.Timestamp(date).floor('D'))& (df['state_i']!='fulfilled')]['sales_order_id'].nunique()\n",
    "    so_not_complete = df[(df['date'] >= pd.Timestamp(date).floor('D'))& (df['state_i']!='fulfilled')]['sales_order_id'].unique()\n",
    "    return f\"Overnight sales = {overnight_sales} with {overnight_orders} orders, where {no_not_complete} SO are not fulfilled : {so_not_complete}\" \n",
    "update_overnight_sales(today_date)"
   ]
  },
  {
   "cell_type": "code",
   "execution_count": null,
   "id": "df367631",
   "metadata": {},
   "outputs": [],
   "source": []
  },
  {
   "cell_type": "code",
   "execution_count": null,
   "id": "0e85897e",
   "metadata": {},
   "outputs": [],
   "source": [
    "def get_customers_to_chase(df):\n",
    "    # Filter for customers who last ordered this year\n",
    "    current_year = datetime.now().year\n",
    "    \n",
    "    # How long have we got each cust\n",
    "    customer_length = df.groupby('name_o').agg({'sales_order_id_o': 'nunique', 'date': ['min', 'max']})\n",
    "    customer_length['longevity'] = customer_length['date']['max'] - customer_length['date']['min']\n",
    "    customer_length = customer_length.reset_index()\n",
    "    customer_length.columns = ['name_o', 'orders_count', 'first_order', 'last_order', 'longevity']\n",
    "    customer_length['last_order'] = pd.to_datetime(customer_length['last_order'], format='%Y-%m-%d')\n",
    "    filtered_df = customer_length.loc[(customer_length['last_order'].dt.year == current_year)]\n",
    "    sorted_df = filtered_df[['name_o', 'orders_count', 'last_order', 'longevity']].sort_values('last_order').head(10)\n",
    "    # Format the longevity column in years and months\n",
    "    sorted_df['longevity'] = sorted_df['longevity'].apply(lambda x: f'{int(x.days/365)}y {int((x.days%365)/30)}m')\n",
    "    sorted_df['last_order'] = pd.to_datetime(sorted_df['last_order'], format='%Y-%m-%d').dt.strftime('%d-%m-%Y')\n",
    "\n",
    "    fig = go.Figure(data=[go.Table(\n",
    "        columnwidth=1,\n",
    "        header=dict(values=list(sorted_df.columns),\n",
    "                    fill_color='lightgray',\n",
    "                    align=['left', 'center']),\n",
    "        cells=dict(values=[sorted_df.name_o, sorted_df.orders_count, sorted_df.last_order, sorted_df.longevity],\n",
    "                   fill_color='white',\n",
    "                   align=['left', 'center']))\n",
    "    ])\n",
    "\n",
    "    return fig\n",
    "\n",
    "get_customers_to_chase(df)\n"
   ]
  },
  {
   "cell_type": "code",
   "execution_count": null,
   "id": "c4e3feaf",
   "metadata": {},
   "outputs": [],
   "source": [
    "@app.callback(\n",
    "    Output('table', 'figure'),\n",
    "    Input('render-button', 'n_clicks'),\n",
    "    #State('my-dataframe', 'data')\n",
    ")\n",
    "def update_table(n_clicks):\n",
    "    if not n_clicks:\n",
    "        raise PreventUpdate\n",
    "    table = get_customers_to_chase(df)\n",
    "    return table\n",
    "update_table(1)"
   ]
  },
  {
   "cell_type": "code",
   "execution_count": null,
   "id": "e773dbe8",
   "metadata": {},
   "outputs": [],
   "source": [
    "df.info()"
   ]
  },
  {
   "cell_type": "code",
   "execution_count": null,
   "id": "a2da438e-b9a2-4452-9547-7fc48050e654",
   "metadata": {},
   "outputs": [],
   "source": [
    "df['year'].dropna().unique()"
   ]
  },
  {
   "cell_type": "markdown",
   "id": "2317b269-c9b9-4658-921d-97377b6da31d",
   "metadata": {
    "jp-MarkdownHeadingCollapsed": true,
    "tags": []
   },
   "source": [
    "### 9- FIRST TAB - SALES DASHBOARD"
   ]
  },
  {
   "cell_type": "code",
   "execution_count": null,
   "id": "6ac8cdbf",
   "metadata": {},
   "outputs": [],
   "source": [
    "# Sales dashboard\n",
    "sales_tab_content = dbc.Container([\n",
    "     dbc.Row([\n",
    "        dbc.Col(html.H6('...', className='card-title mb-4')),\n",
    "        html.Label('Select year:'), \n",
    "        dcc.Dropdown(\n",
    "            id='year-dropdown',\n",
    "            options=[{'label': str(year), 'value': year} for year in df['year'].dropna().unique()],\n",
    "            value=df['year'].min(),\n",
    "            clearable=False,\n",
    "            searchable=False,\n",
    "            placeholder='Select a year'\n",
    "        ),\n",
    "        ], justify=\"center\", align=\"center\", className='mb-4'),\n",
    "\n",
    "    dbc.Row([\n",
    "        dbc.Col([\n",
    "            dbc.Card([\n",
    "                dbc.CardHeader(html.H5(\"Sales by Top 3 Customers\")),\n",
    "                dbc.CardBody(\n",
    "                    [\n",
    "                        dcc.Graph(id='sales-graph1')\n",
    "                    ], \n",
    "                    style={'height': '100%', 'display': 'flex', 'flex-direction': 'column'}\n",
    "                ),\n",
    "            ], \n",
    "            style={'height': '100%'}\n",
    "            )\n",
    "        ], md=6),\n",
    "        dbc.Col([\n",
    "            dbc.Card([\n",
    "                dbc.CardHeader(html.H5(\"Sales vs Order vs Total SKU\")),\n",
    "                dbc.CardBody(\n",
    "                    [\n",
    "                        dcc.Graph(id='sales-graph-2')\n",
    "                    ],\n",
    "                    style={'height': '100%', 'display': 'flex', 'flex-direction': 'column'}\n",
    "                ),\n",
    "            ], \n",
    "            style={'height': '100%'}\n",
    "            )\n",
    "        ], md=6),\n",
    "    ]),\n",
    "    dbc.Row([\n",
    "        dbc.Col([\n",
    "            dbc.Card([\n",
    "                dbc.CardHeader(html.H5(\"Average Order Value\")),\n",
    "                dbc.CardBody(\n",
    "                    [\n",
    "                        dcc.Graph(id='sales-graph-3')\n",
    "                    ],\n",
    "                    style={'height': '100%', 'display': 'flex', 'flex-direction': 'column'}\n",
    "                ),\n",
    "            ], \n",
    "            style={'height': '100%'}\n",
    "            )\n",
    "        ], md=6),\n",
    "        dbc.Col([\n",
    "            dbc.Card([\n",
    "                dbc.CardHeader(html.H5(\"Sales by Region\")),\n",
    "                dbc.CardBody(\n",
    "                    [\n",
    "                        dcc.Graph(id='sales-graph-4')\n",
    "                    ],\n",
    "                    style={'height': '100%', 'display': 'flex', 'flex-direction': 'column'}\n",
    "                ),\n",
    "            ], \n",
    "            style={'height': '100%'}\n",
    "            )\n",
    "        ], md=6),\n",
    "    ]),\n",
    "], fluid=True, style={'padding': '2rem'})"
   ]
  },
  {
   "cell_type": "code",
   "execution_count": null,
   "id": "0e0868e0",
   "metadata": {},
   "outputs": [],
   "source": [
    "# Calculate total sales by customer over the entire period\n",
    "total_sales_by_customer = df.groupby('name_o')['total'].sum()\n",
    "\n",
    "# Select top 20 customers based on their total sales\n",
    "top_customers = total_sales_by_customer.nlargest(20).index.tolist()\n",
    "\n",
    "# Create a dictionary of colors for the top 20 customers\n",
    "customer_colors = {customer: px.colors.qualitative.Pastel1[i % len(px.colors.qualitative.Pastel1)]\n",
    "                   for i, customer in enumerate(top_customers)}\n",
    "\n",
    "# Add a color for 'others'\n",
    "customer_colors['others'] = 'gray'\n",
    "\n",
    "# Assign colors to each customer using the color mapping dictionary\n",
    "def assign_color(customer):\n",
    "    if customer in customer_colors:\n",
    "        return customer_colors[customer]\n",
    "    else:\n",
    "        return 'gray'\n",
    "\n",
    "@app.callback(\n",
    "    Output('sales-graph1', 'figure'),\n",
    "    [Input('year-dropdown', 'value')])\n",
    "def update_sales_graph_1(selected_year):\n",
    "    filtered_df = df[df['year'] == selected_year]\n",
    "\n",
    "    # Calculate total sales by month and customer\n",
    "    sales_by_month_customer = filtered_df.groupby(['month', 'name_o'])['total'].sum().reset_index()\n",
    "\n",
    "    # Find top customers for each month\n",
    "    top_customers_by_month = sales_by_month_customer.groupby('month').apply(lambda x: x.nlargest(3, 'total')).reset_index(drop=True)\n",
    "\n",
    "    # Group the remaining customers as \"others\"\n",
    "    remaining_customers_by_month = sales_by_month_customer[~sales_by_month_customer['name_o'].isin(top_customers)]\n",
    "    remaining_customers_by_month = remaining_customers_by_month.groupby('month').sum().reset_index()\n",
    "    remaining_customers_by_month['name_o'] = 'others'\n",
    "\n",
    "    # Concatenate the top customers and the \"others\" dataframes\n",
    "    sales_by_month_customer = pd.concat([top_customers_by_month, remaining_customers_by_month])\n",
    "\n",
    "    # Assign colors to each customer using the color mapping dictionary\n",
    "    sales_by_month_customer['color'] = sales_by_month_customer['name_o'].apply(assign_color)\n",
    "\n",
    "    # Create stacked bar chart of sales by customer\n",
    "    fig = px.bar(sales_by_month_customer, x='month', y='total', color='name_o', color_discrete_map=customer_colors)\n",
    "    fig.update_layout(\n",
    "        title=f'Top 3 customers and others by month ({selected_year})',\n",
    "        xaxis_title='Month',\n",
    "        yaxis_title='Total Sales ($)',\n",
    "        barmode='stack'\n",
    "    )\n",
    "    return fig\n",
    "update_sales_graph_1(2020)"
   ]
  },
  {
   "cell_type": "code",
   "execution_count": null,
   "id": "15cbbffb",
   "metadata": {},
   "outputs": [],
   "source": [
    "@app.callback(\n",
    "    Output('sales-graph-2', 'figure'),\n",
    "    [Input('year-dropdown', 'value')])\n",
    "def update_sales_graph_2(selected_year):\n",
    "    filtered_df = df[df['year'] == selected_year]\n",
    "    \n",
    "    # Total Sales trend by month\n",
    "    sales_by_month = filtered_df.groupby(pd.Grouper(key='date', freq='M')).sum()['total']\n",
    "    sales_trace = go.Scatter(x=sales_by_month.index, y=sales_by_month.values, mode='lines', name='Total Sales')\n",
    "\n",
    "    # Total Unique Orders trend by month\n",
    "    unique_orders_by_month = filtered_df.groupby(pd.Grouper(key='date', freq='M'))['id'].nunique()\n",
    "    unique_orders_trace = go.Scatter(x=unique_orders_by_month.index, y=unique_orders_by_month.values, mode='lines', name='Total Unique Orders')\n",
    "\n",
    "    # Total SKU trend by month\n",
    "    total_sku_by_month = filtered_df.groupby(pd.Grouper(key='date', freq='M'))['quantity'].sum()\n",
    "    total_sku_trace = go.Scatter(x=total_sku_by_month.index, y=total_sku_by_month.values, mode='lines', name='Total SKUs')\n",
    "    \n",
    "    fig = go.Figure()\n",
    "    \n",
    "    fig.add_trace(sales_trace)\n",
    "    fig.add_trace(unique_orders_trace)\n",
    "    fig.add_trace(total_sku_trace)\n",
    "\n",
    "    fig.update_layout(\n",
    "        font=dict(size=10),\n",
    "        margin=dict(l=20, r=20, t=40, b=20),\n",
    "        paper_bgcolor=\"white\",\n",
    "        plot_bgcolor=\"white\",\n",
    "        xaxis_title='Month',\n",
    "        yaxis_title='Total',\n",
    "        title=\"Sales, Unique Orders, and SKUs Trend\"\n",
    "    )\n",
    "\n",
    "    return fig\n",
    "update_sales_graph_2(2021)"
   ]
  },
  {
   "cell_type": "markdown",
   "id": "a9076edb-5983-424a-96be-2f105f868a03",
   "metadata": {
    "jp-MarkdownHeadingCollapsed": true,
    "tags": []
   },
   "source": [
    "### 10- SECOND TAB : CLIENT DASHBOARD"
   ]
  },
  {
   "cell_type": "code",
   "execution_count": null,
   "id": "2ef248b8",
   "metadata": {},
   "outputs": [],
   "source": [
    "clients_tab_content = dbc.Card(\n",
    "    dbc.CardBody(\"tab to fill per client\")\n",
    ")"
   ]
  },
  {
   "cell_type": "markdown",
   "id": "66edc1d8-da11-4c1d-b339-91ccf57b250c",
   "metadata": {
    "jp-MarkdownHeadingCollapsed": true,
    "tags": []
   },
   "source": [
    "### 11- THIRD TAB : PROSPECT DASHBOARD"
   ]
  },
  {
   "cell_type": "code",
   "execution_count": null,
   "id": "e74be6b0",
   "metadata": {},
   "outputs": [],
   "source": [
    "prospects_tab_content = dbc.Card(\n",
    "    dbc.CardBody(\"habits and nudge\")\n",
    ")"
   ]
  },
  {
   "cell_type": "markdown",
   "id": "a2f8e8d5-f85d-458d-826f-605efdc1ce06",
   "metadata": {
    "tags": []
   },
   "source": [
    "### 12- GLOBAL LAYOUT > END"
   ]
  },
  {
   "cell_type": "code",
   "execution_count": null,
   "id": "9f4ffc49",
   "metadata": {},
   "outputs": [],
   "source": [
    "# Define tabs\n",
    "tabs = dbc.Tabs(\n",
    "    [\n",
    "        dbc.Tab(label=\"Historic Sales\", children=sales_tab_content),\n",
    "        dbc.Tab(label=\"Customer Analysis\", children=clients_tab_content),\n",
    "        dbc.Tab(label=\"Prospects Market Research\", children=prospects_tab_content),\n",
    "    ],\n",
    "    id=\"tabs\",\n",
    "    active_tab=\"Historic Sales\",\n",
    ")"
   ]
  },
  {
   "cell_type": "code",
   "execution_count": 23,
   "id": "e2231e38",
   "metadata": {
    "tags": []
   },
   "outputs": [],
   "source": [
    "# Define app layout\n",
    "app.layout = html.Div([\n",
    "    navbar,\n",
    "    html.Div(id='table-container'),\n",
    "    #page_layout,\n",
    "    # dbc.Container([\n",
    "    #     dbc.Row([\n",
    "    #         dbc.Col([\n",
    "    #             tabs,\n",
    "    #         ]),\n",
    "    #     ], className='mt-4')\n",
    "    # ])\n",
    "], style={'padding': '0rem 0rem 2rem 0rem'})"
   ]
  },
  {
   "cell_type": "code",
   "execution_count": null,
   "id": "559b1170",
   "metadata": {},
   "outputs": [],
   "source": []
  },
  {
   "cell_type": "code",
   "execution_count": 24,
   "id": "0f88f636",
   "metadata": {
    "tags": []
   },
   "outputs": [],
   "source": [
    "# # Update the page content based on the url\n",
    "# @app.callback(Output(\"page-content\", \"children\"), [Input(\"url\", \"pathname\")])\n",
    "# def render_page_content(pathname):\n",
    "#     if pathname == \"/\":\n",
    "#         return landing_page\n",
    "#     elif pathname == \"/apps/sales\":\n",
    "#         return sales_dashboard\n",
    "#     elif pathname == \"/apps/clients\":\n",
    "#         return clients_dashboard\n",
    "#     elif pathname == \"/apps/prospects\":\n",
    "#         return prospects_dashboard\n",
    "#     else:\n",
    "#         return html.P(\"Page not found\")\n"
   ]
  },
  {
   "cell_type": "code",
   "execution_count": null,
   "id": "9a5075e6",
   "metadata": {
    "tags": []
   },
   "outputs": [
    {
     "name": "stdout",
     "output_type": "stream",
     "text": [
      "Dash is running on http://127.0.0.1:8077/\n",
      "\n",
      " * Serving Flask app '__main__'\n",
      " * Debug mode: on\n"
     ]
    }
   ],
   "source": [
    "# Set the app layout\n",
    "#app.layout = app_layout\n",
    "if __name__ == '__main__':\n",
    "    app.run_server(debug=True, use_reloader=False, port=8077)"
   ]
  },
  {
   "cell_type": "code",
   "execution_count": null,
   "id": "5c3fa0e5",
   "metadata": {},
   "outputs": [],
   "source": []
  },
  {
   "cell_type": "code",
   "execution_count": null,
   "id": "7cb201f3",
   "metadata": {},
   "outputs": [],
   "source": []
  },
  {
   "cell_type": "code",
   "execution_count": null,
   "id": "35fef887",
   "metadata": {},
   "outputs": [],
   "source": []
  },
  {
   "cell_type": "code",
   "execution_count": null,
   "id": "e81f768f",
   "metadata": {},
   "outputs": [],
   "source": []
  },
  {
   "cell_type": "code",
   "execution_count": null,
   "id": "5f53462c",
   "metadata": {},
   "outputs": [],
   "source": []
  }
 ],
 "metadata": {
  "kernelspec": {
   "display_name": "Python 3 (ipykernel)",
   "language": "python",
   "name": "python3"
  },
  "language_info": {
   "codemirror_mode": {
    "name": "ipython",
    "version": 3
   },
   "file_extension": ".py",
   "mimetype": "text/x-python",
   "name": "python",
   "nbconvert_exporter": "python",
   "pygments_lexer": "ipython3",
   "version": "3.10.10"
  },
  "widgets": {
   "application/vnd.jupyter.widget-state+json": {
    "state": {},
    "version_major": 2,
    "version_minor": 0
   }
  }
 },
 "nbformat": 4,
 "nbformat_minor": 5
}
